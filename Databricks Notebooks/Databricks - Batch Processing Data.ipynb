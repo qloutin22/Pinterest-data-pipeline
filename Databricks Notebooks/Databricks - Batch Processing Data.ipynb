{
 "cells": [
  {
   "cell_type": "code",
   "execution_count": null,
   "metadata": {},
   "outputs": [],
   "source": [
    "\"This Jupyter Notebook is a copy Databricks notebook and was used in the batch data processing part of this project\""
   ]
  },
  {
   "cell_type": "code",
   "execution_count": null,
   "metadata": {
    "application/vnd.databricks.v1+cell": {
     "cellMetadata": {
      "byteLimit": 2048000,
      "rowLimit": 10000
     },
     "inputWidgets": {},
     "nuid": "28bd6935-0202-4dfc-b021-8f8b57f26590",
     "showTitle": false,
     "title": ""
    }
   },
   "outputs": [
    {
     "data": {
      "text/html": [
       "<style scoped>\n",
       "  .ansiout {\n",
       "    display: block;\n",
       "    unicode-bidi: embed;\n",
       "    white-space: pre-wrap;\n",
       "    word-wrap: break-word;\n",
       "    word-break: break-all;\n",
       "    font-family: \"Menlo\", \"Monaco\", \"Consolas\", \"Ubuntu Mono\", \"Source Code Pro\", monospace;\n",
       "    font-size: 13px;\n",
       "    color: #555;\n",
       "    margin-left: 4px;\n",
       "    line-height: 19px;\n",
       "  }\n",
       "</style>\n",
       "<div class=\"ansiout\"></div>"
      ]
     },
     "metadata": {
      "application/vnd.databricks.v1+output": {
       "addedWidgets": {},
       "arguments": {},
       "data": "<div class=\"ansiout\"></div>",
       "datasetInfos": [],
       "metadata": {},
       "removedWidgets": [],
       "type": "html"
      }
     },
     "output_type": "display_data"
    }
   ],
   "source": [
    "from pyspark.sql.functions import *\n",
    "import urllib"
   ]
  },
  {
   "cell_type": "code",
   "execution_count": null,
   "metadata": {
    "application/vnd.databricks.v1+cell": {
     "cellMetadata": {
      "byteLimit": 2048000,
      "rowLimit": 10000
     },
     "inputWidgets": {},
     "nuid": "062037d2-1b58-4299-a87e-a2c03cf577fd",
     "showTitle": false,
     "title": ""
    }
   },
   "outputs": [
    {
     "data": {
      "text/html": [
       "<style scoped>\n",
       "  .ansiout {\n",
       "    display: block;\n",
       "    unicode-bidi: embed;\n",
       "    white-space: pre-wrap;\n",
       "    word-wrap: break-word;\n",
       "    word-break: break-all;\n",
       "    font-family: \"Menlo\", \"Monaco\", \"Consolas\", \"Ubuntu Mono\", \"Source Code Pro\", monospace;\n",
       "    font-size: 13px;\n",
       "    color: #555;\n",
       "    margin-left: 4px;\n",
       "    line-height: 19px;\n",
       "  }\n",
       "</style>\n",
       "<div class=\"ansiout\"></div>"
      ]
     },
     "metadata": {
      "application/vnd.databricks.v1+output": {
       "addedWidgets": {},
       "arguments": {},
       "data": "<div class=\"ansiout\"></div>",
       "datasetInfos": [],
       "metadata": {},
       "removedWidgets": [],
       "type": "html"
      }
     },
     "output_type": "display_data"
    }
   ],
   "source": [
    "\"\"\"\n",
    "    Why was this code used?\n",
    "    \n",
    "    This code was used to define the path to the delta tables and read the delta tables into the Spark dataframe.\n",
    "\"\"\"\n",
    "delta_table_path = \"dbfs:/user/hive/warehouse/authentication_credentials\"\n",
    "aws_keys_df = spark.read.format(\"delta\").load(delta_table_path)"
   ]
  },
  {
   "cell_type": "code",
   "execution_count": null,
   "metadata": {
    "application/vnd.databricks.v1+cell": {
     "cellMetadata": {
      "byteLimit": 2048000,
      "rowLimit": 10000
     },
     "inputWidgets": {},
     "nuid": "931cb8f2-0c19-409a-b370-26c12e5c5cc4",
     "showTitle": false,
     "title": ""
    }
   },
   "outputs": [
    {
     "data": {
      "text/html": [
       "<style scoped>\n",
       "  .ansiout {\n",
       "    display: block;\n",
       "    unicode-bidi: embed;\n",
       "    white-space: pre-wrap;\n",
       "    word-wrap: break-word;\n",
       "    word-break: break-all;\n",
       "    font-family: \"Menlo\", \"Monaco\", \"Consolas\", \"Ubuntu Mono\", \"Source Code Pro\", monospace;\n",
       "    font-size: 13px;\n",
       "    color: #555;\n",
       "    margin-left: 4px;\n",
       "    line-height: 19px;\n",
       "  }\n",
       "</style>\n",
       "<div class=\"ansiout\"></div>"
      ]
     },
     "metadata": {
      "application/vnd.databricks.v1+output": {
       "addedWidgets": {},
       "arguments": {},
       "data": "<div class=\"ansiout\"></div>",
       "datasetInfos": [],
       "metadata": {},
       "removedWidgets": [],
       "type": "html"
      }
     },
     "output_type": "display_data"
    }
   ],
   "source": [
    "\"\"\"\n",
    "    Why was this code used?\n",
    "    \n",
    "    This code was used to Get the AWS access key and secret key from the spark dataframe and Encode the secrete key.\n",
    "\"\"\"\n",
    "ACCESS_KEY = aws_keys_df.select('Access key ID').collect()[0]['Access key ID']\n",
    "SECRET_KEY = aws_keys_df.select('Secret access key').collect()[0]['Secret access key']\n",
    "ENCODED_SECRET_KEY = urllib.parse.quote(string=SECRET_KEY, safe=\"\")"
   ]
  },
  {
   "cell_type": "code",
   "execution_count": null,
   "metadata": {
    "application/vnd.databricks.v1+cell": {
     "cellMetadata": {
      "byteLimit": 2048000,
      "rowLimit": 10000
     },
     "inputWidgets": {},
     "nuid": "6308daf6-0bdc-4c3e-8efb-89c99ff9ad1d",
     "showTitle": false,
     "title": ""
    }
   },
   "outputs": [],
   "source": [
    "\"\"\"\n",
    "    Why was this code used?\n",
    "    \n",
    "    This code was used to identify the AWS S3 bucket name ,Mount name for the bucket,Source url,Mount the drive\n",
    "\"\"\"\n",
    "AWS_S3_BUCKET = \"user-0abf7f0cd605-bucket\"\n",
    "MOUNT_NAME = \"/mnt/0abf7f0cd605_mount/\"\n",
    "SOURCE_URL = \"s3n://{0}:{1}@{2}\".format(ACCESS_KEY, ENCODED_SECRET_KEY, AWS_S3_BUCKET)\n",
    "dbutils.fs.mount(SOURCE_URL, MOUNT_NAME)"
   ]
  },
  {
   "cell_type": "code",
   "execution_count": null,
   "metadata": {
    "application/vnd.databricks.v1+cell": {
     "cellMetadata": {
      "byteLimit": 2048000,
      "rowLimit": 10000
     },
     "inputWidgets": {},
     "nuid": "73f78107-c05c-4a5d-8f28-6d82c1e9312f",
     "showTitle": false,
     "title": ""
    }
   },
   "outputs": [],
   "source": [
    "display(dbutils.fs.ls(\"/0abf7f0cd605_mount../..\"))"
   ]
  },
  {
   "cell_type": "code",
   "execution_count": null,
   "metadata": {
    "application/vnd.databricks.v1+cell": {
     "cellMetadata": {
      "byteLimit": 2048000,
      "implicitDf": true,
      "rowLimit": 10000
     },
     "inputWidgets": {},
     "nuid": "c64e35b3-85f2-41dc-96ea-ebd49137078c",
     "showTitle": false,
     "title": ""
    },
    "vscode": {
     "languageId": "sql"
    }
   },
   "outputs": [],
   "source": [
    "%sql\n",
    "\n",
    "SET spark.databricks.delta.formatCheck.enabled=false"
   ]
  },
  {
   "cell_type": "code",
   "execution_count": null,
   "metadata": {
    "application/vnd.databricks.v1+cell": {
     "cellMetadata": {
      "byteLimit": 2048000,
      "rowLimit": 10000
     },
     "inputWidgets": {},
     "nuid": "681c07c0-a8fe-4215-adfb-65b08872be47",
     "showTitle": false,
     "title": ""
    }
   },
   "outputs": [],
   "source": [
    "\"\"\"\n",
    "    Why was this code used?\n",
    "    \n",
    "    This code was used to identify File location and type , \n",
    "    sterisk(*) indicates reading all the content of the specified file that have .json extension , \n",
    "    Ask Spark to infer the schema and \n",
    "    Read in JSONs from mounted S3 bucket\n",
    "\"\"\"\n",
    "file_location = \"/mnt/0abf7f0cd605_mount/topics/0abf7f0cd605.pin/partition=0/*.json\"\n",
    "file_type = \"json\"\n",
    "infer_schema = \"true\"\n",
    "df_pin = spark.read.format(file_type) \\\n",
    ".option(\"inferSchema\", infer_schema) \\\n",
    ".load(file_location)\n",
    "display(df_pin)"
   ]
  },
  {
   "cell_type": "code",
   "execution_count": null,
   "metadata": {
    "application/vnd.databricks.v1+cell": {
     "cellMetadata": {
      "byteLimit": 2048000,
      "rowLimit": 10000
     },
     "inputWidgets": {},
     "nuid": "1df3125d-b639-4b1e-9c4a-d22aa2cd344a",
     "showTitle": false,
     "title": ""
    }
   },
   "outputs": [],
   "source": [
    "\"\"\"\n",
    "Why was this code used?\n",
    "\n",
    "This code was used to find the data file paths in datadricks\n",
    "    \"\"\"\n",
    "%fs ls dbfs:/mnt/0abf7f0cd605_mount/topics/"
   ]
  },
  {
   "cell_type": "code",
   "execution_count": null,
   "metadata": {
    "application/vnd.databricks.v1+cell": {
     "cellMetadata": {
      "byteLimit": 2048000,
      "rowLimit": 10000
     },
     "inputWidgets": {},
     "nuid": "627c3da3-1689-4903-ae33-2685b5cb36cf",
     "showTitle": false,
     "title": ""
    }
   },
   "outputs": [],
   "source": [
    "\n",
    "file_location = \"/mnt/0abf7f0cd605_mount/topics/0abf7f0cd605.geo/partition=0/*.json\"\n",
    "file_type = \"json\"\n",
    "infer_schema = \"true\"\n",
    "df_user = spark.read.format(file_type) \\\n",
    ".option(\"inferSchema\", infer_schema) \\\n",
    ".load(file_location)\n",
    "display(df_geo)"
   ]
  },
  {
   "cell_type": "code",
   "execution_count": null,
   "metadata": {
    "application/vnd.databricks.v1+cell": {
     "cellMetadata": {
      "byteLimit": 2048000,
      "rowLimit": 10000
     },
     "inputWidgets": {},
     "nuid": "a888715f-07ef-4f80-9ef2-7484972e22ab",
     "showTitle": false,
     "title": ""
    }
   },
   "outputs": [],
   "source": [
    "file_location = \"/mnt/0abf7f0cd605_mount/topics/0abf7f0cd605.user/partition=0/*.json\"\n",
    "file_type = \"json\"\n",
    "infer_schema = \"true\"\n",
    "df_geo = spark.read.format(file_type) \\\n",
    ".option(\"inferSchema\", infer_schema) \\\n",
    ".load(file_location)\n",
    "display(df_user)"
   ]
  },
  {
   "cell_type": "code",
   "execution_count": null,
   "metadata": {
    "application/vnd.databricks.v1+cell": {
     "cellMetadata": {
      "byteLimit": 2048000,
      "rowLimit": 10000
     },
     "inputWidgets": {},
     "nuid": "41ef0705-f224-41b5-aced-058955958d49",
     "showTitle": false,
     "title": ""
    }
   },
   "outputs": [],
   "source": [
    "\"\"\" why is this code used?\n",
    "  \n",
    "  This code is uses a function to clean the pin data into a standarised format.\n",
    "  It replace misssing values with nones\n",
    "  converts interger types , renames colums and reorders the dataframe\n",
    "  \n",
    "  \n",
    "  \"\"\"\n",
    "\n",
    "\n",
    "from pyspark.sql.functions import col, regexp_replace\n",
    "from pyspark.sql.types import IntegerType\n",
    "\n",
    "cleaned_pin_df = df_pin \\\n",
    "    .replace({'': None, 'User Info Error': None, 'Image src error.': None}, subset=['category', 'follower_count', 'image_src']) \\\n",
    "    .withColumn(\"follower_count\", regexp_replace(regexp_replace(col(\"follower_count\"), \"k\", \"000\"), \"M\", \"000000\")) \n",
    "cleaned_pin_df = cleaned_pin_df.withColumn(\"follower_count\", col(\"follower_count\").cast(IntegerType()))\n",
    "cleaned_pin_df = cleaned_pin_df.withColumn(\"age\", col(\"age\").cast(IntegerType()))\n",
    "cleaned_pin_df = cleaned_pin_df.withColumn(\"index\", col(\"index\").cast(IntegerType()))\n",
    "cleaned_pin_df = cleaned_pin_df.withColumn(\"save_location\", regexp_replace(\"save_location\", \"Local save in\", \"\"))\n",
    "cleaned_pin_df = cleaned_pin_df.withColumnRenamed(\"index\",\"ind\") \n",
    "cleaned_pin_df = cleaned_pin_df.select([\"ind\",\"unique_id\",\"title\",\"description\",\"follower_count\",\"poster_name\",\"tag_list\",\"is_image_or_video\",\"image_src\",\"save_location\",\"category\"])\n",
    "\n",
    "display(clean ed_pin_df)\n"
   ]
  },
  {
   "cell_type": "code",
   "execution_count": null,
   "metadata": {
    "application/vnd.databricks.v1+cell": {
     "cellMetadata": {
      "byteLimit": 2048000,
      "rowLimit": 10000
     },
     "inputWidgets": {},
     "nuid": "f5fb4e48-57da-4a20-a07a-a9a89111f180",
     "showTitle": false,
     "title": ""
    }
   },
   "outputs": [],
   "source": [
    "\"\"\" why is this code used?\n",
    "  \n",
    "This code was used to clean the geo data.\n",
    "It creates a new column coordinates which is a combination of 2 coloums\n",
    "It Drop the latitude and longitude \n",
    "it converts to a timestamp column\n",
    "It drops additional columns\n",
    "It also reorders the dataframe columns\n",
    "  \n",
    "  \"\"\"\n",
    "\n",
    "from pyspark.sql.functions import lit,concat\n",
    "cleaned_geo_df = df_user.withColumn( \"coordinates\",concat(\"latitude\", lit(\",\"), \"longitude\"))\n",
    "cleaned_geo_df = cleaned_geo_df.drop('latitude', 'longitude')\n",
    "cleaned_geo_df = cleaned_geo_df.withColumn(\"timestamp\", to_timestamp(\"timestamp\"))\n",
    "cleaned_geo_df = cleaned_geo_df.drop('name', 'role')\n",
    "cleaned_geo_df = cleaned_geo_df.select('ind','country','coordinates','timestamp')\n",
    "\n",
    "display(cleaned_geo_df)\n",
    "\n"
   ]
  },
  {
   "cell_type": "code",
   "execution_count": null,
   "metadata": {
    "application/vnd.databricks.v1+cell": {
     "cellMetadata": {
      "byteLimit": 2048000,
      "rowLimit": 10000
     },
     "inputWidgets": {},
     "nuid": "7da6fc6b-0d1e-4463-8246-16a55696162f",
     "showTitle": false,
     "title": ""
    }
   },
   "outputs": [],
   "source": [
    "\"\"\" why is this code used?\n",
    "  \n",
    "This code was used to clean the user data.\n",
    "It Creates a new column user_name \n",
    "It Drops the first_name and last_name columns \n",
    "It Converts the date_joined timestamp data\n",
    "It Drops additonal colums dropped \n",
    "It reorders the Data Frame\n",
    "  \n",
    "  \"\"\"\n",
    "\n",
    "cleaned_user_df = df_geo.withColumn(\"user_name\",concat(\"first_name\", lit(\" \"), \"last_name\"))\n",
    "cleaned_user_df = cleaned_user_df.drop('first_name', 'last_name')\n",
    "cleaned_user_df = cleaned_user_df.withColumn(\"date_joined\", to_timestamp(\"date_joined\"))\n",
    "cleaned_user_df = cleaned_user_df.drop('role')\n",
    "cleaned_user_df = cleaned_user_df.select('ind','user_name','age','date_joined')\n",
    "\n",
    "display(cleaned_user_df)"
   ]
  },
  {
   "cell_type": "code",
   "execution_count": null,
   "metadata": {
    "application/vnd.databricks.v1+cell": {
     "cellMetadata": {
      "byteLimit": 2048000,
      "rowLimit": 10000
     },
     "inputWidgets": {},
     "nuid": "bbfe6cc1-7d8d-4ba4-ae6c-04d2f4c1ae45",
     "showTitle": false,
     "title": ""
    }
   },
   "outputs": [],
   "source": [
    "#Find the most popular Pinterest category people post to based on their country\n",
    "\n",
    "from pyspark.sql.functions import count\n",
    "\n",
    "most_popular_df = cleaned_geo_df.alias(\"geo\").join(\n",
    "  cleaned_pin_df.alias(\"pin\"),\n",
    "  cleaned_geo_df[\"ind\"] == cleaned_pin_df[\"ind\"],\n",
    "  how=\"inner\"\n",
    ").groupBy(\"category\", \"country\").agg(count(\"*\").alias(\"category_count\")).orderZBy(\"category_count\", ascending=False)\n",
    "\n",
    "display(most_popular_df)\n",
    "\n",
    "\n"
   ]
  },
  {
   "cell_type": "code",
   "execution_count": null,
   "metadata": {
    "application/vnd.databricks.v1+cell": {
     "cellMetadata": {
      "byteLimit": 2048000,
      "rowLimit": 10000
     },
     "inputWidgets": {},
     "nuid": "b9cbc598-2ef7-494b-a88f-90fa9d34c533",
     "showTitle": false,
     "title": ""
    }
   },
   "outputs": [
    {
     "data": {
      "text/html": [
       "<style scoped>\n",
       "  .table-result-container {\n",
       "    max-height: 300px;\n",
       "    overflow: auto;\n",
       "  }\n",
       "  table, th, td {\n",
       "    border: 1px solid black;\n",
       "    border-collapse: collapse;\n",
       "  }\n",
       "  th, td {\n",
       "    padding: 5px;\n",
       "  }\n",
       "  th {\n",
       "    text-align: left;\n",
       "  }\n",
       "</style><div class='table-result-container'><table class='table-result'><thead style='background-color: white'><tr><th>category</th><th>year</th><th>category_count</th></tr></thead><tbody><tr><td>mens-fashion</td><td>2020</td><td>156</td></tr><tr><td>education</td><td>2021</td><td>38</td></tr><tr><td>christmas</td><td>2022</td><td>37</td></tr><tr><td>art</td><td>2021</td><td>37</td></tr><tr><td>finance</td><td>2021</td><td>36</td></tr><tr><td>diy-and-crafts</td><td>2018</td><td>36</td></tr><tr><td>art</td><td>2020</td><td>34</td></tr><tr><td>home-decor</td><td>2020</td><td>33</td></tr><tr><td>art</td><td>2019</td><td>32</td></tr><tr><td>quotes</td><td>2021</td><td>32</td></tr><tr><td>christmas</td><td>2018</td><td>32</td></tr><tr><td>christmas</td><td>2020</td><td>30</td></tr><tr><td>christmas</td><td>2021</td><td>29</td></tr><tr><td>vehicles</td><td>2021</td><td>28</td></tr><tr><td>finance</td><td>2020</td><td>28</td></tr><tr><td>education</td><td>2018</td><td>28</td></tr><tr><td>quotes</td><td>2018</td><td>27</td></tr><tr><td>quotes</td><td>2022</td><td>27</td></tr><tr><td>travel</td><td>2018</td><td>27</td></tr><tr><td>beauty</td><td>2022</td><td>27</td></tr><tr><td>event-planning</td><td>2020</td><td>27</td></tr><tr><td>christmas</td><td>2019</td><td>26</td></tr><tr><td>finance</td><td>2018</td><td>26</td></tr><tr><td>vehicles</td><td>2019</td><td>26</td></tr><tr><td>education</td><td>2019</td><td>25</td></tr><tr><td>tattoos</td><td>2022</td><td>25</td></tr><tr><td>diy-and-crafts</td><td>2019</td><td>25</td></tr><tr><td>travel</td><td>2020</td><td>25</td></tr><tr><td>tattoos</td><td>2021</td><td>25</td></tr><tr><td>diy-and-crafts</td><td>2022</td><td>24</td></tr><tr><td>travel</td><td>2019</td><td>24</td></tr><tr><td>event-planning</td><td>2021</td><td>24</td></tr><tr><td>travel</td><td>2021</td><td>24</td></tr><tr><td>art</td><td>2018</td><td>23</td></tr><tr><td>diy-and-crafts</td><td>2021</td><td>23</td></tr><tr><td>art</td><td>2022</td><td>22</td></tr><tr><td>beauty</td><td>2020</td><td>21</td></tr><tr><td>finance</td><td>2019</td><td>21</td></tr><tr><td>finance</td><td>2022</td><td>21</td></tr><tr><td>quotes</td><td>2019</td><td>21</td></tr><tr><td>tattoos</td><td>2018</td><td>21</td></tr><tr><td>quotes</td><td>2020</td><td>20</td></tr><tr><td>home-decor</td><td>2018</td><td>20</td></tr><tr><td>mens-fashion</td><td>2018</td><td>20</td></tr><tr><td>mens-fashion</td><td>2019</td><td>20</td></tr><tr><td>event-planning</td><td>2018</td><td>20</td></tr><tr><td>travel</td><td>2022</td><td>20</td></tr><tr><td>home-decor</td><td>2022</td><td>19</td></tr><tr><td>tattoos</td><td>2019</td><td>19</td></tr><tr><td>mens-fashion</td><td>2021</td><td>19</td></tr><tr><td>mens-fashion</td><td>2022</td><td>19</td></tr><tr><td>beauty</td><td>2018</td><td>18</td></tr><tr><td>vehicles</td><td>2018</td><td>18</td></tr><tr><td>diy-and-crafts</td><td>2020</td><td>18</td></tr><tr><td>tattoos</td><td>2020</td><td>18</td></tr><tr><td>education</td><td>2020</td><td>17</td></tr><tr><td>event-planning</td><td>2019</td><td>17</td></tr><tr><td>education</td><td>2022</td><td>17</td></tr><tr><td>beauty</td><td>2021</td><td>16</td></tr><tr><td>home-decor</td><td>2019</td><td>15</td></tr><tr><td>beauty</td><td>2019</td><td>14</td></tr><tr><td>vehicles</td><td>2020</td><td>14</td></tr><tr><td>vehicles</td><td>2022</td><td>13</td></tr><tr><td>event-planning</td><td>2022</td><td>12</td></tr><tr><td>home-decor</td><td>2021</td><td>10</td></tr></tbody></table></div>"
      ]
     },
     "metadata": {
      "application/vnd.databricks.v1+output": {
       "addedWidgets": {},
       "aggData": [],
       "aggError": "",
       "aggOverflow": false,
       "aggSchema": [],
       "aggSeriesLimitReached": false,
       "aggType": "",
       "arguments": {},
       "columnCustomDisplayInfos": {},
       "data": [
        [
         "mens-fashion",
         2020,
         156
        ],
        [
         "education",
         2021,
         38
        ],
        [
         "christmas",
         2022,
         37
        ],
        [
         "art",
         2021,
         37
        ],
        [
         "finance",
         2021,
         36
        ],
        [
         "diy-and-crafts",
         2018,
         36
        ],
        [
         "art",
         2020,
         34
        ],
        [
         "home-decor",
         2020,
         33
        ],
        [
         "art",
         2019,
         32
        ],
        [
         "quotes",
         2021,
         32
        ],
        [
         "christmas",
         2018,
         32
        ],
        [
         "christmas",
         2020,
         30
        ],
        [
         "christmas",
         2021,
         29
        ],
        [
         "vehicles",
         2021,
         28
        ],
        [
         "finance",
         2020,
         28
        ],
        [
         "education",
         2018,
         28
        ],
        [
         "quotes",
         2018,
         27
        ],
        [
         "quotes",
         2022,
         27
        ],
        [
         "travel",
         2018,
         27
        ],
        [
         "beauty",
         2022,
         27
        ],
        [
         "event-planning",
         2020,
         27
        ],
        [
         "christmas",
         2019,
         26
        ],
        [
         "finance",
         2018,
         26
        ],
        [
         "vehicles",
         2019,
         26
        ],
        [
         "education",
         2019,
         25
        ],
        [
         "tattoos",
         2022,
         25
        ],
        [
         "diy-and-crafts",
         2019,
         25
        ],
        [
         "travel",
         2020,
         25
        ],
        [
         "tattoos",
         2021,
         25
        ],
        [
         "diy-and-crafts",
         2022,
         24
        ],
        [
         "travel",
         2019,
         24
        ],
        [
         "event-planning",
         2021,
         24
        ],
        [
         "travel",
         2021,
         24
        ],
        [
         "art",
         2018,
         23
        ],
        [
         "diy-and-crafts",
         2021,
         23
        ],
        [
         "art",
         2022,
         22
        ],
        [
         "beauty",
         2020,
         21
        ],
        [
         "finance",
         2019,
         21
        ],
        [
         "finance",
         2022,
         21
        ],
        [
         "quotes",
         2019,
         21
        ],
        [
         "tattoos",
         2018,
         21
        ],
        [
         "quotes",
         2020,
         20
        ],
        [
         "home-decor",
         2018,
         20
        ],
        [
         "mens-fashion",
         2018,
         20
        ],
        [
         "mens-fashion",
         2019,
         20
        ],
        [
         "event-planning",
         2018,
         20
        ],
        [
         "travel",
         2022,
         20
        ],
        [
         "home-decor",
         2022,
         19
        ],
        [
         "tattoos",
         2019,
         19
        ],
        [
         "mens-fashion",
         2021,
         19
        ],
        [
         "mens-fashion",
         2022,
         19
        ],
        [
         "beauty",
         2018,
         18
        ],
        [
         "vehicles",
         2018,
         18
        ],
        [
         "diy-and-crafts",
         2020,
         18
        ],
        [
         "tattoos",
         2020,
         18
        ],
        [
         "education",
         2020,
         17
        ],
        [
         "event-planning",
         2019,
         17
        ],
        [
         "education",
         2022,
         17
        ],
        [
         "beauty",
         2021,
         16
        ],
        [
         "home-decor",
         2019,
         15
        ],
        [
         "beauty",
         2019,
         14
        ],
        [
         "vehicles",
         2020,
         14
        ],
        [
         "vehicles",
         2022,
         13
        ],
        [
         "event-planning",
         2022,
         12
        ],
        [
         "home-decor",
         2021,
         10
        ]
       ],
       "datasetInfos": [],
       "dbfsResultPath": null,
       "isJsonSchema": true,
       "metadata": {},
       "overflow": false,
       "plotOptions": {
        "customPlotOptions": {},
        "displayType": "table",
        "pivotAggregation": null,
        "pivotColumns": null,
        "xColumns": null,
        "yColumns": null
       },
       "removedWidgets": [],
       "schema": [
        {
         "metadata": "{}",
         "name": "category",
         "type": "\"string\""
        },
        {
         "metadata": "{}",
         "name": "year",
         "type": "\"integer\""
        },
        {
         "metadata": "{}",
         "name": "category_count",
         "type": "\"long\""
        }
       ],
       "type": "table"
      }
     },
     "output_type": "display_data"
    }
   ],
   "source": [
    "#Find how many posts each category had between 2018 and 2022\n",
    "\n",
    "most_popular_cat_df = cleaned_geo_df \\\n",
    "    .alias(\"geo\") \\\n",
    "    .join(cleaned_pin_df.alias(\"pin\"), cleaned_geo_df[\"ind\"] == cleaned_pin_df[\"ind\"], how=\"inner\") \\\n",
    "    .filter(year(cleaned_geo_df[\"timestamp\"]).between(2018, 2022)) \\\n",
    "    .withColumn(\"year\", year(cleaned_geo_df[\"timestamp\"])) \\\n",
    "    .groupBy(\"category\", \"year\") \\\n",
    "    .agg(count(\"*\").alias(\"category_count\")) \\\n",
    "    .orderBy(\"category_count\", ascending=False)\n",
    "\n",
    "display(most_popular_cat_df)\n",
    "\n"
   ]
  },
  {
   "cell_type": "code",
   "execution_count": null,
   "metadata": {
    "application/vnd.databricks.v1+cell": {
     "cellMetadata": {
      "byteLimit": 2048000,
      "rowLimit": 10000
     },
     "inputWidgets": {},
     "nuid": "4c9199b7-1a9e-4f49-b83b-ce672e91288b",
     "showTitle": false,
     "title": ""
    }
   },
   "outputs": [
    {
     "data": {
      "text/html": [
       "<style scoped>\n",
       "  .table-result-container {\n",
       "    max-height: 300px;\n",
       "    overflow: auto;\n",
       "  }\n",
       "  table, th, td {\n",
       "    border: 1px solid black;\n",
       "    border-collapse: collapse;\n",
       "  }\n",
       "  th, td {\n",
       "    padding: 5px;\n",
       "  }\n",
       "  th {\n",
       "    text-align: left;\n",
       "  }\n",
       "</style><div class='table-result-container'><table class='table-result'><thead style='background-color: white'><tr><th>country</th><th>user_name</th><th>follower_count</th><th>total_follower_count</th></tr></thead><tbody><tr><td>Afghanistan</td><td>Alexandria Alvarado</td><td>2000000</td><td>46000000</td></tr><tr><td>Albania</td><td>Adam Acosta</td><td>2000000</td><td>44000000</td></tr><tr><td>Albania</td><td>Aaron Anderson</td><td>5000000</td><td>35000000</td></tr><tr><td>American Samoa</td><td>Aaron Abbott</td><td>5000000</td><td>30000000</td></tr><tr><td>Angola</td><td>April Brown</td><td>8000000</td><td>24000000</td></tr><tr><td>Algeria</td><td>Aaron Abbott</td><td>942000</td><td>22608000</td></tr><tr><td>Argentina</td><td>Andrew Anderson</td><td>800000</td><td>12800000</td></tr><tr><td>Bouvet Island (Bouvetoya)</td><td>Amy Brown</td><td>5000000</td><td>10000000</td></tr><tr><td>Bulgaria</td><td>Andrew Alvarez</td><td>912000</td><td>9120000</td></tr><tr><td>Andorra</td><td>Alison Bell</td><td>1000000</td><td>9000000</td></tr><tr><td>Antigua and Barbuda</td><td>Ann Chung</td><td>1000000</td><td>8000000</td></tr><tr><td>American Samoa</td><td>Abigail Bates</td><td>8000000</td><td>8000000</td></tr><tr><td>Bouvet Island (Bouvetoya)</td><td>Barbara Allen</td><td>4000000</td><td>8000000</td></tr><tr><td>Lesotho</td><td>Regina Morales</td><td>908000</td><td>7264000</td></tr><tr><td>Bahamas</td><td>Andrew Burke</td><td>221000</td><td>6851000</td></tr><tr><td>Algeria</td><td>Angela Allen</td><td>613000</td><td>6743000</td></tr><tr><td>Bulgaria</td><td>Anthony Adkins</td><td>603000</td><td>6030000</td></tr><tr><td>Argentina</td><td>Diana Barry</td><td>2000000</td><td>6000000</td></tr><tr><td>Azerbaijan</td><td>Amanda Ball</td><td>6000000</td><td>6000000</td></tr><tr><td>Albania</td><td>Abigail Allen</td><td>500000</td><td>6000000</td></tr><tr><td>Burkina Faso</td><td>Andrea Burke</td><td>6000000</td><td>6000000</td></tr><tr><td>Burundi</td><td>Donna Carroll</td><td>620000</td><td>5580000</td></tr><tr><td>American Samoa</td><td>Alexandra Allen</td><td>556000</td><td>5560000</td></tr><tr><td>Azerbaijan</td><td>Aaron Anderson</td><td>1000000</td><td>5000000</td></tr><tr><td>Algeria</td><td>Cynthia Adams</td><td>5000000</td><td>5000000</td></tr><tr><td>Afghanistan</td><td>Alejandra Acevedo</td><td>723000</td><td>4338000</td></tr><tr><td>Cambodia</td><td>Andrew Miller</td><td>2000000</td><td>4000000</td></tr><tr><td>Guam</td><td>Anthony Buchanan</td><td>4000000</td><td>4000000</td></tr><tr><td>Comoros</td><td>Paul Gonzalez</td><td>4000000</td><td>4000000</td></tr><tr><td>Bangladesh</td><td>Brian Hansen</td><td>4000000</td><td>4000000</td></tr><tr><td>United States Virgin Islands</td><td>Debbie Mitchell</td><td>4000000</td><td>4000000</td></tr><tr><td>Afghanistan</td><td>Abigail Adams</td><td>2000000</td><td>4000000</td></tr><tr><td>Botswana</td><td>Alicia Benjamin</td><td>3000000</td><td>3000000</td></tr><tr><td>Bangladesh</td><td>Claudia Adams</td><td>3000000</td><td>3000000</td></tr><tr><td>Christmas Island</td><td>Barry Lynn</td><td>3000000</td><td>3000000</td></tr><tr><td>Afghanistan</td><td>Amanda Carlson</td><td>3000000</td><td>3000000</td></tr><tr><td>Uganda</td><td>Jeffrey Brooks</td><td>3000000</td><td>3000000</td></tr><tr><td>Afghanistan</td><td>Amy Atkins</td><td>985000</td><td>2955000</td></tr><tr><td>Dominican Republic</td><td>Anna Adams</td><td>104000</td><td>2808000</td></tr><tr><td>Algeria</td><td>Benjamin Adams</td><td>228000</td><td>2736000</td></tr><tr><td>Andorra</td><td>Angela Andrews</td><td>903000</td><td>2709000</td></tr><tr><td>American Samoa</td><td>Angela Berg</td><td>538000</td><td>2690000</td></tr><tr><td>Albania</td><td>Allison Acosta</td><td>472000</td><td>2360000</td></tr><tr><td>Angola</td><td>David Griffith</td><td>502000</td><td>2008000</td></tr><tr><td>Costa Rica</td><td>Briana Bryant</td><td>2000000</td><td>2000000</td></tr><tr><td>American Samoa</td><td>Alexis Carrillo</td><td>2000000</td><td>2000000</td></tr><tr><td>Azerbaijan</td><td>Sarah Buckley</td><td>2000000</td><td>2000000</td></tr><tr><td>Kuwait</td><td>Maria Franklin</td><td>2000000</td><td>2000000</td></tr><tr><td>Christmas Island</td><td>Carrie Chambers</td><td>2000000</td><td>2000000</td></tr><tr><td>Australia</td><td>Alicia Burnett</td><td>2000000</td><td>2000000</td></tr><tr><td>Antarctica (the territory South of 60 deg S)</td><td>Amanda Adams</td><td>500000</td><td>2000000</td></tr><tr><td>Greenland</td><td>Jeremy Young</td><td>2000000</td><td>2000000</td></tr><tr><td>Afghanistan</td><td>Andrew Alexander</td><td>166000</td><td>1992000</td></tr><tr><td>Bolivia</td><td>Cynthia Harper</td><td>243000</td><td>1944000</td></tr><tr><td>Guatemala</td><td>Anne Brown</td><td>965000</td><td>1930000</td></tr><tr><td>Bahamas</td><td>Christopher Brown</td><td>948000</td><td>1896000</td></tr><tr><td>Georgia</td><td>Grant George</td><td>203000</td><td>1827000</td></tr><tr><td>Andorra</td><td>Angela Andrews</td><td>902000</td><td>1804000</td></tr><tr><td>Armenia</td><td>Andrew Baker</td><td>892000</td><td>1784000</td></tr><tr><td>Andorra</td><td>Aaron Alexander</td><td>190000</td><td>1710000</td></tr><tr><td>Aruba</td><td>Andrea Alexander</td><td>211000</td><td>1688000</td></tr><tr><td>Andorra</td><td>Amanda Brown</td><td>799000</td><td>1598000</td></tr><tr><td>Turkmenistan</td><td>Cathy Vargas</td><td>193000</td><td>1544000</td></tr><tr><td>Antarctica (the territory South of 60 deg S)</td><td>Jeffrey Hunter</td><td>189000</td><td>1512000</td></tr><tr><td>Latvia</td><td>Alan Davis</td><td>188000</td><td>1504000</td></tr><tr><td>Armenia</td><td>Anthony Bryan</td><td>746000</td><td>1492000</td></tr><tr><td>Algeria</td><td>Alexandra Austin</td><td>459000</td><td>1377000</td></tr><tr><td>Pitcairn Islands</td><td>Elizabeth Terry</td><td>671000</td><td>1342000</td></tr><tr><td>India</td><td>Brandi Cervantes</td><td>167000</td><td>1336000</td></tr><tr><td>Cambodia</td><td>Adrian Baker</td><td>583000</td><td>1166000</td></tr><tr><td>Bangladesh</td><td>Andrea Carroll</td><td>383000</td><td>1149000</td></tr><tr><td>Afghanistan</td><td>Amber Chen</td><td>565000</td><td>1130000</td></tr><tr><td>Cameroon</td><td>Daniel Dorsey</td><td>123000</td><td>1107000</td></tr><tr><td>Cayman Islands</td><td>Alexandria Davis</td><td>1000000</td><td>1000000</td></tr><tr><td>Martinique</td><td>Danielle Klein</td><td>1000000</td><td>1000000</td></tr><tr><td>Russian Federation</td><td>Christopher Hernandez</td><td>1000000</td><td>1000000</td></tr><tr><td>Antarctica (the territory South of 60 deg S)</td><td>Benjamin Campbell</td><td>1000000</td><td>1000000</td></tr><tr><td>Kuwait</td><td>Amber Banks</td><td>1000000</td><td>1000000</td></tr><tr><td>Australia</td><td>Anne Clayton</td><td>1000000</td><td>1000000</td></tr><tr><td>Costa Rica</td><td>Anthony Jones</td><td>125000</td><td>1000000</td></tr><tr><td>American Samoa</td><td>Andre Carey</td><td>498000</td><td>996000</td></tr><tr><td>Armenia</td><td>Dylan Holmes</td><td>124000</td><td>992000</td></tr><tr><td>Hong Kong</td><td>Karen Leon</td><td>991000</td><td>991000</td></tr><tr><td>British Virgin Islands</td><td>Alex Bean</td><td>245000</td><td>980000</td></tr><tr><td>Heard Island and McDonald Islands</td><td>Christina Anderson</td><td>487000</td><td>974000</td></tr><tr><td>Afghanistan</td><td>Anne Hunt</td><td>960000</td><td>960000</td></tr><tr><td>French Southern Territories</td><td>Larry Smith</td><td>119000</td><td>952000</td></tr><tr><td>Mongolia</td><td>Jay Hampton</td><td>893000</td><td>893000</td></tr><tr><td>Argentina</td><td>Andrew Arnold</td><td>296000</td><td>888000</td></tr><tr><td>Iraq</td><td>Beth Ali</td><td>875000</td><td>875000</td></tr><tr><td>Aruba</td><td>Debra Becker</td><td>874000</td><td>874000</td></tr><tr><td>Central African Republic</td><td>Annette Forbes</td><td>868000</td><td>868000</td></tr><tr><td>Argentina</td><td>Anne Bond</td><td>108000</td><td>864000</td></tr><tr><td>Armenia</td><td>Aaron Bailey</td><td>416000</td><td>832000</td></tr><tr><td>Austria</td><td>Alan Burton</td><td>813000</td><td>813000</td></tr><tr><td>Antigua and Barbuda</td><td>Austin Abbott</td><td>401000</td><td>802000</td></tr><tr><td>Belize</td><td>Becky Brady</td><td>267000</td><td>801000</td></tr><tr><td>Algeria</td><td>Christopher Barnett</td><td>787000</td><td>787000</td></tr><tr><td>Albania</td><td>Ashley Anderson</td><td>364000</td><td>728000</td></tr><tr><td>Anguilla</td><td>Amber Casey</td><td>60000</td><td>720000</td></tr><tr><td>Cocos (Keeling) Islands</td><td>Cesar Miller</td><td>709000</td><td>709000</td></tr><tr><td>Andorra</td><td>Gregory Carpenter</td><td>353000</td><td>706000</td></tr><tr><td>Maldives</td><td>Daniel Roy</td><td>330000</td><td>660000</td></tr><tr><td>Aruba</td><td>Adrian Allen</td><td>657000</td><td>657000</td></tr><tr><td>Belarus</td><td>Alexandra Brown</td><td>648000</td><td>648000</td></tr><tr><td>Belarus</td><td>Alexandra Brown</td><td>647000</td><td>647000</td></tr><tr><td>Finland</td><td>Heather Edwards</td><td>79000</td><td>632000</td></tr><tr><td>Korea</td><td>Michael Perkins</td><td>627000</td><td>627000</td></tr><tr><td>Armenia</td><td>Christopher Bradshaw</td><td>616000</td><td>616000</td></tr><tr><td>Antigua and Barbuda</td><td>Denise Adams</td><td>306000</td><td>612000</td></tr><tr><td>Belgium</td><td>Courtney Berg</td><td>73000</td><td>584000</td></tr><tr><td>Antigua and Barbuda</td><td>Betty Cannon</td><td>578000</td><td>578000</td></tr><tr><td>Cote d'Ivoire</td><td>Brian Dalton</td><td>565000</td><td>565000</td></tr><tr><td>Palestinian Territory</td><td>Collin Chen</td><td>561000</td><td>561000</td></tr><tr><td>Bouvet Island (Bouvetoya)</td><td>Alexandra Fuentes</td><td>276000</td><td>552000</td></tr><tr><td>Liberia</td><td>Bailey Rogers</td><td>550000</td><td>550000</td></tr><tr><td>Djibouti</td><td>James Graham</td><td>275000</td><td>550000</td></tr><tr><td>Austria</td><td>Albert Adams</td><td>54000</td><td>540000</td></tr><tr><td>Liberia</td><td>Brittney Benitez</td><td>267000</td><td>534000</td></tr><tr><td>Bangladesh</td><td>Amanda Anderson</td><td>66000</td><td>528000</td></tr><tr><td>Iran</td><td>Eric Ayala</td><td>520000</td><td>520000</td></tr><tr><td>Barbados</td><td>Angela Bates</td><td>252000</td><td>504000</td></tr><tr><td>Antarctica (the territory South of 60 deg S)</td><td>Amanda Adams</td><td>501000</td><td>501000</td></tr><tr><td>Angola</td><td>Caitlin Bailey</td><td>496000</td><td>496000</td></tr><tr><td>American Samoa</td><td>Amy Andrews</td><td>494000</td><td>494000</td></tr><tr><td>Lebanon</td><td>Eric Buck</td><td>163000</td><td>489000</td></tr><tr><td>Aruba</td><td>Abigail Carter</td><td>48000</td><td>480000</td></tr><tr><td>Costa Rica</td><td>Brooke Frye</td><td>465000</td><td>465000</td></tr><tr><td>Chad</td><td>Billy Armstrong</td><td>226000</td><td>452000</td></tr><tr><td>Azerbaijan</td><td>Aaron Greene</td><td>50000</td><td>450000</td></tr><tr><td>Belgium</td><td>Heather Adams</td><td>433000</td><td>433000</td></tr><tr><td>French Guiana</td><td>Adrian Jackson</td><td>214000</td><td>428000</td></tr><tr><td>Maldives</td><td>Samantha Carpenter</td><td>416000</td><td>416000</td></tr><tr><td>French Polynesia</td><td>David Bell</td><td>52000</td><td>416000</td></tr><tr><td>Barbados</td><td>Brett Bryant</td><td>410000</td><td>410000</td></tr><tr><td>Congo</td><td>Albert Jackson</td><td>410000</td><td>410000</td></tr><tr><td>Norway</td><td>Mario Hawkins</td><td>409000</td><td>409000</td></tr><tr><td>French Guiana</td><td>Charles Berry</td><td>51000</td><td>408000</td></tr><tr><td>Cambodia</td><td>James Harper</td><td>404000</td><td>404000</td></tr><tr><td>Czech Republic</td><td>Jacob Castro</td><td>398000</td><td>398000</td></tr><tr><td>Greece</td><td>Matthew Walker</td><td>397000</td><td>397000</td></tr><tr><td>Algeria</td><td>Amanda Allen</td><td>130000</td><td>390000</td></tr><tr><td>Congo</td><td>Anthony Martinez</td><td>389000</td><td>389000</td></tr><tr><td>Bosnia and Herzegovina</td><td>Angela Becker</td><td>388000</td><td>388000</td></tr><tr><td>Antarctica (the territory South of 60 deg S)</td><td>Dalton Daniels</td><td>48000</td><td>384000</td></tr><tr><td>Tokelau</td><td>Jennifer Melton</td><td>384000</td><td>384000</td></tr><tr><td>Martinique</td><td>Chad Burns</td><td>371000</td><td>371000</td></tr><tr><td>Bosnia and Herzegovina</td><td>Alicia Brown</td><td>370000</td><td>370000</td></tr><tr><td>Antarctica (the territory South of 60 deg S)</td><td>James Jacobson</td><td>46000</td><td>368000</td></tr><tr><td>Bulgaria</td><td>David Evans</td><td>36000</td><td>360000</td></tr><tr><td>Armenia</td><td>Danielle Chambers</td><td>176000</td><td>352000</td></tr><tr><td>Morocco</td><td>Courtney Chung</td><td>13000</td><td>351000</td></tr><tr><td>Egypt</td><td>Jackie Buchanan</td><td>346000</td><td>346000</td></tr><tr><td>Bahrain</td><td>Bradley Griffin</td><td>332000</td><td>332000</td></tr><tr><td>Bolivia</td><td>Aaron Baldwin</td><td>328000</td><td>328000</td></tr><tr><td>Algeria</td><td>Alexis Bennett</td><td>326000</td><td>326000</td></tr><tr><td>Belarus</td><td>Brittany Campbell</td><td>323000</td><td>323000</td></tr><tr><td>Azerbaijan</td><td>Abigail Gutierrez</td><td>322000</td><td>322000</td></tr><tr><td>Albania</td><td>Juan Cortez</td><td>159000</td><td>318000</td></tr><tr><td>Belarus</td><td>Julie Johnson</td><td>312000</td><td>312000</td></tr><tr><td>Costa Rica</td><td>Alan Adams</td><td>309000</td><td>309000</td></tr><tr><td>Cuba</td><td>Anthony Brown</td><td>307000</td><td>307000</td></tr><tr><td>Lesotho</td><td>Herbert Sawyer</td><td>34000</td><td>306000</td></tr><tr><td>Cambodia</td><td>Charles Bowen</td><td>294000</td><td>294000</td></tr><tr><td>Azerbaijan</td><td>Brian Howard</td><td>292000</td><td>292000</td></tr><tr><td>Denmark</td><td>Jonathan Rodriguez</td><td>36000</td><td>288000</td></tr><tr><td>Aruba</td><td>Caitlyn Baker</td><td>71000</td><td>284000</td></tr><tr><td>Afghanistan</td><td>Adam Alexander</td><td>28000</td><td>280000</td></tr><tr><td>Brunei Darussalam</td><td>Brad Abbott</td><td>277000</td><td>277000</td></tr><tr><td>Niue</td><td>Joseph Church</td><td>271000</td><td>271000</td></tr><tr><td>Bermuda</td><td>Abigail Burch</td><td>30000</td><td>270000</td></tr><tr><td>Armenia</td><td>Anna Bird</td><td>132000</td><td>264000</td></tr><tr><td>Canada</td><td>Jacob Alvarez</td><td>258000</td><td>258000</td></tr><tr><td>Azerbaijan</td><td>Albert Calderon</td><td>128000</td><td>256000</td></tr><tr><td>Cameroon</td><td>Alice Bennett</td><td>85000</td><td>255000</td></tr><tr><td>Indonesia</td><td>Lance Smith</td><td>252000</td><td>252000</td></tr><tr><td>Austria</td><td>Alfred Murray</td><td>251000</td><td>251000</td></tr><tr><td>Mayotte</td><td>Edward Oliver</td><td>31000</td><td>248000</td></tr><tr><td>British Indian Ocean Territory (Chagos Archipelago)</td><td>Calvin Baker</td><td>248000</td><td>248000</td></tr><tr><td>Netherlands</td><td>Andrew Duncan</td><td>247000</td><td>247000</td></tr><tr><td>Bangladesh</td><td>Mark Brown</td><td>242000</td><td>242000</td></tr><tr><td>French Guiana</td><td>Amber Cervantes</td><td>241000</td><td>241000</td></tr><tr><td>Colombia</td><td>Kevin Rodriguez</td><td>239000</td><td>239000</td></tr><tr><td>Ireland</td><td>Christopher Greene</td><td>239000</td><td>239000</td></tr><tr><td>Nauru</td><td>Jennifer Dunn</td><td>23000</td><td>230000</td></tr><tr><td>Albania</td><td>Adrienne Acosta</td><td>229000</td><td>229000</td></tr><tr><td>Monaco</td><td>Glenn Hammond</td><td>227000</td><td>227000</td></tr><tr><td>Bouvet Island (Bouvetoya)</td><td>Samantha Phillips</td><td>227000</td><td>227000</td></tr><tr><td>Benin</td><td>Ann Acevedo</td><td>113000</td><td>226000</td></tr><tr><td>Angola</td><td>Alison Cole</td><td>56000</td><td>224000</td></tr><tr><td>El Salvador</td><td>Alex Adams</td><td>221000</td><td>221000</td></tr><tr><td>Aruba</td><td>Angela Brooks</td><td>110000</td><td>220000</td></tr><tr><td>Malta</td><td>Brandon Simmons</td><td>219000</td><td>219000</td></tr><tr><td>Guam</td><td>Holly Campbell</td><td>219000</td><td>219000</td></tr><tr><td>Burundi</td><td>Jasmine Buck</td><td>109000</td><td>218000</td></tr><tr><td>Congo</td><td>Aimee Collins</td><td>27000</td><td>216000</td></tr><tr><td>Bulgaria</td><td>Ashley Gentry</td><td>53000</td><td>212000</td></tr><tr><td>American Samoa</td><td>Danielle Barber</td><td>208000</td><td>208000</td></tr><tr><td>Nepal</td><td>Deborah Cooper</td><td>197000</td><td>197000</td></tr><tr><td>Comoros</td><td>Gary Barker</td><td>196000</td><td>196000</td></tr><tr><td>Albania</td><td>Brian Davis</td><td>97000</td><td>194000</td></tr><tr><td>Antarctica (the territory South of 60 deg S)</td><td>Charles Hutchinson</td><td>193000</td><td>193000</td></tr><tr><td>Indonesia</td><td>Joel Obrien</td><td>24000</td><td>192000</td></tr><tr><td>Cote d'Ivoire</td><td>Brian Nelson</td><td>192000</td><td>192000</td></tr><tr><td>Grenada</td><td>Austin Miller</td><td>185000</td><td>185000</td></tr><tr><td>Anguilla</td><td>Corey Andrews</td><td>92000</td><td>184000</td></tr><tr><td>Cape Verde</td><td>Alexander Perez</td><td>178000</td><td>178000</td></tr><tr><td>Austria</td><td>Alex Barnes</td><td>89000</td><td>178000</td></tr><tr><td>Bosnia and Herzegovina</td><td>Carrie Holder</td><td>89000</td><td>178000</td></tr><tr><td>Bahrain</td><td>Christopher Fox</td><td>22000</td><td>176000</td></tr><tr><td>Anguilla</td><td>Angela Everett</td><td>88000</td><td>176000</td></tr><tr><td>Armenia</td><td>Caroline Carlson</td><td>175000</td><td>175000</td></tr><tr><td>Egypt</td><td>Jake Bates</td><td>172000</td><td>172000</td></tr><tr><td>Saint Kitts and Nevis</td><td>Julie Cox</td><td>171000</td><td>171000</td></tr><tr><td>Namibia</td><td>Charlotte Pitts</td><td>168000</td><td>168000</td></tr><tr><td>Austria</td><td>Andrew Garcia</td><td>161000</td><td>161000</td></tr><tr><td>Guinea-Bissau</td><td>Christopher Boone</td><td>160000</td><td>160000</td></tr><tr><td>Libyan Arab Jamahiriya</td><td>Stacey Stewart</td><td>157000</td><td>157000</td></tr><tr><td>Bahamas</td><td>Angela Brown</td><td>78000</td><td>156000</td></tr><tr><td>Saint Helena</td><td>Carla Atkins</td><td>154000</td><td>154000</td></tr><tr><td>Svalbard & Jan Mayen Islands</td><td>David Jones</td><td>152000</td><td>152000</td></tr><tr><td>Colombia</td><td>Christina Haas</td><td>152000</td><td>152000</td></tr><tr><td>Bolivia</td><td>Andrea Blankenship</td><td>76000</td><td>152000</td></tr><tr><td>Australia</td><td>Jay Flynn</td><td>19000</td><td>152000</td></tr><tr><td>Cape Verde</td><td>Todd Ross</td><td>19000</td><td>152000</td></tr><tr><td>Christmas Island</td><td>Christopher Brown</td><td>150000</td><td>150000</td></tr><tr><td>India</td><td>Andres Cortez</td><td>150000</td><td>150000</td></tr><tr><td>Bahrain</td><td>Amanda Anderson</td><td>144000</td><td>144000</td></tr><tr><td>Egypt</td><td>Karen Hamilton</td><td>143000</td><td>143000</td></tr><tr><td>Canada</td><td>Brandon Cummings</td><td>142000</td><td>142000</td></tr><tr><td>Indonesia</td><td>David Craig</td><td>141000</td><td>141000</td></tr><tr><td>American Samoa</td><td>Alexander Bailey</td><td>47000</td><td>141000</td></tr><tr><td>Bolivia</td><td>Clinton Berry</td><td>139000</td><td>139000</td></tr><tr><td>Antigua and Barbuda</td><td>Jasmine Gonzalez</td><td>138000</td><td>138000</td></tr><tr><td>Bolivia</td><td>Alec Bell</td><td>68000</td><td>136000</td></tr><tr><td>Netherlands</td><td>Elizabeth Green</td><td>136000</td><td>136000</td></tr><tr><td>Croatia</td><td>James Sharp</td><td>134000</td><td>134000</td></tr><tr><td>Guinea</td><td>Brian Conley</td><td>134000</td><td>134000</td></tr><tr><td>Bolivia</td><td>Angela Flores</td><td>67000</td><td>134000</td></tr><tr><td>Bahrain</td><td>Austin Alvarez</td><td>133000</td><td>133000</td></tr><tr><td>Antigua and Barbuda</td><td>Amanda Benitez</td><td>13000</td><td>130000</td></tr><tr><td>Bhutan</td><td>Angel Brown</td><td>130000</td><td>130000</td></tr><tr><td>Djibouti</td><td>Jesus Arellano</td><td>130000</td><td>130000</td></tr><tr><td>Malta</td><td>Anthony Daniels</td><td>129000</td><td>129000</td></tr><tr><td>Algeria</td><td>Christopher Evans</td><td>128000</td><td>128000</td></tr><tr><td>China</td><td>Michael Brooks</td><td>127000</td><td>127000</td></tr><tr><td>Djibouti</td><td>Charles Braun</td><td>127000</td><td>127000</td></tr><tr><td>Central African Republic</td><td>James Downs</td><td>126000</td><td>126000</td></tr><tr><td>Azerbaijan</td><td>Amanda Arnold</td><td>14000</td><td>126000</td></tr><tr><td>Azerbaijan</td><td>Andrew Clements</td><td>126000</td><td>126000</td></tr><tr><td>American Samoa</td><td>Daniel Brooks</td><td>42000</td><td>126000</td></tr><tr><td>Guadeloupe</td><td>John Hamilton</td><td>123000</td><td>123000</td></tr><tr><td>Mali</td><td>Michelle Richardson</td><td>122000</td><td>122000</td></tr><tr><td>Albania</td><td>Aaron Bartlett</td><td>20000</td><td>120000</td></tr><tr><td>Argentina</td><td>Alexis Bell</td><td>60000</td><td>120000</td></tr><tr><td>Botswana</td><td>Bobby Cook</td><td>119000</td><td>119000</td></tr><tr><td>Aruba</td><td>Andrea Beasley</td><td>59000</td><td>118000</td></tr><tr><td>Somalia</td><td>Maria Long</td><td>118000</td><td>118000</td></tr><tr><td>Albania</td><td>Christina Davenport</td><td>117000</td><td>117000</td></tr><tr><td>Egypt</td><td>Bradley Bennett</td><td>117000</td><td>117000</td></tr><tr><td>Puerto Rico</td><td>Elizabeth Estes</td><td>116000</td><td>116000</td></tr><tr><td>France</td><td>Cody Adams</td><td>115000</td><td>115000</td></tr><tr><td>Cote d'Ivoire</td><td>Brian Herman</td><td>57000</td><td>114000</td></tr><tr><td>Croatia</td><td>Carrie Hurley</td><td>57000</td><td>114000</td></tr><tr><td>Madagascar</td><td>Rhonda Durham</td><td>112000</td><td>112000</td></tr><tr><td>American Samoa</td><td>Anthony Chen</td><td>56000</td><td>112000</td></tr><tr><td>Congo</td><td>Brandon Bender</td><td>55000</td><td>110000</td></tr><tr><td>Canada</td><td>Jeffrey Gregory</td><td>109000</td><td>109000</td></tr><tr><td>Central African Republic</td><td>Candice Carr</td><td>105000</td><td>105000</td></tr><tr><td>Eritrea</td><td>Alexandra Mendoza</td><td>105000</td><td>105000</td></tr><tr><td>Argentina</td><td>Matthew Newman</td><td>105000</td><td>105000</td></tr><tr><td>Madagascar</td><td>Louis Patterson</td><td>103000</td><td>103000</td></tr><tr><td>British Virgin Islands</td><td>Stephen West</td><td>102000</td><td>102000</td></tr><tr><td>Cuba</td><td>Cindy Bennett</td><td>102000</td><td>102000</td></tr><tr><td>Cameroon</td><td>Alfred Chen</td><td>51000</td><td>102000</td></tr><tr><td>Venezuela</td><td>Scott Houston</td><td>100000</td><td>100000</td></tr><tr><td>Cote d'Ivoire</td><td>Brenda Miller</td><td>100000</td><td>100000</td></tr><tr><td>Haiti</td><td>Valerie Leach</td><td>100000</td><td>100000</td></tr><tr><td>Botswana</td><td>Adam Cole</td><td>98000</td><td>98000</td></tr><tr><td>Azerbaijan</td><td>Anthony Durham</td><td>97000</td><td>97000</td></tr><tr><td>Kenya</td><td>Kristen Garza</td><td>95000</td><td>95000</td></tr><tr><td>Bouvet Island (Bouvetoya)</td><td>Annette Andrews</td><td>47000</td><td>94000</td></tr><tr><td>India</td><td>John Mueller</td><td>92000</td><td>92000</td></tr><tr><td>Bermuda</td><td>David Moss</td><td>46000</td><td>92000</td></tr><tr><td>Anguilla</td><td>Corey Andrews</td><td>91000</td><td>91000</td></tr><tr><td>Christmas Island</td><td>Angela Bailey</td><td>91000</td><td>91000</td></tr><tr><td>Algeria</td><td>Christine Cortez</td><td>45000</td><td>90000</td></tr><tr><td>Gibraltar</td><td>Brittany Thompson</td><td>89000</td><td>89000</td></tr><tr><td>Slovakia (Slovak Republic)</td><td>Melody Thompson</td><td>11000</td><td>88000</td></tr><tr><td>Gabon</td><td>Kevin Davis</td><td>88000</td><td>88000</td></tr><tr><td>Congo</td><td>Jacob Chapman</td><td>88000</td><td>88000</td></tr><tr><td>Myanmar</td><td>Courtney Barton</td><td>88000</td><td>88000</td></tr><tr><td>Albania</td><td>Ariel Brown</td><td>44000</td><td>88000</td></tr><tr><td>Kyrgyz Republic</td><td>Michael Chan</td><td>87000</td><td>87000</td></tr><tr><td>Japan</td><td>Andrew Bird</td><td>87000</td><td>87000</td></tr><tr><td>Cape Verde</td><td>Allison Dawson</td><td>43000</td><td>86000</td></tr><tr><td>Anguilla</td><td>Jonathan Avila</td><td>85000</td><td>85000</td></tr><tr><td>Guatemala</td><td>Christine Adams</td><td>85000</td><td>85000</td></tr><tr><td>Chad</td><td>Frank Bates</td><td>42000</td><td>84000</td></tr><tr><td>Algeria</td><td>Alexander Adams</td><td>42000</td><td>84000</td></tr><tr><td>Uganda</td><td>Claire Leonard</td><td>84000</td><td>84000</td></tr><tr><td>Ecuador</td><td>Debbie Crawford</td><td>84000</td><td>84000</td></tr><tr><td>Mozambique</td><td>Emily Hawkins</td><td>83000</td><td>83000</td></tr><tr><td>Solomon Islands</td><td>Brooke Munoz</td><td>81000</td><td>81000</td></tr><tr><td>Korea</td><td>Jamie Andrews</td><td>81000</td><td>81000</td></tr><tr><td>Lithuania</td><td>Catherine Ferrell</td><td>10000</td><td>80000</td></tr><tr><td>Liechtenstein</td><td>Karen Clark</td><td>10000</td><td>80000</td></tr><tr><td>Bahamas</td><td>Christopher Green</td><td>79000</td><td>79000</td></tr><tr><td>Guinea</td><td>Kimberly Mack</td><td>79000</td><td>79000</td></tr><tr><td>Albania</td><td>Amanda Carter</td><td>79000</td><td>79000</td></tr><tr><td>American Samoa</td><td>Anthony Johnson</td><td>77000</td><td>77000</td></tr><tr><td>Maldives</td><td>Kristina King</td><td>77000</td><td>77000</td></tr><tr><td>Bolivia</td><td>Amanda Downs</td><td>77000</td><td>77000</td></tr><tr><td>Hungary</td><td>Kathy Hudson</td><td>77000</td><td>77000</td></tr><tr><td>Austria</td><td>Amanda Barber</td><td>76000</td><td>76000</td></tr><tr><td>Afghanistan</td><td>David Anderson</td><td>76000</td><td>76000</td></tr><tr><td>Barbados</td><td>Alexander Bailey</td><td>38000</td><td>76000</td></tr><tr><td>South Georgia and the South Sandwich Islands</td><td>Hannah Allen</td><td>75000</td><td>75000</td></tr><tr><td>Aruba</td><td>Amy Adams</td><td>5000</td><td>75000</td></tr><tr><td>Kazakhstan</td><td>Jaclyn Marsh</td><td>75000</td><td>75000</td></tr><tr><td>Lebanon</td><td>Erin Cain</td><td>74000</td><td>74000</td></tr><tr><td>Gibraltar</td><td>Matthew Bray</td><td>37000</td><td>74000</td></tr><tr><td>Bahamas</td><td>Ashley Cortez</td><td>73000</td><td>73000</td></tr><tr><td>Andorra</td><td>Donald Hooper</td><td>73000</td><td>73000</td></tr><tr><td>Christmas Island</td><td>Chelsea Gonzalez</td><td>9000</td><td>72000</td></tr><tr><td>Afghanistan</td><td>Nancy Clay</td><td>72000</td><td>72000</td></tr><tr><td>Argentina</td><td>Adrienne Barrett</td><td>36000</td><td>72000</td></tr><tr><td>Guatemala</td><td>Caitlin Smith</td><td>71000</td><td>71000</td></tr><tr><td>Saint Kitts and Nevis</td><td>Lauren Richardson</td><td>68000</td><td>68000</td></tr><tr><td>Belize</td><td>Charles Johnson</td><td>67000</td><td>67000</td></tr><tr><td>Dominica</td><td>Charles Robinson</td><td>67000</td><td>67000</td></tr><tr><td>Ecuador</td><td>Alexis Frazier</td><td>67000</td><td>67000</td></tr><tr><td>Belgium</td><td>Bradley Chapman</td><td>67000</td><td>67000</td></tr><tr><td>Tunisia</td><td>Shawn Jones</td><td>66000</td><td>66000</td></tr><tr><td>Austria</td><td>Heidi Armstrong</td><td>33000</td><td>66000</td></tr><tr><td>Aruba</td><td>Cody Cochran</td><td>65000</td><td>65000</td></tr><tr><td>Mayotte</td><td>Charles Conley</td><td>65000</td><td>65000</td></tr><tr><td>Bangladesh</td><td>Nicole Mcintosh</td><td>8000</td><td>64000</td></tr><tr><td>Congo</td><td>Eric Gonzalez</td><td>64000</td><td>64000</td></tr><tr><td>Bosnia and Herzegovina</td><td>Dana Mckinney</td><td>8000</td><td>64000</td></tr><tr><td>Sudan</td><td>Jacqueline Ross</td><td>63000</td><td>63000</td></tr><tr><td>Kuwait</td><td>Justin Singleton</td><td>63000</td><td>63000</td></tr><tr><td>Cameroon</td><td>Cynthia Clark</td><td>61000</td><td>61000</td></tr><tr><td>Netherlands Antilles</td><td>Patrick Davidson</td><td>61000</td><td>61000</td></tr><tr><td>Norfolk Island</td><td>Andrea Sparks</td><td>60000</td><td>60000</td></tr><tr><td>Austria</td><td>Angela Anderson</td><td>60000</td><td>60000</td></tr><tr><td>French Southern Territories</td><td>Christopher Gonzalez</td><td>59000</td><td>59000</td></tr><tr><td>Bulgaria</td><td>Barbara English</td><td>59000</td><td>59000</td></tr><tr><td>Falkland Islands (Malvinas)</td><td>Lisa Thomas</td><td>59000</td><td>59000</td></tr><tr><td>Korea</td><td>Laura Jefferson</td><td>59000</td><td>59000</td></tr><tr><td>Burundi</td><td>Erin Armstrong</td><td>58000</td><td>58000</td></tr><tr><td>Sweden</td><td>Benjamin Turner</td><td>58000</td><td>58000</td></tr><tr><td>Bhutan</td><td>Pamela Jones</td><td>56000</td><td>56000</td></tr><tr><td>Barbados</td><td>Brendan Joseph</td><td>28000</td><td>56000</td></tr><tr><td>Netherlands</td><td>Laura Johnson</td><td>56000</td><td>56000</td></tr><tr><td>Guinea-Bissau</td><td>Ashley Briggs</td><td>56000</td><td>56000</td></tr><tr><td>Australia</td><td>Dawn Anderson</td><td>28000</td><td>56000</td></tr><tr><td>Cambodia</td><td>Jennifer Hill</td><td>2000</td><td>54000</td></tr><tr><td>El Salvador</td><td>Daniel Peck</td><td>54000</td><td>54000</td></tr><tr><td>Austria</td><td>Amy Caldwell</td><td>27000</td><td>54000</td></tr><tr><td>Isle of Man</td><td>Jon Burke</td><td>52000</td><td>52000</td></tr><tr><td>Bulgaria</td><td>Anne Allen</td><td>26000</td><td>52000</td></tr><tr><td>Algeria</td><td>Eduardo Brown</td><td>51000</td><td>51000</td></tr><tr><td>Cambodia</td><td>Paul Henderson</td><td>51000</td><td>51000</td></tr><tr><td>Dominican Republic</td><td>Ashley Carter</td><td>17000</td><td>51000</td></tr><tr><td>Armenia</td><td>Alicia Avila</td><td>25000</td><td>50000</td></tr><tr><td>Afghanistan</td><td>Jane Aguilar</td><td>25000</td><td>50000</td></tr><tr><td>Ireland</td><td>Debra Morse</td><td>49000</td><td>49000</td></tr><tr><td>Benin</td><td>Jose Smith</td><td>49000</td><td>49000</td></tr><tr><td>Aruba</td><td>Jennifer Arellano</td><td>49000</td><td>49000</td></tr><tr><td>Guinea-Bissau</td><td>Erik Mann</td><td>6000</td><td>48000</td></tr><tr><td>Peru</td><td>Daniel Valentine</td><td>6000</td><td>48000</td></tr><tr><td>Germany</td><td>Alison Smith</td><td>48000</td><td>48000</td></tr><tr><td>Dominica</td><td>Laura Knight</td><td>48000</td><td>48000</td></tr><tr><td>Rwanda</td><td>Heather Hall</td><td>6000</td><td>48000</td></tr><tr><td>Monaco</td><td>Jamie Harrison</td><td>48000</td><td>48000</td></tr><tr><td>United States of America</td><td>Vickie Acevedo</td><td>47000</td><td>47000</td></tr><tr><td>Afghanistan</td><td>Adam Gibson</td><td>47000</td><td>47000</td></tr><tr><td>Comoros</td><td>Becky Casey</td><td>46000</td><td>46000</td></tr><tr><td>Bahrain</td><td>Carlos Estrada</td><td>46000</td><td>46000</td></tr><tr><td>Benin</td><td>April Barr</td><td>23000</td><td>46000</td></tr><tr><td>Mauritius</td><td>Brittany Brown</td><td>46000</td><td>46000</td></tr><tr><td>Qatar</td><td>Amanda Brown</td><td>45000</td><td>45000</td></tr><tr><td>Nauru</td><td>Gloria Mills</td><td>45000</td><td>45000</td></tr><tr><td>Moldova</td><td>Jason Horne</td><td>44000</td><td>44000</td></tr><tr><td>Australia</td><td>Anthony Cantu</td><td>22000</td><td>44000</td></tr><tr><td>Aruba</td><td>Adam Armstrong</td><td>11000</td><td>44000</td></tr><tr><td>Maldives</td><td>Brittany Jones</td><td>43000</td><td>43000</td></tr><tr><td>Belize</td><td>Darryl Alexander</td><td>21000</td><td>42000</td></tr><tr><td>Benin</td><td>Ashley Allen</td><td>21000</td><td>42000</td></tr><tr><td>El Salvador</td><td>Nathan Howard</td><td>42000</td><td>42000</td></tr><tr><td>Andorra</td><td>Barbara Duran</td><td>41000</td><td>41000</td></tr><tr><td>Bahamas</td><td>Julie Cook</td><td>41000</td><td>41000</td></tr><tr><td>Fiji</td><td>Angela Hall</td><td>41000</td><td>41000</td></tr><tr><td>Libyan Arab Jamahiriya</td><td>Christopher Hamilton</td><td>40000</td><td>40000</td></tr><tr><td>French Southern Territories</td><td>Mary Luna</td><td>40000</td><td>40000</td></tr><tr><td>Central African Republic</td><td>Jamie Bryant</td><td>40000</td><td>40000</td></tr><tr><td>Svalbard & Jan Mayen Islands</td><td>Heather Gonzalez</td><td>5000</td><td>40000</td></tr><tr><td>Norway</td><td>Christopher Alvarez</td><td>40000</td><td>40000</td></tr><tr><td>Bangladesh</td><td>Diana Ballard</td><td>40000</td><td>40000</td></tr><tr><td>Nigeria</td><td>Michael Hood</td><td>38000</td><td>38000</td></tr><tr><td>Jamaica</td><td>Barbara Edwards</td><td>19000</td><td>38000</td></tr><tr><td>Austria</td><td>Jacob Baker</td><td>37000</td><td>37000</td></tr><tr><td>Bosnia and Herzegovina</td><td>Bonnie Estrada</td><td>37000</td><td>37000</td></tr><tr><td>Bangladesh</td><td>Jason Meza</td><td>37000</td><td>37000</td></tr><tr><td>Croatia</td><td>Bryan Williams</td><td>36000</td><td>36000</td></tr><tr><td>Falkland Islands (Malvinas)</td><td>Rebecca Bailey</td><td>4000</td><td>36000</td></tr><tr><td>Korea</td><td>Lisa Walls</td><td>35000</td><td>35000</td></tr><tr><td>Luxembourg</td><td>Kyle Floyd</td><td>35000</td><td>35000</td></tr><tr><td>Croatia</td><td>Jonathan Gordon</td><td>35000</td><td>35000</td></tr><tr><td>Bulgaria</td><td>Joshua Carter</td><td>35000</td><td>35000</td></tr><tr><td>Botswana</td><td>Benjamin Branch</td><td>34000</td><td>34000</td></tr><tr><td>Bouvet Island (Bouvetoya)</td><td>Timothy Orozco</td><td>34000</td><td>34000</td></tr><tr><td>Australia</td><td>Michael Mckay</td><td>34000</td><td>34000</td></tr><tr><td>Bouvet Island (Bouvetoya)</td><td>Maria Davidson</td><td>34000</td><td>34000</td></tr><tr><td>Solomon Islands</td><td>Brittany Jones</td><td>33000</td><td>33000</td></tr><tr><td>Iran</td><td>John Trujillo</td><td>33000</td><td>33000</td></tr><tr><td>Congo</td><td>Benjamin Brady</td><td>33000</td><td>33000</td></tr><tr><td>Bulgaria</td><td>Angela Carlson</td><td>32000</td><td>32000</td></tr><tr><td>Andorra</td><td>Erica Murphy</td><td>32000</td><td>32000</td></tr><tr><td>Taiwan</td><td>Joseph Thompson</td><td>32000</td><td>32000</td></tr><tr><td>Ecuador</td><td>Brenda Baker</td><td>32000</td><td>32000</td></tr><tr><td>Botswana</td><td>Austin Rodriguez</td><td>4000</td><td>32000</td></tr><tr><td>Kenya</td><td>Crystal Schmidt</td><td>4000</td><td>32000</td></tr><tr><td>Guernsey</td><td>Gary Collins</td><td>32000</td><td>32000</td></tr><tr><td>Samoa</td><td>Nicole Gordon</td><td>32000</td><td>32000</td></tr><tr><td>Zambia</td><td>Alyssa Shelton</td><td>32000</td><td>32000</td></tr><tr><td>Aruba</td><td>Danielle Cook</td><td>31000</td><td>31000</td></tr><tr><td>Azerbaijan</td><td>Bradley Long</td><td>31000</td><td>31000</td></tr><tr><td>Comoros</td><td>Alexis George</td><td>31000</td><td>31000</td></tr><tr><td>British Indian Ocean Territory (Chagos Archipelago)</td><td>April Blake</td><td>31000</td><td>31000</td></tr><tr><td>Antigua and Barbuda</td><td>Ashley Evans</td><td>31000</td><td>31000</td></tr><tr><td>Dominican Republic</td><td>Devon Waller</td><td>31000</td><td>31000</td></tr><tr><td>Guatemala</td><td>Mary Jordan</td><td>30000</td><td>30000</td></tr><tr><td>Benin</td><td>Debbie White</td><td>30000</td><td>30000</td></tr><tr><td>Afghanistan</td><td>Aaron Buchanan</td><td>30000</td><td>30000</td></tr><tr><td>Bosnia and Herzegovina</td><td>Alexander Rodriguez</td><td>30000</td><td>30000</td></tr><tr><td>Belarus</td><td>Amy Adams</td><td>29000</td><td>29000</td></tr><tr><td>Monaco</td><td>Sarah Salas</td><td>29000</td><td>29000</td></tr><tr><td>Isle of Man</td><td>Melanie Hill</td><td>29000</td><td>29000</td></tr><tr><td>Portugal</td><td>Eric Taylor</td><td>29000</td><td>29000</td></tr><tr><td>Ireland</td><td>Christine Leon</td><td>29000</td><td>29000</td></tr><tr><td>Angola</td><td>Lisa Johnson</td><td>28000</td><td>28000</td></tr><tr><td>Lebanon</td><td>Nichole Chapman</td><td>28000</td><td>28000</td></tr><tr><td>Afghanistan</td><td>Alexandria Gross</td><td>28000</td><td>28000</td></tr><tr><td>Afghanistan</td><td>Alexandria Anderson</td><td>14000</td><td>28000</td></tr><tr><td>Finland</td><td>Stacy Lopez</td><td>27000</td><td>27000</td></tr><tr><td>Aruba</td><td>Anthony Baker</td><td>9000</td><td>27000</td></tr><tr><td>Bahrain</td><td>David Harper</td><td>27000</td><td>27000</td></tr><tr><td>Costa Rica</td><td>Michael Grant</td><td>27000</td><td>27000</td></tr><tr><td>Bahamas</td><td>Alice Nicholson</td><td>27000</td><td>27000</td></tr><tr><td>Aruba</td><td>Carl Hampton</td><td>27000</td><td>27000</td></tr><tr><td>Somalia</td><td>Amber Robinson</td><td>27000</td><td>27000</td></tr><tr><td>Afghanistan</td><td>Erik Kelley</td><td>27000</td><td>27000</td></tr><tr><td>Canada</td><td>Darryl Baker</td><td>26000</td><td>26000</td></tr><tr><td>Kenya</td><td>April Simmons</td><td>26000</td><td>26000</td></tr><tr><td>Croatia</td><td>Anthony Davis</td><td>25000</td><td>25000</td></tr><tr><td>Cote d'Ivoire</td><td>Michelle Prince</td><td>25000</td><td>25000</td></tr><tr><td>Cyprus</td><td>Jason Brooks</td><td>25000</td><td>25000</td></tr><tr><td>Cambodia</td><td>Paul Johnson</td><td>25000</td><td>25000</td></tr><tr><td>Belgium</td><td>Jennifer Kaiser</td><td>24000</td><td>24000</td></tr><tr><td>Haiti</td><td>April Anderson</td><td>24000</td><td>24000</td></tr><tr><td>Singapore</td><td>Marie Kennedy</td><td>3000</td><td>24000</td></tr><tr><td>Cote d'Ivoire</td><td>Michelle Scott</td><td>24000</td><td>24000</td></tr><tr><td>Senegal</td><td>Felicia Carr</td><td>24000</td><td>24000</td></tr><tr><td>Latvia</td><td>Patricia Harvey</td><td>23000</td><td>23000</td></tr><tr><td>Heard Island and McDonald Islands</td><td>Kathleen Hamilton</td><td>23000</td><td>23000</td></tr><tr><td>Antarctica (the territory South of 60 deg S)</td><td>Aaron Brown</td><td>23000</td><td>23000</td></tr><tr><td>Palestinian Territory</td><td>William Simon</td><td>23000</td><td>23000</td></tr><tr><td>Bangladesh</td><td>Bernard Davis</td><td>11000</td><td>22000</td></tr><tr><td>Brazil</td><td>James Brown</td><td>11000</td><td>22000</td></tr><tr><td>Mauritania</td><td>Larry Pineda</td><td>22000</td><td>22000</td></tr><tr><td>Moldova</td><td>Ashley Combs</td><td>22000</td><td>22000</td></tr><tr><td>Antarctica (the territory South of 60 deg S)</td><td>David Hardin</td><td>22000</td><td>22000</td></tr><tr><td>Bhutan</td><td>Christopher Norman</td><td>22000</td><td>22000</td></tr><tr><td>Nepal</td><td>Jason Collier</td><td>22000</td><td>22000</td></tr><tr><td>British Virgin Islands</td><td>Catherine Burke</td><td>22000</td><td>22000</td></tr><tr><td>Bahrain</td><td>Jay Davis</td><td>11000</td><td>22000</td></tr><tr><td>American Samoa</td><td>Darrell Cunningham</td><td>22000</td><td>22000</td></tr><tr><td>Armenia</td><td>Valerie Bryant</td><td>22000</td><td>22000</td></tr><tr><td>Christmas Island</td><td>Carrie Parker</td><td>11000</td><td>22000</td></tr><tr><td>Antigua and Barbuda</td><td>Beth Armstrong</td><td>21000</td><td>21000</td></tr><tr><td>Guinea</td><td>Andrea Anderson</td><td>21000</td><td>21000</td></tr><tr><td>Turkey</td><td>Michael Taylor</td><td>21000</td><td>21000</td></tr><tr><td>Argentina</td><td>Albert Allison</td><td>7000</td><td>21000</td></tr><tr><td>Heard Island and McDonald Islands</td><td>Holly Delgado</td><td>21000</td><td>21000</td></tr><tr><td>Italy</td><td>Kelly Blackwell</td><td>21000</td><td>21000</td></tr><tr><td>Seychelles</td><td>Tammy Davis</td><td>21000</td><td>21000</td></tr><tr><td>Falkland Islands (Malvinas)</td><td>Christina Bryant</td><td>21000</td><td>21000</td></tr><tr><td>Saint Kitts and Nevis</td><td>Justin Jensen</td><td>20000</td><td>20000</td></tr><tr><td>Dominican Republic</td><td>Alex Jimenez</td><td>20000</td><td>20000</td></tr><tr><td>Montserrat</td><td>Darin Lee</td><td>20000</td><td>20000</td></tr><tr><td>Kenya</td><td>David Buckley</td><td>20000</td><td>20000</td></tr><tr><td>Barbados</td><td>Jessica Rosario</td><td>20000</td><td>20000</td></tr><tr><td>Ecuador</td><td>Amber Gray</td><td>20000</td><td>20000</td></tr><tr><td>New Caledonia</td><td>Kevin Marquez</td><td>20000</td><td>20000</td></tr><tr><td>Georgia</td><td>Kyle Gregory</td><td>20000</td><td>20000</td></tr><tr><td>Turks and Caicos Islands</td><td>Patty Chang</td><td>19000</td><td>19000</td></tr><tr><td>British Virgin Islands</td><td>James Goodwin</td><td>19000</td><td>19000</td></tr><tr><td>Australia</td><td>Deanna Molina</td><td>19000</td><td>19000</td></tr><tr><td>Greenland</td><td>Leslie Rodriguez</td><td>19000</td><td>19000</td></tr><tr><td>Austria</td><td>Lydia Nelson</td><td>19000</td><td>19000</td></tr><tr><td>Costa Rica</td><td>Amanda Brown</td><td>19000</td><td>19000</td></tr><tr><td>Chile</td><td>Nathan Stanton</td><td>19000</td><td>19000</td></tr><tr><td>New Zealand</td><td>Sandra Humphrey</td><td>19000</td><td>19000</td></tr><tr><td>Austria</td><td>Alexander Briggs</td><td>19000</td><td>19000</td></tr><tr><td>China</td><td>Ryan Adams</td><td>19000</td><td>19000</td></tr><tr><td>Malawi</td><td>Kristen Cox</td><td>18000</td><td>18000</td></tr><tr><td>Namibia</td><td>Anthony Duncan</td><td>18000</td><td>18000</td></tr><tr><td>Maldives</td><td>Kyle Perry</td><td>18000</td><td>18000</td></tr><tr><td>India</td><td>Edward Cervantes</td><td>18000</td><td>18000</td></tr><tr><td>American Samoa</td><td>Elaine Savage</td><td>18000</td><td>18000</td></tr><tr><td>Aruba</td><td>Dorothy Erickson</td><td>18000</td><td>18000</td></tr><tr><td>Ethiopia</td><td>Luke Carter</td><td>17000</td><td>17000</td></tr><tr><td>Croatia</td><td>Aaron Clark</td><td>17000</td><td>17000</td></tr><tr><td>Japan</td><td>Angela Conner</td><td>17000</td><td>17000</td></tr><tr><td>Czech Republic</td><td>Brian Barnes</td><td>16000</td><td>16000</td></tr><tr><td>Wallis and Futuna</td><td>Barry West</td><td>2000</td><td>16000</td></tr><tr><td>Libyan Arab Jamahiriya</td><td>Michael Mercado</td><td>16000</td><td>16000</td></tr><tr><td>French Polynesia</td><td>Frank Combs</td><td>16000</td><td>16000</td></tr><tr><td>Bulgaria</td><td>Antonio Davis</td><td>16000</td><td>16000</td></tr><tr><td>Austria</td><td>Amy Harris</td><td>16000</td><td>16000</td></tr><tr><td>Cayman Islands</td><td>Danny Ramsey</td><td>15000</td><td>15000</td></tr><tr><td>Gabon</td><td>Justin Summers</td><td>15000</td><td>15000</td></tr><tr><td>Vietnam</td><td>Joseph Kelly</td><td>15000</td><td>15000</td></tr><tr><td>Belgium</td><td>Brian Jarvis</td><td>15000</td><td>15000</td></tr><tr><td>Bangladesh</td><td>Christopher Haynes</td><td>15000</td><td>15000</td></tr><tr><td>Ethiopia</td><td>Sharon Woodward</td><td>15000</td><td>15000</td></tr><tr><td>Aruba</td><td>Abigail Barry</td><td>5000</td><td>15000</td></tr><tr><td>Czech Republic</td><td>Joseph Barnett</td><td>7000</td><td>14000</td></tr><tr><td>Somalia</td><td>Michael Ballard</td><td>14000</td><td>14000</td></tr><tr><td>Hong Kong</td><td>Frank Jackson</td><td>14000</td><td>14000</td></tr><tr><td>Christmas Island</td><td>Adam Church</td><td>14000</td><td>14000</td></tr><tr><td>Belgium</td><td>Anthony Mason</td><td>14000</td><td>14000</td></tr><tr><td>Afghanistan</td><td>Eric Anderson</td><td>14000</td><td>14000</td></tr><tr><td>Bermuda</td><td>Brenda Gonzalez</td><td>14000</td><td>14000</td></tr><tr><td>France</td><td>Jennifer Lester</td><td>14000</td><td>14000</td></tr><tr><td>Malawi</td><td>Carla Arnold</td><td>14000</td><td>14000</td></tr><tr><td>Burkina Faso</td><td>Andrew Brown</td><td>7000</td><td>14000</td></tr><tr><td>Aruba</td><td>Jennifer Pitts</td><td>13000</td><td>13000</td></tr><tr><td>Guadeloupe</td><td>Gary Tanner</td><td>13000</td><td>13000</td></tr><tr><td>Hong Kong</td><td>Michael Adams</td><td>13000</td><td>13000</td></tr><tr><td>Cyprus</td><td>Jessica Cline</td><td>13000</td><td>13000</td></tr><tr><td>Marshall Islands</td><td>Nicholas Hart</td><td>13000</td><td>13000</td></tr><tr><td>Bangladesh</td><td>Jeffrey Gordon</td><td>13000</td><td>13000</td></tr><tr><td>Belgium</td><td>Amanda Cooper</td><td>13000</td><td>13000</td></tr><tr><td>Bhutan</td><td>Jason Ayers</td><td>13000</td><td>13000</td></tr><tr><td>Heard Island and McDonald Islands</td><td>Jennifer Bailey</td><td>13000</td><td>13000</td></tr><tr><td>Estonia</td><td>Amy Castro</td><td>13000</td><td>13000</td></tr><tr><td>Nicaragua</td><td>Heather Morales</td><td>12000</td><td>12000</td></tr><tr><td>United States Virgin Islands</td><td>Nancy Franco</td><td>12000</td><td>12000</td></tr><tr><td>Comoros</td><td>Andrew Gordon</td><td>12000</td><td>12000</td></tr><tr><td>Botswana</td><td>April Shaffer</td><td>12000</td><td>12000</td></tr><tr><td>British Virgin Islands</td><td>Scott Walters</td><td>12000</td><td>12000</td></tr><tr><td>Aruba</td><td>Daniel Morgan</td><td>12000</td><td>12000</td></tr><tr><td>Belgium</td><td>Emily Carter</td><td>12000</td><td>12000</td></tr><tr><td>Egypt</td><td>Amanda Baker</td><td>11000</td><td>11000</td></tr><tr><td>British Indian Ocean Territory (Chagos Archipelago)</td><td>Lonnie Boyd</td><td>11000</td><td>11000</td></tr><tr><td>Faroe Islands</td><td>Daniel Anderson</td><td>11000</td><td>11000</td></tr><tr><td>Cocos (Keeling) Islands</td><td>Christopher Hawkins</td><td>5000</td><td>10000</td></tr><tr><td>Cyprus</td><td>Ana Rodriguez</td><td>10000</td><td>10000</td></tr><tr><td>Thailand</td><td>Sarah Greene</td><td>10000</td><td>10000</td></tr><tr><td>Equatorial Guinea</td><td>Elizabeth English</td><td>10000</td><td>10000</td></tr><tr><td>Azerbaijan</td><td>Arthur Hernandez</td><td>10000</td><td>10000</td></tr><tr><td>Germany</td><td>Calvin Atkins</td><td>10000</td><td>10000</td></tr><tr><td>Austria</td><td>Carol Silva</td><td>10000</td><td>10000</td></tr><tr><td>Grenada</td><td>Linda Blackwell</td><td>9000</td><td>9000</td></tr><tr><td>Anguilla</td><td>Stanley Jones</td><td>9000</td><td>9000</td></tr><tr><td>Saint Martin</td><td>James Mills</td><td>9000</td><td>9000</td></tr><tr><td>Egypt</td><td>Kayla Burton</td><td>9000</td><td>9000</td></tr><tr><td>Romania</td><td>Kristy Donaldson</td><td>9000</td><td>9000</td></tr><tr><td>Armenia</td><td>Alexander Clark</td><td>9000</td><td>9000</td></tr><tr><td>Jersey</td><td>Donna Barrett</td><td>9000</td><td>9000</td></tr><tr><td>Austria</td><td>Amanda Bowers</td><td>9000</td><td>9000</td></tr><tr><td>Armenia</td><td>Daniel Matthews</td><td>9000</td><td>9000</td></tr><tr><td>Ecuador</td><td>Andrew Buck</td><td>9000</td><td>9000</td></tr><tr><td>Luxembourg</td><td>Colleen Alvarez</td><td>9000</td><td>9000</td></tr><tr><td>Belize</td><td>Robert Barnes</td><td>9000</td><td>9000</td></tr><tr><td>Turkey</td><td>Richard Edwards</td><td>9000</td><td>9000</td></tr><tr><td>Georgia</td><td>James Green</td><td>9000</td><td>9000</td></tr><tr><td>British Virgin Islands</td><td>Dominique Ford</td><td>9000</td><td>9000</td></tr><tr><td>Nicaragua</td><td>Alexander Cervantes</td><td>9000</td><td>9000</td></tr><tr><td>Bosnia and Herzegovina</td><td>Alan Anderson</td><td>8000</td><td>8000</td></tr><tr><td>Mexico</td><td>Jeffrey Gross</td><td>8000</td><td>8000</td></tr><tr><td>Kiribati</td><td>Morgan Turner</td><td>8000</td><td>8000</td></tr><tr><td>Kazakhstan</td><td>Patrick Mills</td><td>8000</td><td>8000</td></tr><tr><td>Jamaica</td><td>Christian Lang</td><td>8000</td><td>8000</td></tr><tr><td>Argentina</td><td>Anna Cross</td><td>8000</td><td>8000</td></tr><tr><td>Guinea-Bissau</td><td>Denise Graves</td><td>4000</td><td>8000</td></tr><tr><td>Burkina Faso</td><td>Bradley Hernandez</td><td>8000</td><td>8000</td></tr><tr><td>Niue</td><td>Elizabeth Johnson</td><td>8000</td><td>8000</td></tr><tr><td>Armenia</td><td>Ann Elliott</td><td>8000</td><td>8000</td></tr><tr><td>Monaco</td><td>Kristen Stevenson</td><td>8000</td><td>8000</td></tr><tr><td>Antigua and Barbuda</td><td>Sheila Jones</td><td>8000</td><td>8000</td></tr><tr><td>Bahamas</td><td>Allison Adams</td><td>4000</td><td>8000</td></tr><tr><td>Lesotho</td><td>Lisa Washington</td><td>8000</td><td>8000</td></tr><tr><td>Bulgaria</td><td>James Dunn</td><td>8000</td><td>8000</td></tr><tr><td>Panama</td><td>Jessica Mejia</td><td>1000</td><td>8000</td></tr><tr><td>Falkland Islands (Malvinas)</td><td>Jonathan Rodriguez</td><td>8000</td><td>8000</td></tr><tr><td>Gabon</td><td>Mary Pope</td><td>7000</td><td>7000</td></tr><tr><td>Canada</td><td>Jose Bailey</td><td>7000</td><td>7000</td></tr><tr><td>New Zealand</td><td>Jacob Adams</td><td>7000</td><td>7000</td></tr><tr><td>Indonesia</td><td>George Allen</td><td>7000</td><td>7000</td></tr><tr><td>Chile</td><td>Alison Chan</td><td>7000</td><td>7000</td></tr><tr><td>Greece</td><td>Jose Franklin</td><td>7000</td><td>7000</td></tr><tr><td>Netherlands Antilles</td><td>Brandon Jackson</td><td>7000</td><td>7000</td></tr><tr><td>Venezuela</td><td>Jeffrey Hudson</td><td>7000</td><td>7000</td></tr><tr><td>Paraguay</td><td>Angela Reynolds</td><td>7000</td><td>7000</td></tr><tr><td>Macedonia</td><td>Katrina Fischer</td><td>7000</td><td>7000</td></tr><tr><td>Solomon Islands</td><td>Cindy Morales</td><td>7000</td><td>7000</td></tr><tr><td>Germany</td><td>Joshua Collins</td><td>7000</td><td>7000</td></tr><tr><td>Belarus</td><td>Christopher Bates</td><td>7000</td><td>7000</td></tr><tr><td>Turkmenistan</td><td>Heather Barnes</td><td>7000</td><td>7000</td></tr><tr><td>France</td><td>Jeffrey Smith</td><td>7000</td><td>7000</td></tr><tr><td>India</td><td>Jennifer Hudson</td><td>7000</td><td>7000</td></tr><tr><td>Montserrat</td><td>James Jefferson</td><td>6000</td><td>6000</td></tr><tr><td>Albania</td><td>Angela Chavez</td><td>6000</td><td>6000</td></tr><tr><td>Angola</td><td>Jamie Davis</td><td>6000</td><td>6000</td></tr><tr><td>Andorra</td><td>Andre Bartlett</td><td>6000</td><td>6000</td></tr><tr><td>French Polynesia</td><td>Alexandra Burns</td><td>3000</td><td>6000</td></tr><tr><td>Congo</td><td>Kylie Alvarez</td><td>6000</td><td>6000</td></tr><tr><td>Aruba</td><td>Brandon Henderson</td><td>6000</td><td>6000</td></tr><tr><td>Bouvet Island (Bouvetoya)</td><td>Duane Lopez</td><td>6000</td><td>6000</td></tr><tr><td>Mozambique</td><td>Timothy Sullivan</td><td>6000</td><td>6000</td></tr><tr><td>Cambodia</td><td>Robert Murphy</td><td>6000</td><td>6000</td></tr><tr><td>Maldives</td><td>David Davis</td><td>6000</td><td>6000</td></tr><tr><td>Lesotho</td><td>Tyler Davis</td><td>6000</td><td>6000</td></tr><tr><td>British Virgin Islands</td><td>Jack Dodson</td><td>6000</td><td>6000</td></tr><tr><td>Estonia</td><td>Barbara Ford</td><td>6000</td><td>6000</td></tr><tr><td>Cote d'Ivoire</td><td>Joseph Baxter</td><td>3000</td><td>6000</td></tr><tr><td>Norfolk Island</td><td>Justin Morris</td><td>6000</td><td>6000</td></tr><tr><td>Australia</td><td>David Brooks</td><td>6000</td><td>6000</td></tr><tr><td>Faroe Islands</td><td>Mark Jones</td><td>6000</td><td>6000</td></tr><tr><td>Azerbaijan</td><td>Leah Gonzalez</td><td>6000</td><td>6000</td></tr><tr><td>Bosnia and Herzegovina</td><td>Brandon Berg</td><td>5000</td><td>5000</td></tr><tr><td>Guadeloupe</td><td>Bryce Bailey</td><td>5000</td><td>5000</td></tr><tr><td>Germany</td><td>Christopher Butler</td><td>5000</td><td>5000</td></tr><tr><td>Australia</td><td>Michael Decker</td><td>5000</td><td>5000</td></tr><tr><td>Papua New Guinea</td><td>Jennifer Kelly</td><td>5000</td><td>5000</td></tr><tr><td>Iceland</td><td>Natasha Gonzalez</td><td>5000</td><td>5000</td></tr><tr><td>Kuwait</td><td>Angela Barker</td><td>5000</td><td>5000</td></tr><tr><td>Andorra</td><td>Lisa Brewer</td><td>5000</td><td>5000</td></tr><tr><td>Brunei Darussalam</td><td>Anthony Golden</td><td>5000</td><td>5000</td></tr><tr><td>Cuba</td><td>Erin Thompson</td><td>5000</td><td>5000</td></tr><tr><td>Dominica</td><td>Anna Taylor</td><td>5000</td><td>5000</td></tr><tr><td>Haiti</td><td>William Combs</td><td>5000</td><td>5000</td></tr><tr><td>Marshall Islands</td><td>Ann Holmes</td><td>5000</td><td>5000</td></tr><tr><td>Mayotte</td><td>Brenda Brown</td><td>5000</td><td>5000</td></tr><tr><td>Kazakhstan</td><td>Amy Hughes</td><td>5000</td><td>5000</td></tr><tr><td>Algeria</td><td>Brian Barnes</td><td>5000</td><td>5000</td></tr><tr><td>Brazil</td><td>James Graves</td><td>5000</td><td>5000</td></tr><tr><td>Ethiopia</td><td>Mark Duran</td><td>5000</td><td>5000</td></tr><tr><td>Argentina</td><td>Brad Guerrero</td><td>5000</td><td>5000</td></tr><tr><td>Bahamas</td><td>Lori Campos</td><td>5000</td><td>5000</td></tr><tr><td>Togo</td><td>Jeremy Chase</td><td>4000</td><td>4000</td></tr><tr><td>British Virgin Islands</td><td>Aaron Berry</td><td>4000</td><td>4000</td></tr><tr><td>Niger</td><td>Heidi Perez</td><td>4000</td><td>4000</td></tr><tr><td>Azerbaijan</td><td>Barbara Clark</td><td>4000</td><td>4000</td></tr><tr><td>Morocco</td><td>Laura Anderson</td><td>4000</td><td>4000</td></tr><tr><td>Bermuda</td><td>Robert Mclaughlin</td><td>4000</td><td>4000</td></tr><tr><td>Peru</td><td>Jeremy Hebert</td><td>4000</td><td>4000</td></tr><tr><td>Korea</td><td>Alan Newman</td><td>4000</td><td>4000</td></tr><tr><td>Finland</td><td>Antonio Aguilar</td><td>4000</td><td>4000</td></tr><tr><td>Congo</td><td>Brett Oliver</td><td>4000</td><td>4000</td></tr><tr><td>British Virgin Islands</td><td>John Foster</td><td>4000</td><td>4000</td></tr><tr><td>Estonia</td><td>Catherine Mitchell</td><td>4000</td><td>4000</td></tr><tr><td>Saint Kitts and Nevis</td><td>Rebecca Simmons</td><td>4000</td><td>4000</td></tr><tr><td>Yemen</td><td>Julia Bennett</td><td>4000</td><td>4000</td></tr><tr><td>Poland</td><td>Michael Delacruz</td><td>4000</td><td>4000</td></tr><tr><td>Montserrat</td><td>Brittany Butler</td><td>4000</td><td>4000</td></tr><tr><td>Portugal</td><td>Emily Norton</td><td>4000</td><td>4000</td></tr><tr><td>Mexico</td><td>Jonathan Becker</td><td>4000</td><td>4000</td></tr><tr><td>Qatar</td><td>Melanie Allison</td><td>4000</td><td>4000</td></tr><tr><td>Jamaica</td><td>Sara May</td><td>4000</td><td>4000</td></tr><tr><td>French Southern Territories</td><td>Stephanie Taylor</td><td>4000</td><td>4000</td></tr><tr><td>Andorra</td><td>Brandon Holmes</td><td>4000</td><td>4000</td></tr><tr><td>Egypt</td><td>Ashley Anderson</td><td>406</td><td>3248</td></tr><tr><td>Benin</td><td>Janet Andrews</td><td>3000</td><td>3000</td></tr><tr><td>French Guiana</td><td>Catherine Bowman</td><td>3000</td><td>3000</td></tr><tr><td>Chad</td><td>Barbara Riley</td><td>3000</td><td>3000</td></tr><tr><td>French Polynesia</td><td>Adam Cook</td><td>3000</td><td>3000</td></tr><tr><td>Bosnia and Herzegovina</td><td>Linda Mccullough</td><td>3000</td><td>3000</td></tr><tr><td>Antigua and Barbuda</td><td>Alice Day</td><td>3000</td><td>3000</td></tr><tr><td>Chile</td><td>Lauren Hill</td><td>3000</td><td>3000</td></tr><tr><td>Benin</td><td>Alyssa Greene</td><td>3000</td><td>3000</td></tr><tr><td>Singapore</td><td>Jeffrey Jones</td><td>3000</td><td>3000</td></tr><tr><td>Swaziland</td><td>Jeffery Roberson</td><td>3000</td><td>3000</td></tr><tr><td>Antigua and Barbuda</td><td>Kevin Young</td><td>3000</td><td>3000</td></tr><tr><td>Dominican Republic</td><td>Kaylee Miller</td><td>3000</td><td>3000</td></tr><tr><td>Vietnam</td><td>Shawn Woods</td><td>3000</td><td>3000</td></tr><tr><td>Ghana</td><td>Patrick Smith</td><td>3000</td><td>3000</td></tr><tr><td>Mongolia</td><td>Steven Murphy</td><td>3000</td><td>3000</td></tr><tr><td>Samoa</td><td>Robert Golden</td><td>3000</td><td>3000</td></tr><tr><td>Romania</td><td>Scott Page</td><td>3000</td><td>3000</td></tr><tr><td>Argentina</td><td>Donna Campbell</td><td>3000</td><td>3000</td></tr><tr><td>Bhutan</td><td>Aaron Jenkins</td><td>3000</td><td>3000</td></tr><tr><td>Falkland Islands (Malvinas)</td><td>Rebecca Poole</td><td>3000</td><td>3000</td></tr><tr><td>Finland</td><td>Taylor Bean</td><td>3000</td><td>3000</td></tr><tr><td>South Africa</td><td>Stacy May</td><td>3000</td><td>3000</td></tr><tr><td>Austria</td><td>Colin Clayton</td><td>3000</td><td>3000</td></tr><tr><td>Nauru</td><td>Keith Martinez</td><td>3000</td><td>3000</td></tr><tr><td>Barbados</td><td>Beth Johnson</td><td>1000</td><td>3000</td></tr><tr><td>Cyprus</td><td>Margaret Banks</td><td>3000</td><td>3000</td></tr><tr><td>British Virgin Islands</td><td>Leah Franco</td><td>3000</td><td>3000</td></tr><tr><td>Algeria</td><td>Monica Hernandez</td><td>3000</td><td>3000</td></tr><tr><td>Israel</td><td>Samuel Hawkins</td><td>3000</td><td>3000</td></tr><tr><td>Macao</td><td>Michael Mcconnell</td><td>3000</td><td>3000</td></tr><tr><td>Brunei Darussalam</td><td>Anita Acosta</td><td>2000</td><td>2000</td></tr><tr><td>Finland</td><td>Amanda Maldonado</td><td>2000</td><td>2000</td></tr><tr><td>Bahrain</td><td>Anthony Dean</td><td>2000</td><td>2000</td></tr><tr><td>Gabon</td><td>Heather Russell</td><td>2000</td><td>2000</td></tr><tr><td>Tunisia</td><td>Arthur Riggs</td><td>2000</td><td>2000</td></tr><tr><td>Micronesia</td><td>Nathan Davis</td><td>2000</td><td>2000</td></tr><tr><td>Congo</td><td>Christopher Foster</td><td>2000</td><td>2000</td></tr><tr><td>Tajikistan</td><td>Maxwell James</td><td>2000</td><td>2000</td></tr><tr><td>Fiji</td><td>Garrett Hernandez</td><td>2000</td><td>2000</td></tr><tr><td>Gibraltar</td><td>Jill Taylor</td><td>2000</td><td>2000</td></tr><tr><td>American Samoa</td><td>Kevin Johnson</td><td>2000</td><td>2000</td></tr><tr><td>Hungary</td><td>Madeline Brown</td><td>2000</td><td>2000</td></tr><tr><td>Philippines</td><td>Brooke Vang</td><td>2000</td><td>2000</td></tr><tr><td>Pakistan</td><td>Isaac Andrews</td><td>2000</td><td>2000</td></tr><tr><td>Azerbaijan</td><td>Christina Aguilar</td><td>2000</td><td>2000</td></tr><tr><td>Mongolia</td><td>Brandi Martin</td><td>2000</td><td>2000</td></tr><tr><td>Greece</td><td>Stacey Scott</td><td>2000</td><td>2000</td></tr><tr><td>Anguilla</td><td>Thomas Stone</td><td>2000</td><td>2000</td></tr><tr><td>Isle of Man</td><td>Michelle Larsen</td><td>2000</td><td>2000</td></tr><tr><td>Sao Tome and Principe</td><td>Nicholas Mcdaniel</td><td>2000</td><td>2000</td></tr><tr><td>Antigua and Barbuda</td><td>Brandon Mueller</td><td>2000</td><td>2000</td></tr><tr><td>Azerbaijan</td><td>Jessica English</td><td>2000</td><td>2000</td></tr><tr><td>Madagascar</td><td>Manuel Ashley</td><td>2000</td><td>2000</td></tr><tr><td>Egypt</td><td>Carmen Taylor</td><td>2000</td><td>2000</td></tr><tr><td>Papua New Guinea</td><td>Lisa Gibson</td><td>2000</td><td>2000</td></tr><tr><td>Guernsey</td><td>Ryan Long</td><td>2000</td><td>2000</td></tr><tr><td>Macao</td><td>Julia Jackson</td><td>221</td><td>1768</td></tr><tr><td>Sweden</td><td>Meghan Gomez</td><td>214</td><td>1712</td></tr><tr><td>Greece</td><td>Janet Shaw</td><td>206</td><td>1648</td></tr><tr><td>Antarctica (the territory South of 60 deg S)</td><td>Michelle Duncan</td><td>203</td><td>1624</td></tr><tr><td>Jamaica</td><td>Ronald Hanson</td><td>178</td><td>1424</td></tr><tr><td>Australia</td><td>Christian Cruz</td><td>137</td><td>1096</td></tr><tr><td>Belize</td><td>Adam Bennett</td><td>1000</td><td>1000</td></tr><tr><td>Cook Islands</td><td>Daniel Reyes</td><td>1000</td><td>1000</td></tr><tr><td>France</td><td>Andrew Allen</td><td>1000</td><td>1000</td></tr><tr><td>Antarctica (the territory South of 60 deg S)</td><td>Andrea Allen</td><td>1000</td><td>1000</td></tr><tr><td>Heard Island and McDonald Islands</td><td>Wayne Murphy</td><td>1000</td><td>1000</td></tr><tr><td>Burkina Faso</td><td>Kelly Carter</td><td>1000</td><td>1000</td></tr><tr><td>Bhutan</td><td>Danielle Gonzalez</td><td>1000</td><td>1000</td></tr><tr><td>Ukraine</td><td>Grace Walker</td><td>1000</td><td>1000</td></tr><tr><td>Yemen</td><td>David Hill</td><td>1000</td><td>1000</td></tr><tr><td>Puerto Rico</td><td>Samuel Thompson</td><td>1000</td><td>1000</td></tr><tr><td>Marshall Islands</td><td>Andrew Silva</td><td>1000</td><td>1000</td></tr><tr><td>Latvia</td><td>Linda Tate</td><td>1000</td><td>1000</td></tr><tr><td>Iran</td><td>Cassandra Cooke</td><td>1000</td><td>1000</td></tr><tr><td>Sri Lanka</td><td>Scott Jackson</td><td>1000</td><td>1000</td></tr><tr><td>Egypt</td><td>Kendra Padilla</td><td>1000</td><td>1000</td></tr><tr><td>Nicaragua</td><td>Timothy Meyer</td><td>1000</td><td>1000</td></tr><tr><td>Bouvet Island (Bouvetoya)</td><td>Gabrielle Flores</td><td>1000</td><td>1000</td></tr><tr><td>Bangladesh</td><td>Christopher Campbell</td><td>1000</td><td>1000</td></tr><tr><td>San Marino</td><td>Brent Baldwin</td><td>1000</td><td>1000</td></tr><tr><td>Turkmenistan</td><td>Vernon Brown</td><td>1000</td><td>1000</td></tr><tr><td>India</td><td>Jason Thomas</td><td>1000</td><td>1000</td></tr><tr><td>Kuwait</td><td>Justin Ewing</td><td>1000</td><td>1000</td></tr><tr><td>Andorra</td><td>Frank Howard</td><td>1000</td><td>1000</td></tr><tr><td>Israel</td><td>Adam Nash</td><td>1000</td><td>1000</td></tr><tr><td>Japan</td><td>Johnny Gardner</td><td>1000</td><td>1000</td></tr><tr><td>Kuwait</td><td>Emily Morgan</td><td>1000</td><td>1000</td></tr><tr><td>Cook Islands</td><td>Brandon Buchanan</td><td>1000</td><td>1000</td></tr><tr><td>Micronesia</td><td>Elaine Contreras</td><td>1000</td><td>1000</td></tr><tr><td>Finland</td><td>Derrick Kim</td><td>1000</td><td>1000</td></tr><tr><td>Cote d'Ivoire</td><td>Brent Allen</td><td>970</td><td>970</td></tr><tr><td>Sudan</td><td>Cheryl Huerta</td><td>940</td><td>940</td></tr><tr><td>Congo</td><td>Jason Martin</td><td>908</td><td>908</td></tr><tr><td>Saint Kitts and Nevis</td><td>Brenda Holden</td><td>904</td><td>904</td></tr><tr><td>Papua New Guinea</td><td>Michelle Gutierrez</td><td>112</td><td>896</td></tr><tr><td>Bermuda</td><td>Amber Blevins</td><td>884</td><td>884</td></tr><tr><td>Liechtenstein</td><td>Jessica Sullivan</td><td>881</td><td>881</td></tr><tr><td>Bermuda</td><td>Adam Anderson</td><td>873</td><td>873</td></tr><tr><td>Lao People's Democratic Republic</td><td>Joyce Ochoa</td><td>849</td><td>849</td></tr><tr><td>Hungary</td><td>Clarence Brooks</td><td>848</td><td>848</td></tr><tr><td>Qatar</td><td>Bryan Mcfarland</td><td>838</td><td>838</td></tr><tr><td>Brazil</td><td>Tracie Thompson</td><td>833</td><td>833</td></tr><tr><td>Holy See (Vatican City State)</td><td>Shannon Melton</td><td>831</td><td>831</td></tr><tr><td>Aruba</td><td>Amanda Alvarez</td><td>159</td><td>795</td></tr><tr><td>Sao Tome and Principe</td><td>David Taylor</td><td>793</td><td>793</td></tr><tr><td>Anguilla</td><td>Kyle Mccarthy</td><td>784</td><td>784</td></tr><tr><td>Bangladesh</td><td>Darius Thompson</td><td>781</td><td>781</td></tr><tr><td>Kyrgyz Republic</td><td>Stephanie Cooper</td><td>778</td><td>778</td></tr><tr><td>Oman</td><td>Jose Robbins</td><td>777</td><td>777</td></tr><tr><td>Kazakhstan</td><td>Natalie Davis</td><td>771</td><td>771</td></tr><tr><td>Antigua and Barbuda</td><td>Casey Perry</td><td>760</td><td>760</td></tr><tr><td>Slovenia</td><td>Lauren Powell</td><td>746</td><td>746</td></tr><tr><td>Nicaragua</td><td>Seth Gardner</td><td>729</td><td>729</td></tr><tr><td>Antigua and Barbuda</td><td>Michelle Smith</td><td>722</td><td>722</td></tr><tr><td>Belarus</td><td>Jordan Grant</td><td>709</td><td>709</td></tr><tr><td>Honduras</td><td>Julie Branch</td><td>663</td><td>663</td></tr><tr><td>Korea</td><td>Melissa Weiss</td><td>662</td><td>662</td></tr><tr><td>Bermuda</td><td>Nancy Choi</td><td>630</td><td>630</td></tr><tr><td>Tajikistan</td><td>Adam Baker</td><td>593</td><td>593</td></tr><tr><td>Macao</td><td>Rebecca Conner</td><td>583</td><td>583</td></tr><tr><td>Cambodia</td><td>Patricia Davis</td><td>579</td><td>579</td></tr><tr><td>Greece</td><td>Alexandra Anderson</td><td>578</td><td>578</td></tr><tr><td>Gibraltar</td><td>Bethany Owens</td><td>554</td><td>554</td></tr><tr><td>Guatemala</td><td>Sarah Valenzuela</td><td>542</td><td>542</td></tr><tr><td>Niue</td><td>Melissa Griffin</td><td>538</td><td>538</td></tr><tr><td>Ecuador</td><td>Dawn Bradley</td><td>265</td><td>530</td></tr><tr><td>Nicaragua</td><td>Jonathan Martinez</td><td>521</td><td>521</td></tr><tr><td>Saint Barthelemy</td><td>Gerald Davis</td><td>517</td><td>517</td></tr><tr><td>Bhutan</td><td>Andrew Estrada</td><td>517</td><td>517</td></tr><tr><td>Faroe Islands</td><td>Daniel Davis</td><td>511</td><td>511</td></tr><tr><td>Morocco</td><td>Gina Hammond</td><td>504</td><td>504</td></tr><tr><td>Palestinian Territory</td><td>Alexis Taylor</td><td>494</td><td>494</td></tr><tr><td>Mexico</td><td>Kristina Dawson</td><td>492</td><td>492</td></tr><tr><td>Botswana</td><td>Grace Becker</td><td>458</td><td>458</td></tr><tr><td>Dominica</td><td>Cynthia Guerra</td><td>458</td><td>458</td></tr><tr><td>Papua New Guinea</td><td>Kaitlyn Hughes</td><td>444</td><td>444</td></tr><tr><td>Faroe Islands</td><td>Diane Phillips</td><td>443</td><td>443</td></tr><tr><td>Cocos (Keeling) Islands</td><td>Thomas Turner</td><td>437</td><td>437</td></tr><tr><td>Bangladesh</td><td>Amanda Nunez</td><td>436</td><td>436</td></tr><tr><td>Central African Republic</td><td>Amanda Brewer</td><td>426</td><td>426</td></tr><tr><td>Ghana</td><td>Kevin Torres</td><td>53</td><td>424</td></tr><tr><td>United States of America</td><td>David Manning</td><td>406</td><td>406</td></tr><tr><td>Guyana</td><td>James Turner</td><td>394</td><td>394</td></tr><tr><td>Paraguay</td><td>Katherine Dennis</td><td>392</td><td>392</td></tr><tr><td>Singapore</td><td>Nicole Harrison</td><td>387</td><td>387</td></tr><tr><td>Belgium</td><td>Holly Kent</td><td>387</td><td>387</td></tr><tr><td>New Caledonia</td><td>Peter Roberts</td><td>377</td><td>377</td></tr><tr><td>Isle of Man</td><td>Jacob Baird</td><td>376</td><td>376</td></tr><tr><td>New Zealand</td><td>Katherine Peterson</td><td>366</td><td>366</td></tr><tr><td>Afghanistan</td><td>Danielle Atkinson</td><td>361</td><td>361</td></tr><tr><td>Armenia</td><td>Robert Lewis</td><td>359</td><td>359</td></tr><tr><td>Cape Verde</td><td>Francisco Yang</td><td>344</td><td>344</td></tr><tr><td>Australia</td><td>David Leach</td><td>336</td><td>336</td></tr><tr><td>Saudi Arabia</td><td>Tammy Wise</td><td>332</td><td>332</td></tr><tr><td>Saint Helena</td><td>Mindy Garrison</td><td>328</td><td>328</td></tr><tr><td>Georgia</td><td>Patricia Meyer</td><td>328</td><td>328</td></tr><tr><td>Bahamas</td><td>Amber Erickson</td><td>326</td><td>326</td></tr><tr><td>Saint Pierre and Miquelon</td><td>James Keith</td><td>323</td><td>323</td></tr><tr><td>Bhutan</td><td>William Donovan</td><td>323</td><td>323</td></tr><tr><td>Guinea</td><td>Adam Anderson</td><td>320</td><td>320</td></tr><tr><td>Honduras</td><td>Steven Duncan</td><td>319</td><td>319</td></tr><tr><td>Nicaragua</td><td>Wendy Benjamin</td><td>316</td><td>316</td></tr><tr><td>Grenada</td><td>Michael Hunter</td><td>314</td><td>314</td></tr><tr><td>Isle of Man</td><td>Lisa Gamble</td><td>313</td><td>313</td></tr><tr><td>Equatorial Guinea</td><td>Mary Moon</td><td>311</td><td>311</td></tr><tr><td>Aruba</td><td>Carlos Dixon</td><td>305</td><td>305</td></tr><tr><td>Romania</td><td>Deanna Alexander</td><td>301</td><td>301</td></tr><tr><td>Bahamas</td><td>Aaron Johnson</td><td>293</td><td>293</td></tr><tr><td>Niger</td><td>Holly Bailey</td><td>293</td><td>293</td></tr><tr><td>Greenland</td><td>Nicole Johnson</td><td>270</td><td>270</td></tr><tr><td>Poland</td><td>John Anderson</td><td>265</td><td>265</td></tr><tr><td>Niue</td><td>Shane Huang</td><td>263</td><td>263</td></tr><tr><td>Armenia</td><td>Jessica Long</td><td>262</td><td>262</td></tr><tr><td>Pitcairn Islands</td><td>Jessica Clarke</td><td>255</td><td>255</td></tr><tr><td>Trinidad and Tobago</td><td>Joshua Long</td><td>254</td><td>254</td></tr><tr><td>Saint Pierre and Miquelon</td><td>Michael Snyder</td><td>242</td><td>242</td></tr><tr><td>United States Virgin Islands</td><td>Katherine Howell</td><td>240</td><td>240</td></tr><tr><td>Belize</td><td>Amanda Holt</td><td>240</td><td>240</td></tr><tr><td>Saint Pierre and Miquelon</td><td>Erica Green</td><td>237</td><td>237</td></tr><tr><td>Netherlands</td><td>Steven Sanders</td><td>228</td><td>228</td></tr><tr><td>Central African Republic</td><td>Angela Griffin</td><td>224</td><td>224</td></tr><tr><td>Saudi Arabia</td><td>Samantha Hall</td><td>223</td><td>223</td></tr><tr><td>Somalia</td><td>Shawn Gray</td><td>217</td><td>217</td></tr><tr><td>Bolivia</td><td>Linda Rojas</td><td>213</td><td>213</td></tr><tr><td>Slovakia (Slovak Republic)</td><td>Marissa Spence</td><td>213</td><td>213</td></tr><tr><td>Mozambique</td><td>John Patterson</td><td>212</td><td>212</td></tr><tr><td>Qatar</td><td>Alejandro Graham</td><td>202</td><td>202</td></tr><tr><td>Cocos (Keeling) Islands</td><td>Joann Anderson</td><td>99</td><td>198</td></tr><tr><td>Antarctica (the territory South of 60 deg S)</td><td>Scott Copeland</td><td>198</td><td>198</td></tr><tr><td>Bermuda</td><td>Dana Jackson</td><td>198</td><td>198</td></tr><tr><td>Samoa</td><td>Mark Richardson</td><td>196</td><td>196</td></tr><tr><td>Ghana</td><td>Nancy Case</td><td>191</td><td>191</td></tr><tr><td>Norway</td><td>Nicole Gray</td><td>189</td><td>189</td></tr><tr><td>Nauru</td><td>Chris Griffin</td><td>188</td><td>188</td></tr><tr><td>Saint Martin</td><td>Nancy Sanchez</td><td>188</td><td>188</td></tr><tr><td>Bangladesh</td><td>Bernard Arnold</td><td>184</td><td>184</td></tr><tr><td>Singapore</td><td>Debra Jenkins</td><td>179</td><td>179</td></tr><tr><td>Denmark</td><td>Nancy Jones</td><td>177</td><td>177</td></tr><tr><td>Finland</td><td>Alison Harding</td><td>168</td><td>168</td></tr><tr><td>Monaco</td><td>Corey Anderson</td><td>167</td><td>167</td></tr><tr><td>Nigeria</td><td>Cheryl Dean</td><td>164</td><td>164</td></tr><tr><td>Saint Pierre and Miquelon</td><td>Hannah Lee</td><td>154</td><td>154</td></tr><tr><td>Namibia</td><td>Grace Luna</td><td>19</td><td>152</td></tr><tr><td>Iran</td><td>Melissa Thompson</td><td>150</td><td>150</td></tr><tr><td>Dominican Republic</td><td>Michelle Brown</td><td>150</td><td>150</td></tr><tr><td>Trinidad and Tobago</td><td>Abigail Stuart</td><td>143</td><td>143</td></tr><tr><td>Angola</td><td>John Cruz</td><td>139</td><td>139</td></tr><tr><td>Niger</td><td>Anthony Mcbride</td><td>135</td><td>135</td></tr><tr><td>Czech Republic</td><td>Erin Lawson</td><td>133</td><td>133</td></tr><tr><td>Saint Vincent and the Grenadines</td><td>Tommy Murray</td><td>121</td><td>121</td></tr><tr><td>Cameroon</td><td>Sarah Henry</td><td>112</td><td>112</td></tr><tr><td>Philippines</td><td>Michael Carter</td><td>111</td><td>111</td></tr><tr><td>Iran</td><td>Sandra Bell</td><td>106</td><td>106</td></tr><tr><td>Malta</td><td>Cynthia Ortiz</td><td>13</td><td>104</td></tr><tr><td>Fiji</td><td>Haley Jordan</td><td>101</td><td>101</td></tr><tr><td>Algeria</td><td>Jennifer Grimes</td><td>100</td><td>100</td></tr><tr><td>Burundi</td><td>Matthew Thomas</td><td>94</td><td>94</td></tr><tr><td>Guadeloupe</td><td>Clayton George</td><td>92</td><td>92</td></tr><tr><td>Benin</td><td>Cody Barker</td><td>91</td><td>91</td></tr><tr><td>Bahrain</td><td>Shane Blanchard</td><td>91</td><td>91</td></tr><tr><td>Botswana</td><td>Brian Bailey</td><td>82</td><td>82</td></tr><tr><td>Aruba</td><td>Alvin Adams</td><td>27</td><td>81</td></tr><tr><td>Serbia</td><td>Cameron Medina</td><td>78</td><td>78</td></tr><tr><td>Cape Verde</td><td>Charles Clark</td><td>77</td><td>77</td></tr><tr><td>Belize</td><td>Brian Buckley</td><td>38</td><td>76</td></tr><tr><td>France</td><td>Timothy Smith</td><td>76</td><td>76</td></tr><tr><td>British Virgin Islands</td><td>Kelly Jones</td><td>73</td><td>73</td></tr><tr><td>Albania</td><td>Donald Bennett</td><td>65</td><td>65</td></tr><tr><td>Palestinian Territory</td><td>Peter Huffman</td><td>65</td><td>65</td></tr><tr><td>Mozambique</td><td>Jason Herrera</td><td>63</td><td>63</td></tr><tr><td>Hungary</td><td>Christopher Combs</td><td>63</td><td>63</td></tr><tr><td>American Samoa</td><td>Amanda Allen</td><td>5</td><td>60</td></tr><tr><td>Uganda</td><td>Cristina Delgado</td><td>57</td><td>57</td></tr><tr><td>Turks and Caicos Islands</td><td>Pamela Wilson</td><td>7</td><td>56</td></tr><tr><td>Iran</td><td>Jennifer Snyder</td><td>56</td><td>56</td></tr><tr><td>Central African Republic</td><td>April Anderson</td><td>28</td><td>56</td></tr><tr><td>Egypt</td><td>Heather Arellano</td><td>25</td><td>50</td></tr><tr><td>Mauritania</td><td>Nicole Mitchell</td><td>50</td><td>50</td></tr><tr><td>Sweden</td><td>Todd Lang</td><td>48</td><td>48</td></tr><tr><td>Switzerland</td><td>Jermaine Hensley</td><td>45</td><td>45</td></tr><tr><td>Panama</td><td>Kaitlyn Rodriguez</td><td>43</td><td>43</td></tr><tr><td>Tuvalu</td><td>Grant Villanueva</td><td>41</td><td>41</td></tr><tr><td>Indonesia</td><td>Andrew Winters</td><td>39</td><td>39</td></tr><tr><td>Guernsey</td><td>Theresa Dixon</td><td>39</td><td>39</td></tr><tr><td>Nigeria</td><td>Michael Clark</td><td>36</td><td>36</td></tr><tr><td>Lithuania</td><td>James Warren</td><td>34</td><td>34</td></tr><tr><td>United States Virgin Islands</td><td>Meghan Larson</td><td>33</td><td>33</td></tr><tr><td>Solomon Islands</td><td>Steven Dixon</td><td>33</td><td>33</td></tr><tr><td>Equatorial Guinea</td><td>Ashley Castro</td><td>31</td><td>31</td></tr><tr><td>Bangladesh</td><td>Robert Black</td><td>31</td><td>31</td></tr><tr><td>Iran</td><td>Jack Morales</td><td>28</td><td>28</td></tr><tr><td>Venezuela</td><td>Lawrence Lane</td><td>28</td><td>28</td></tr><tr><td>Colombia</td><td>Amanda Herrera</td><td>27</td><td>27</td></tr><tr><td>Japan</td><td>Joyce Kennedy</td><td>27</td><td>27</td></tr><tr><td>Tanzania</td><td>Sarah Buchanan</td><td>26</td><td>26</td></tr><tr><td>Djibouti</td><td>Adrian Marshall</td><td>25</td><td>25</td></tr><tr><td>Andorra</td><td>Jordan Jenkins</td><td>3</td><td>24</td></tr><tr><td>Norfolk Island</td><td>Stephen Chan</td><td>23</td><td>23</td></tr><tr><td>Liechtenstein</td><td>Christopher Anderson</td><td>23</td><td>23</td></tr><tr><td>Uganda</td><td>Erik Martinez</td><td>22</td><td>22</td></tr><tr><td>Bahamas</td><td>Amber Bennett</td><td>22</td><td>22</td></tr><tr><td>Peru</td><td>Amanda Cox</td><td>21</td><td>21</td></tr><tr><td>India</td><td>Phillip Middleton</td><td>21</td><td>21</td></tr><tr><td>Panama</td><td>Joseph Dominguez</td><td>21</td><td>21</td></tr><tr><td>Bangladesh</td><td>Barry Hunt</td><td>20</td><td>20</td></tr><tr><td>Finland</td><td>Ariana Gross</td><td>20</td><td>20</td></tr><tr><td>Cocos (Keeling) Islands</td><td>Charles York</td><td>19</td><td>19</td></tr><tr><td>Seychelles</td><td>Virginia Vega</td><td>18</td><td>18</td></tr><tr><td>Saint Barthelemy</td><td>Matthew Simon</td><td>18</td><td>18</td></tr><tr><td>Czech Republic</td><td>Jessica Arellano</td><td>18</td><td>18</td></tr><tr><td>Cote d'Ivoire</td><td>Kathleen Lawson</td><td>15</td><td>15</td></tr><tr><td>Cuba</td><td>Jacqueline King</td><td>13</td><td>13</td></tr><tr><td>Saint Vincent and the Grenadines</td><td>Karina Morton</td><td>13</td><td>13</td></tr><tr><td>Albania</td><td>Shannon Dean</td><td>12</td><td>12</td></tr><tr><td>Argentina</td><td>Sandra Allen</td><td>12</td><td>12</td></tr><tr><td>Israel</td><td>Carl Anderson</td><td>11</td><td>11</td></tr><tr><td>Sudan</td><td>Heather Robbins</td><td>9</td><td>9</td></tr><tr><td>Kiribati</td><td>Scott Campbell</td><td>8</td><td>8</td></tr><tr><td>Guyana</td><td>Joshua Harrison</td><td>8</td><td>8</td></tr><tr><td>Anguilla</td><td>Brittany Cruz</td><td>7</td><td>7</td></tr><tr><td>Colombia</td><td>Crystal Santiago</td><td>7</td><td>7</td></tr><tr><td>Iraq</td><td>Charles Martinez</td><td>7</td><td>7</td></tr><tr><td>Grenada</td><td>Jacob Cochran</td><td>7</td><td>7</td></tr><tr><td>Cyprus</td><td>Isabel Rogers</td><td>6</td><td>6</td></tr><tr><td>Sudan</td><td>Jill Gilmore</td><td>6</td><td>6</td></tr><tr><td>Solomon Islands</td><td>Valerie Rodriguez</td><td>6</td><td>6</td></tr><tr><td>Romania</td><td>Dawn Mcdowell</td><td>5</td><td>5</td></tr><tr><td>Macao</td><td>Dustin Turner</td><td>5</td><td>5</td></tr><tr><td>Uganda</td><td>Brenda Cherry</td><td>5</td><td>5</td></tr><tr><td>Uganda</td><td>Bradley Coleman</td><td>4</td><td>4</td></tr><tr><td>Jersey</td><td>James Brown</td><td>4</td><td>4</td></tr><tr><td>Malta</td><td>Amanda Guzman</td><td>4</td><td>4</td></tr><tr><td>Bahamas</td><td>Danielle Hernandez</td><td>4</td><td>4</td></tr><tr><td>Fiji</td><td>Christopher Daniel</td><td>2</td><td>2</td></tr><tr><td>Ireland</td><td>Aaron Lam</td><td>2</td><td>2</td></tr><tr><td>Congo</td><td>Steven Weiss</td><td>1</td><td>1</td></tr><tr><td>Montserrat</td><td>Margaret Torres</td><td>1</td><td>1</td></tr><tr><td>Andorra</td><td>Christian Howell</td><td>1</td><td>1</td></tr><tr><td>Djibouti</td><td>Amanda Stevens</td><td>1</td><td>1</td></tr><tr><td>Guinea-Bissau</td><td>Joe Pham</td><td>0</td><td>0</td></tr><tr><td>Lithuania</td><td>Lance Li</td><td>0</td><td>0</td></tr><tr><td>Panama</td><td>Benjamin Keith</td><td>0</td><td>0</td></tr><tr><td>United States of America</td><td>Annette Barber</td><td>0</td><td>0</td></tr><tr><td>Puerto Rico</td><td>Nancy Patel</td><td>0</td><td>0</td></tr><tr><td>Colombia</td><td>Rachel Davis</td><td>0</td><td>0</td></tr><tr><td>Tonga</td><td>Gregory Ramsey</td><td>0</td><td>0</td></tr><tr><td>Algeria</td><td>Molly Curtis</td><td>0</td><td>0</td></tr><tr><td>Georgia</td><td>Carl Thompson</td><td>0</td><td>0</td></tr><tr><td>New Caledonia</td><td>Brian Lloyd</td><td>0</td><td>0</td></tr><tr><td>Albania</td><td>Abigail Ali</td><td>null</td><td>null</td></tr></tbody></table></div>"
      ]
     },
     "metadata": {
      "application/vnd.databricks.v1+output": {
       "addedWidgets": {},
       "aggData": [],
       "aggError": "",
       "aggOverflow": false,
       "aggSchema": [],
       "aggSeriesLimitReached": false,
       "aggType": "",
       "arguments": {},
       "columnCustomDisplayInfos": {},
       "data": [
        [
         "Afghanistan",
         "Alexandria Alvarado",
         2000000,
         46000000
        ],
        [
         "Albania",
         "Adam Acosta",
         2000000,
         44000000
        ],
        [
         "Albania",
         "Aaron Anderson",
         5000000,
         35000000
        ],
        [
         "American Samoa",
         "Aaron Abbott",
         5000000,
         30000000
        ],
        [
         "Angola",
         "April Brown",
         8000000,
         24000000
        ],
        [
         "Algeria",
         "Aaron Abbott",
         942000,
         22608000
        ],
        [
         "Argentina",
         "Andrew Anderson",
         800000,
         12800000
        ],
        [
         "Bouvet Island (Bouvetoya)",
         "Amy Brown",
         5000000,
         10000000
        ],
        [
         "Bulgaria",
         "Andrew Alvarez",
         912000,
         9120000
        ],
        [
         "Andorra",
         "Alison Bell",
         1000000,
         9000000
        ],
        [
         "Antigua and Barbuda",
         "Ann Chung",
         1000000,
         8000000
        ],
        [
         "American Samoa",
         "Abigail Bates",
         8000000,
         8000000
        ],
        [
         "Bouvet Island (Bouvetoya)",
         "Barbara Allen",
         4000000,
         8000000
        ],
        [
         "Lesotho",
         "Regina Morales",
         908000,
         7264000
        ],
        [
         "Bahamas",
         "Andrew Burke",
         221000,
         6851000
        ],
        [
         "Algeria",
         "Angela Allen",
         613000,
         6743000
        ],
        [
         "Bulgaria",
         "Anthony Adkins",
         603000,
         6030000
        ],
        [
         "Argentina",
         "Diana Barry",
         2000000,
         6000000
        ],
        [
         "Azerbaijan",
         "Amanda Ball",
         6000000,
         6000000
        ],
        [
         "Albania",
         "Abigail Allen",
         500000,
         6000000
        ],
        [
         "Burkina Faso",
         "Andrea Burke",
         6000000,
         6000000
        ],
        [
         "Burundi",
         "Donna Carroll",
         620000,
         5580000
        ],
        [
         "American Samoa",
         "Alexandra Allen",
         556000,
         5560000
        ],
        [
         "Azerbaijan",
         "Aaron Anderson",
         1000000,
         5000000
        ],
        [
         "Algeria",
         "Cynthia Adams",
         5000000,
         5000000
        ],
        [
         "Afghanistan",
         "Alejandra Acevedo",
         723000,
         4338000
        ],
        [
         "Cambodia",
         "Andrew Miller",
         2000000,
         4000000
        ],
        [
         "Guam",
         "Anthony Buchanan",
         4000000,
         4000000
        ],
        [
         "Comoros",
         "Paul Gonzalez",
         4000000,
         4000000
        ],
        [
         "Bangladesh",
         "Brian Hansen",
         4000000,
         4000000
        ],
        [
         "United States Virgin Islands",
         "Debbie Mitchell",
         4000000,
         4000000
        ],
        [
         "Afghanistan",
         "Abigail Adams",
         2000000,
         4000000
        ],
        [
         "Botswana",
         "Alicia Benjamin",
         3000000,
         3000000
        ],
        [
         "Bangladesh",
         "Claudia Adams",
         3000000,
         3000000
        ],
        [
         "Christmas Island",
         "Barry Lynn",
         3000000,
         3000000
        ],
        [
         "Afghanistan",
         "Amanda Carlson",
         3000000,
         3000000
        ],
        [
         "Uganda",
         "Jeffrey Brooks",
         3000000,
         3000000
        ],
        [
         "Afghanistan",
         "Amy Atkins",
         985000,
         2955000
        ],
        [
         "Dominican Republic",
         "Anna Adams",
         104000,
         2808000
        ],
        [
         "Algeria",
         "Benjamin Adams",
         228000,
         2736000
        ],
        [
         "Andorra",
         "Angela Andrews",
         903000,
         2709000
        ],
        [
         "American Samoa",
         "Angela Berg",
         538000,
         2690000
        ],
        [
         "Albania",
         "Allison Acosta",
         472000,
         2360000
        ],
        [
         "Angola",
         "David Griffith",
         502000,
         2008000
        ],
        [
         "Costa Rica",
         "Briana Bryant",
         2000000,
         2000000
        ],
        [
         "American Samoa",
         "Alexis Carrillo",
         2000000,
         2000000
        ],
        [
         "Azerbaijan",
         "Sarah Buckley",
         2000000,
         2000000
        ],
        [
         "Kuwait",
         "Maria Franklin",
         2000000,
         2000000
        ],
        [
         "Christmas Island",
         "Carrie Chambers",
         2000000,
         2000000
        ],
        [
         "Australia",
         "Alicia Burnett",
         2000000,
         2000000
        ],
        [
         "Antarctica (the territory South of 60 deg S)",
         "Amanda Adams",
         500000,
         2000000
        ],
        [
         "Greenland",
         "Jeremy Young",
         2000000,
         2000000
        ],
        [
         "Afghanistan",
         "Andrew Alexander",
         166000,
         1992000
        ],
        [
         "Bolivia",
         "Cynthia Harper",
         243000,
         1944000
        ],
        [
         "Guatemala",
         "Anne Brown",
         965000,
         1930000
        ],
        [
         "Bahamas",
         "Christopher Brown",
         948000,
         1896000
        ],
        [
         "Georgia",
         "Grant George",
         203000,
         1827000
        ],
        [
         "Andorra",
         "Angela Andrews",
         902000,
         1804000
        ],
        [
         "Armenia",
         "Andrew Baker",
         892000,
         1784000
        ],
        [
         "Andorra",
         "Aaron Alexander",
         190000,
         1710000
        ],
        [
         "Aruba",
         "Andrea Alexander",
         211000,
         1688000
        ],
        [
         "Andorra",
         "Amanda Brown",
         799000,
         1598000
        ],
        [
         "Turkmenistan",
         "Cathy Vargas",
         193000,
         1544000
        ],
        [
         "Antarctica (the territory South of 60 deg S)",
         "Jeffrey Hunter",
         189000,
         1512000
        ],
        [
         "Latvia",
         "Alan Davis",
         188000,
         1504000
        ],
        [
         "Armenia",
         "Anthony Bryan",
         746000,
         1492000
        ],
        [
         "Algeria",
         "Alexandra Austin",
         459000,
         1377000
        ],
        [
         "Pitcairn Islands",
         "Elizabeth Terry",
         671000,
         1342000
        ],
        [
         "India",
         "Brandi Cervantes",
         167000,
         1336000
        ],
        [
         "Cambodia",
         "Adrian Baker",
         583000,
         1166000
        ],
        [
         "Bangladesh",
         "Andrea Carroll",
         383000,
         1149000
        ],
        [
         "Afghanistan",
         "Amber Chen",
         565000,
         1130000
        ],
        [
         "Cameroon",
         "Daniel Dorsey",
         123000,
         1107000
        ],
        [
         "Cayman Islands",
         "Alexandria Davis",
         1000000,
         1000000
        ],
        [
         "Martinique",
         "Danielle Klein",
         1000000,
         1000000
        ],
        [
         "Russian Federation",
         "Christopher Hernandez",
         1000000,
         1000000
        ],
        [
         "Antarctica (the territory South of 60 deg S)",
         "Benjamin Campbell",
         1000000,
         1000000
        ],
        [
         "Kuwait",
         "Amber Banks",
         1000000,
         1000000
        ],
        [
         "Australia",
         "Anne Clayton",
         1000000,
         1000000
        ],
        [
         "Costa Rica",
         "Anthony Jones",
         125000,
         1000000
        ],
        [
         "American Samoa",
         "Andre Carey",
         498000,
         996000
        ],
        [
         "Armenia",
         "Dylan Holmes",
         124000,
         992000
        ],
        [
         "Hong Kong",
         "Karen Leon",
         991000,
         991000
        ],
        [
         "British Virgin Islands",
         "Alex Bean",
         245000,
         980000
        ],
        [
         "Heard Island and McDonald Islands",
         "Christina Anderson",
         487000,
         974000
        ],
        [
         "Afghanistan",
         "Anne Hunt",
         960000,
         960000
        ],
        [
         "French Southern Territories",
         "Larry Smith",
         119000,
         952000
        ],
        [
         "Mongolia",
         "Jay Hampton",
         893000,
         893000
        ],
        [
         "Argentina",
         "Andrew Arnold",
         296000,
         888000
        ],
        [
         "Iraq",
         "Beth Ali",
         875000,
         875000
        ],
        [
         "Aruba",
         "Debra Becker",
         874000,
         874000
        ],
        [
         "Central African Republic",
         "Annette Forbes",
         868000,
         868000
        ],
        [
         "Argentina",
         "Anne Bond",
         108000,
         864000
        ],
        [
         "Armenia",
         "Aaron Bailey",
         416000,
         832000
        ],
        [
         "Austria",
         "Alan Burton",
         813000,
         813000
        ],
        [
         "Antigua and Barbuda",
         "Austin Abbott",
         401000,
         802000
        ],
        [
         "Belize",
         "Becky Brady",
         267000,
         801000
        ],
        [
         "Algeria",
         "Christopher Barnett",
         787000,
         787000
        ],
        [
         "Albania",
         "Ashley Anderson",
         364000,
         728000
        ],
        [
         "Anguilla",
         "Amber Casey",
         60000,
         720000
        ],
        [
         "Cocos (Keeling) Islands",
         "Cesar Miller",
         709000,
         709000
        ],
        [
         "Andorra",
         "Gregory Carpenter",
         353000,
         706000
        ],
        [
         "Maldives",
         "Daniel Roy",
         330000,
         660000
        ],
        [
         "Aruba",
         "Adrian Allen",
         657000,
         657000
        ],
        [
         "Belarus",
         "Alexandra Brown",
         648000,
         648000
        ],
        [
         "Belarus",
         "Alexandra Brown",
         647000,
         647000
        ],
        [
         "Finland",
         "Heather Edwards",
         79000,
         632000
        ],
        [
         "Korea",
         "Michael Perkins",
         627000,
         627000
        ],
        [
         "Armenia",
         "Christopher Bradshaw",
         616000,
         616000
        ],
        [
         "Antigua and Barbuda",
         "Denise Adams",
         306000,
         612000
        ],
        [
         "Belgium",
         "Courtney Berg",
         73000,
         584000
        ],
        [
         "Antigua and Barbuda",
         "Betty Cannon",
         578000,
         578000
        ],
        [
         "Cote d'Ivoire",
         "Brian Dalton",
         565000,
         565000
        ],
        [
         "Palestinian Territory",
         "Collin Chen",
         561000,
         561000
        ],
        [
         "Bouvet Island (Bouvetoya)",
         "Alexandra Fuentes",
         276000,
         552000
        ],
        [
         "Liberia",
         "Bailey Rogers",
         550000,
         550000
        ],
        [
         "Djibouti",
         "James Graham",
         275000,
         550000
        ],
        [
         "Austria",
         "Albert Adams",
         54000,
         540000
        ],
        [
         "Liberia",
         "Brittney Benitez",
         267000,
         534000
        ],
        [
         "Bangladesh",
         "Amanda Anderson",
         66000,
         528000
        ],
        [
         "Iran",
         "Eric Ayala",
         520000,
         520000
        ],
        [
         "Barbados",
         "Angela Bates",
         252000,
         504000
        ],
        [
         "Antarctica (the territory South of 60 deg S)",
         "Amanda Adams",
         501000,
         501000
        ],
        [
         "Angola",
         "Caitlin Bailey",
         496000,
         496000
        ],
        [
         "American Samoa",
         "Amy Andrews",
         494000,
         494000
        ],
        [
         "Lebanon",
         "Eric Buck",
         163000,
         489000
        ],
        [
         "Aruba",
         "Abigail Carter",
         48000,
         480000
        ],
        [
         "Costa Rica",
         "Brooke Frye",
         465000,
         465000
        ],
        [
         "Chad",
         "Billy Armstrong",
         226000,
         452000
        ],
        [
         "Azerbaijan",
         "Aaron Greene",
         50000,
         450000
        ],
        [
         "Belgium",
         "Heather Adams",
         433000,
         433000
        ],
        [
         "French Guiana",
         "Adrian Jackson",
         214000,
         428000
        ],
        [
         "Maldives",
         "Samantha Carpenter",
         416000,
         416000
        ],
        [
         "French Polynesia",
         "David Bell",
         52000,
         416000
        ],
        [
         "Barbados",
         "Brett Bryant",
         410000,
         410000
        ],
        [
         "Congo",
         "Albert Jackson",
         410000,
         410000
        ],
        [
         "Norway",
         "Mario Hawkins",
         409000,
         409000
        ],
        [
         "French Guiana",
         "Charles Berry",
         51000,
         408000
        ],
        [
         "Cambodia",
         "James Harper",
         404000,
         404000
        ],
        [
         "Czech Republic",
         "Jacob Castro",
         398000,
         398000
        ],
        [
         "Greece",
         "Matthew Walker",
         397000,
         397000
        ],
        [
         "Algeria",
         "Amanda Allen",
         130000,
         390000
        ],
        [
         "Congo",
         "Anthony Martinez",
         389000,
         389000
        ],
        [
         "Bosnia and Herzegovina",
         "Angela Becker",
         388000,
         388000
        ],
        [
         "Antarctica (the territory South of 60 deg S)",
         "Dalton Daniels",
         48000,
         384000
        ],
        [
         "Tokelau",
         "Jennifer Melton",
         384000,
         384000
        ],
        [
         "Martinique",
         "Chad Burns",
         371000,
         371000
        ],
        [
         "Bosnia and Herzegovina",
         "Alicia Brown",
         370000,
         370000
        ],
        [
         "Antarctica (the territory South of 60 deg S)",
         "James Jacobson",
         46000,
         368000
        ],
        [
         "Bulgaria",
         "David Evans",
         36000,
         360000
        ],
        [
         "Armenia",
         "Danielle Chambers",
         176000,
         352000
        ],
        [
         "Morocco",
         "Courtney Chung",
         13000,
         351000
        ],
        [
         "Egypt",
         "Jackie Buchanan",
         346000,
         346000
        ],
        [
         "Bahrain",
         "Bradley Griffin",
         332000,
         332000
        ],
        [
         "Bolivia",
         "Aaron Baldwin",
         328000,
         328000
        ],
        [
         "Algeria",
         "Alexis Bennett",
         326000,
         326000
        ],
        [
         "Belarus",
         "Brittany Campbell",
         323000,
         323000
        ],
        [
         "Azerbaijan",
         "Abigail Gutierrez",
         322000,
         322000
        ],
        [
         "Albania",
         "Juan Cortez",
         159000,
         318000
        ],
        [
         "Belarus",
         "Julie Johnson",
         312000,
         312000
        ],
        [
         "Costa Rica",
         "Alan Adams",
         309000,
         309000
        ],
        [
         "Cuba",
         "Anthony Brown",
         307000,
         307000
        ],
        [
         "Lesotho",
         "Herbert Sawyer",
         34000,
         306000
        ],
        [
         "Cambodia",
         "Charles Bowen",
         294000,
         294000
        ],
        [
         "Azerbaijan",
         "Brian Howard",
         292000,
         292000
        ],
        [
         "Denmark",
         "Jonathan Rodriguez",
         36000,
         288000
        ],
        [
         "Aruba",
         "Caitlyn Baker",
         71000,
         284000
        ],
        [
         "Afghanistan",
         "Adam Alexander",
         28000,
         280000
        ],
        [
         "Brunei Darussalam",
         "Brad Abbott",
         277000,
         277000
        ],
        [
         "Niue",
         "Joseph Church",
         271000,
         271000
        ],
        [
         "Bermuda",
         "Abigail Burch",
         30000,
         270000
        ],
        [
         "Armenia",
         "Anna Bird",
         132000,
         264000
        ],
        [
         "Canada",
         "Jacob Alvarez",
         258000,
         258000
        ],
        [
         "Azerbaijan",
         "Albert Calderon",
         128000,
         256000
        ],
        [
         "Cameroon",
         "Alice Bennett",
         85000,
         255000
        ],
        [
         "Indonesia",
         "Lance Smith",
         252000,
         252000
        ],
        [
         "Austria",
         "Alfred Murray",
         251000,
         251000
        ],
        [
         "Mayotte",
         "Edward Oliver",
         31000,
         248000
        ],
        [
         "British Indian Ocean Territory (Chagos Archipelago)",
         "Calvin Baker",
         248000,
         248000
        ],
        [
         "Netherlands",
         "Andrew Duncan",
         247000,
         247000
        ],
        [
         "Bangladesh",
         "Mark Brown",
         242000,
         242000
        ],
        [
         "French Guiana",
         "Amber Cervantes",
         241000,
         241000
        ],
        [
         "Colombia",
         "Kevin Rodriguez",
         239000,
         239000
        ],
        [
         "Ireland",
         "Christopher Greene",
         239000,
         239000
        ],
        [
         "Nauru",
         "Jennifer Dunn",
         23000,
         230000
        ],
        [
         "Albania",
         "Adrienne Acosta",
         229000,
         229000
        ],
        [
         "Monaco",
         "Glenn Hammond",
         227000,
         227000
        ],
        [
         "Bouvet Island (Bouvetoya)",
         "Samantha Phillips",
         227000,
         227000
        ],
        [
         "Benin",
         "Ann Acevedo",
         113000,
         226000
        ],
        [
         "Angola",
         "Alison Cole",
         56000,
         224000
        ],
        [
         "El Salvador",
         "Alex Adams",
         221000,
         221000
        ],
        [
         "Aruba",
         "Angela Brooks",
         110000,
         220000
        ],
        [
         "Malta",
         "Brandon Simmons",
         219000,
         219000
        ],
        [
         "Guam",
         "Holly Campbell",
         219000,
         219000
        ],
        [
         "Burundi",
         "Jasmine Buck",
         109000,
         218000
        ],
        [
         "Congo",
         "Aimee Collins",
         27000,
         216000
        ],
        [
         "Bulgaria",
         "Ashley Gentry",
         53000,
         212000
        ],
        [
         "American Samoa",
         "Danielle Barber",
         208000,
         208000
        ],
        [
         "Nepal",
         "Deborah Cooper",
         197000,
         197000
        ],
        [
         "Comoros",
         "Gary Barker",
         196000,
         196000
        ],
        [
         "Albania",
         "Brian Davis",
         97000,
         194000
        ],
        [
         "Antarctica (the territory South of 60 deg S)",
         "Charles Hutchinson",
         193000,
         193000
        ],
        [
         "Indonesia",
         "Joel Obrien",
         24000,
         192000
        ],
        [
         "Cote d'Ivoire",
         "Brian Nelson",
         192000,
         192000
        ],
        [
         "Grenada",
         "Austin Miller",
         185000,
         185000
        ],
        [
         "Anguilla",
         "Corey Andrews",
         92000,
         184000
        ],
        [
         "Cape Verde",
         "Alexander Perez",
         178000,
         178000
        ],
        [
         "Austria",
         "Alex Barnes",
         89000,
         178000
        ],
        [
         "Bosnia and Herzegovina",
         "Carrie Holder",
         89000,
         178000
        ],
        [
         "Bahrain",
         "Christopher Fox",
         22000,
         176000
        ],
        [
         "Anguilla",
         "Angela Everett",
         88000,
         176000
        ],
        [
         "Armenia",
         "Caroline Carlson",
         175000,
         175000
        ],
        [
         "Egypt",
         "Jake Bates",
         172000,
         172000
        ],
        [
         "Saint Kitts and Nevis",
         "Julie Cox",
         171000,
         171000
        ],
        [
         "Namibia",
         "Charlotte Pitts",
         168000,
         168000
        ],
        [
         "Austria",
         "Andrew Garcia",
         161000,
         161000
        ],
        [
         "Guinea-Bissau",
         "Christopher Boone",
         160000,
         160000
        ],
        [
         "Libyan Arab Jamahiriya",
         "Stacey Stewart",
         157000,
         157000
        ],
        [
         "Bahamas",
         "Angela Brown",
         78000,
         156000
        ],
        [
         "Saint Helena",
         "Carla Atkins",
         154000,
         154000
        ],
        [
         "Svalbard & Jan Mayen Islands",
         "David Jones",
         152000,
         152000
        ],
        [
         "Colombia",
         "Christina Haas",
         152000,
         152000
        ],
        [
         "Bolivia",
         "Andrea Blankenship",
         76000,
         152000
        ],
        [
         "Australia",
         "Jay Flynn",
         19000,
         152000
        ],
        [
         "Cape Verde",
         "Todd Ross",
         19000,
         152000
        ],
        [
         "Christmas Island",
         "Christopher Brown",
         150000,
         150000
        ],
        [
         "India",
         "Andres Cortez",
         150000,
         150000
        ],
        [
         "Bahrain",
         "Amanda Anderson",
         144000,
         144000
        ],
        [
         "Egypt",
         "Karen Hamilton",
         143000,
         143000
        ],
        [
         "Canada",
         "Brandon Cummings",
         142000,
         142000
        ],
        [
         "Indonesia",
         "David Craig",
         141000,
         141000
        ],
        [
         "American Samoa",
         "Alexander Bailey",
         47000,
         141000
        ],
        [
         "Bolivia",
         "Clinton Berry",
         139000,
         139000
        ],
        [
         "Antigua and Barbuda",
         "Jasmine Gonzalez",
         138000,
         138000
        ],
        [
         "Bolivia",
         "Alec Bell",
         68000,
         136000
        ],
        [
         "Netherlands",
         "Elizabeth Green",
         136000,
         136000
        ],
        [
         "Croatia",
         "James Sharp",
         134000,
         134000
        ],
        [
         "Guinea",
         "Brian Conley",
         134000,
         134000
        ],
        [
         "Bolivia",
         "Angela Flores",
         67000,
         134000
        ],
        [
         "Bahrain",
         "Austin Alvarez",
         133000,
         133000
        ],
        [
         "Antigua and Barbuda",
         "Amanda Benitez",
         13000,
         130000
        ],
        [
         "Bhutan",
         "Angel Brown",
         130000,
         130000
        ],
        [
         "Djibouti",
         "Jesus Arellano",
         130000,
         130000
        ],
        [
         "Malta",
         "Anthony Daniels",
         129000,
         129000
        ],
        [
         "Algeria",
         "Christopher Evans",
         128000,
         128000
        ],
        [
         "China",
         "Michael Brooks",
         127000,
         127000
        ],
        [
         "Djibouti",
         "Charles Braun",
         127000,
         127000
        ],
        [
         "Central African Republic",
         "James Downs",
         126000,
         126000
        ],
        [
         "Azerbaijan",
         "Amanda Arnold",
         14000,
         126000
        ],
        [
         "Azerbaijan",
         "Andrew Clements",
         126000,
         126000
        ],
        [
         "American Samoa",
         "Daniel Brooks",
         42000,
         126000
        ],
        [
         "Guadeloupe",
         "John Hamilton",
         123000,
         123000
        ],
        [
         "Mali",
         "Michelle Richardson",
         122000,
         122000
        ],
        [
         "Albania",
         "Aaron Bartlett",
         20000,
         120000
        ],
        [
         "Argentina",
         "Alexis Bell",
         60000,
         120000
        ],
        [
         "Botswana",
         "Bobby Cook",
         119000,
         119000
        ],
        [
         "Aruba",
         "Andrea Beasley",
         59000,
         118000
        ],
        [
         "Somalia",
         "Maria Long",
         118000,
         118000
        ],
        [
         "Albania",
         "Christina Davenport",
         117000,
         117000
        ],
        [
         "Egypt",
         "Bradley Bennett",
         117000,
         117000
        ],
        [
         "Puerto Rico",
         "Elizabeth Estes",
         116000,
         116000
        ],
        [
         "France",
         "Cody Adams",
         115000,
         115000
        ],
        [
         "Cote d'Ivoire",
         "Brian Herman",
         57000,
         114000
        ],
        [
         "Croatia",
         "Carrie Hurley",
         57000,
         114000
        ],
        [
         "Madagascar",
         "Rhonda Durham",
         112000,
         112000
        ],
        [
         "American Samoa",
         "Anthony Chen",
         56000,
         112000
        ],
        [
         "Congo",
         "Brandon Bender",
         55000,
         110000
        ],
        [
         "Canada",
         "Jeffrey Gregory",
         109000,
         109000
        ],
        [
         "Central African Republic",
         "Candice Carr",
         105000,
         105000
        ],
        [
         "Eritrea",
         "Alexandra Mendoza",
         105000,
         105000
        ],
        [
         "Argentina",
         "Matthew Newman",
         105000,
         105000
        ],
        [
         "Madagascar",
         "Louis Patterson",
         103000,
         103000
        ],
        [
         "British Virgin Islands",
         "Stephen West",
         102000,
         102000
        ],
        [
         "Cuba",
         "Cindy Bennett",
         102000,
         102000
        ],
        [
         "Cameroon",
         "Alfred Chen",
         51000,
         102000
        ],
        [
         "Venezuela",
         "Scott Houston",
         100000,
         100000
        ],
        [
         "Cote d'Ivoire",
         "Brenda Miller",
         100000,
         100000
        ],
        [
         "Haiti",
         "Valerie Leach",
         100000,
         100000
        ],
        [
         "Botswana",
         "Adam Cole",
         98000,
         98000
        ],
        [
         "Azerbaijan",
         "Anthony Durham",
         97000,
         97000
        ],
        [
         "Kenya",
         "Kristen Garza",
         95000,
         95000
        ],
        [
         "Bouvet Island (Bouvetoya)",
         "Annette Andrews",
         47000,
         94000
        ],
        [
         "India",
         "John Mueller",
         92000,
         92000
        ],
        [
         "Bermuda",
         "David Moss",
         46000,
         92000
        ],
        [
         "Anguilla",
         "Corey Andrews",
         91000,
         91000
        ],
        [
         "Christmas Island",
         "Angela Bailey",
         91000,
         91000
        ],
        [
         "Algeria",
         "Christine Cortez",
         45000,
         90000
        ],
        [
         "Gibraltar",
         "Brittany Thompson",
         89000,
         89000
        ],
        [
         "Slovakia (Slovak Republic)",
         "Melody Thompson",
         11000,
         88000
        ],
        [
         "Gabon",
         "Kevin Davis",
         88000,
         88000
        ],
        [
         "Congo",
         "Jacob Chapman",
         88000,
         88000
        ],
        [
         "Myanmar",
         "Courtney Barton",
         88000,
         88000
        ],
        [
         "Albania",
         "Ariel Brown",
         44000,
         88000
        ],
        [
         "Kyrgyz Republic",
         "Michael Chan",
         87000,
         87000
        ],
        [
         "Japan",
         "Andrew Bird",
         87000,
         87000
        ],
        [
         "Cape Verde",
         "Allison Dawson",
         43000,
         86000
        ],
        [
         "Anguilla",
         "Jonathan Avila",
         85000,
         85000
        ],
        [
         "Guatemala",
         "Christine Adams",
         85000,
         85000
        ],
        [
         "Chad",
         "Frank Bates",
         42000,
         84000
        ],
        [
         "Algeria",
         "Alexander Adams",
         42000,
         84000
        ],
        [
         "Uganda",
         "Claire Leonard",
         84000,
         84000
        ],
        [
         "Ecuador",
         "Debbie Crawford",
         84000,
         84000
        ],
        [
         "Mozambique",
         "Emily Hawkins",
         83000,
         83000
        ],
        [
         "Solomon Islands",
         "Brooke Munoz",
         81000,
         81000
        ],
        [
         "Korea",
         "Jamie Andrews",
         81000,
         81000
        ],
        [
         "Lithuania",
         "Catherine Ferrell",
         10000,
         80000
        ],
        [
         "Liechtenstein",
         "Karen Clark",
         10000,
         80000
        ],
        [
         "Bahamas",
         "Christopher Green",
         79000,
         79000
        ],
        [
         "Guinea",
         "Kimberly Mack",
         79000,
         79000
        ],
        [
         "Albania",
         "Amanda Carter",
         79000,
         79000
        ],
        [
         "American Samoa",
         "Anthony Johnson",
         77000,
         77000
        ],
        [
         "Maldives",
         "Kristina King",
         77000,
         77000
        ],
        [
         "Bolivia",
         "Amanda Downs",
         77000,
         77000
        ],
        [
         "Hungary",
         "Kathy Hudson",
         77000,
         77000
        ],
        [
         "Austria",
         "Amanda Barber",
         76000,
         76000
        ],
        [
         "Afghanistan",
         "David Anderson",
         76000,
         76000
        ],
        [
         "Barbados",
         "Alexander Bailey",
         38000,
         76000
        ],
        [
         "South Georgia and the South Sandwich Islands",
         "Hannah Allen",
         75000,
         75000
        ],
        [
         "Aruba",
         "Amy Adams",
         5000,
         75000
        ],
        [
         "Kazakhstan",
         "Jaclyn Marsh",
         75000,
         75000
        ],
        [
         "Lebanon",
         "Erin Cain",
         74000,
         74000
        ],
        [
         "Gibraltar",
         "Matthew Bray",
         37000,
         74000
        ],
        [
         "Bahamas",
         "Ashley Cortez",
         73000,
         73000
        ],
        [
         "Andorra",
         "Donald Hooper",
         73000,
         73000
        ],
        [
         "Christmas Island",
         "Chelsea Gonzalez",
         9000,
         72000
        ],
        [
         "Afghanistan",
         "Nancy Clay",
         72000,
         72000
        ],
        [
         "Argentina",
         "Adrienne Barrett",
         36000,
         72000
        ],
        [
         "Guatemala",
         "Caitlin Smith",
         71000,
         71000
        ],
        [
         "Saint Kitts and Nevis",
         "Lauren Richardson",
         68000,
         68000
        ],
        [
         "Belize",
         "Charles Johnson",
         67000,
         67000
        ],
        [
         "Dominica",
         "Charles Robinson",
         67000,
         67000
        ],
        [
         "Ecuador",
         "Alexis Frazier",
         67000,
         67000
        ],
        [
         "Belgium",
         "Bradley Chapman",
         67000,
         67000
        ],
        [
         "Tunisia",
         "Shawn Jones",
         66000,
         66000
        ],
        [
         "Austria",
         "Heidi Armstrong",
         33000,
         66000
        ],
        [
         "Aruba",
         "Cody Cochran",
         65000,
         65000
        ],
        [
         "Mayotte",
         "Charles Conley",
         65000,
         65000
        ],
        [
         "Bangladesh",
         "Nicole Mcintosh",
         8000,
         64000
        ],
        [
         "Congo",
         "Eric Gonzalez",
         64000,
         64000
        ],
        [
         "Bosnia and Herzegovina",
         "Dana Mckinney",
         8000,
         64000
        ],
        [
         "Sudan",
         "Jacqueline Ross",
         63000,
         63000
        ],
        [
         "Kuwait",
         "Justin Singleton",
         63000,
         63000
        ],
        [
         "Cameroon",
         "Cynthia Clark",
         61000,
         61000
        ],
        [
         "Netherlands Antilles",
         "Patrick Davidson",
         61000,
         61000
        ],
        [
         "Norfolk Island",
         "Andrea Sparks",
         60000,
         60000
        ],
        [
         "Austria",
         "Angela Anderson",
         60000,
         60000
        ],
        [
         "French Southern Territories",
         "Christopher Gonzalez",
         59000,
         59000
        ],
        [
         "Bulgaria",
         "Barbara English",
         59000,
         59000
        ],
        [
         "Falkland Islands (Malvinas)",
         "Lisa Thomas",
         59000,
         59000
        ],
        [
         "Korea",
         "Laura Jefferson",
         59000,
         59000
        ],
        [
         "Burundi",
         "Erin Armstrong",
         58000,
         58000
        ],
        [
         "Sweden",
         "Benjamin Turner",
         58000,
         58000
        ],
        [
         "Bhutan",
         "Pamela Jones",
         56000,
         56000
        ],
        [
         "Barbados",
         "Brendan Joseph",
         28000,
         56000
        ],
        [
         "Netherlands",
         "Laura Johnson",
         56000,
         56000
        ],
        [
         "Guinea-Bissau",
         "Ashley Briggs",
         56000,
         56000
        ],
        [
         "Australia",
         "Dawn Anderson",
         28000,
         56000
        ],
        [
         "Cambodia",
         "Jennifer Hill",
         2000,
         54000
        ],
        [
         "El Salvador",
         "Daniel Peck",
         54000,
         54000
        ],
        [
         "Austria",
         "Amy Caldwell",
         27000,
         54000
        ],
        [
         "Isle of Man",
         "Jon Burke",
         52000,
         52000
        ],
        [
         "Bulgaria",
         "Anne Allen",
         26000,
         52000
        ],
        [
         "Algeria",
         "Eduardo Brown",
         51000,
         51000
        ],
        [
         "Cambodia",
         "Paul Henderson",
         51000,
         51000
        ],
        [
         "Dominican Republic",
         "Ashley Carter",
         17000,
         51000
        ],
        [
         "Armenia",
         "Alicia Avila",
         25000,
         50000
        ],
        [
         "Afghanistan",
         "Jane Aguilar",
         25000,
         50000
        ],
        [
         "Ireland",
         "Debra Morse",
         49000,
         49000
        ],
        [
         "Benin",
         "Jose Smith",
         49000,
         49000
        ],
        [
         "Aruba",
         "Jennifer Arellano",
         49000,
         49000
        ],
        [
         "Guinea-Bissau",
         "Erik Mann",
         6000,
         48000
        ],
        [
         "Peru",
         "Daniel Valentine",
         6000,
         48000
        ],
        [
         "Germany",
         "Alison Smith",
         48000,
         48000
        ],
        [
         "Dominica",
         "Laura Knight",
         48000,
         48000
        ],
        [
         "Rwanda",
         "Heather Hall",
         6000,
         48000
        ],
        [
         "Monaco",
         "Jamie Harrison",
         48000,
         48000
        ],
        [
         "United States of America",
         "Vickie Acevedo",
         47000,
         47000
        ],
        [
         "Afghanistan",
         "Adam Gibson",
         47000,
         47000
        ],
        [
         "Comoros",
         "Becky Casey",
         46000,
         46000
        ],
        [
         "Bahrain",
         "Carlos Estrada",
         46000,
         46000
        ],
        [
         "Benin",
         "April Barr",
         23000,
         46000
        ],
        [
         "Mauritius",
         "Brittany Brown",
         46000,
         46000
        ],
        [
         "Qatar",
         "Amanda Brown",
         45000,
         45000
        ],
        [
         "Nauru",
         "Gloria Mills",
         45000,
         45000
        ],
        [
         "Moldova",
         "Jason Horne",
         44000,
         44000
        ],
        [
         "Australia",
         "Anthony Cantu",
         22000,
         44000
        ],
        [
         "Aruba",
         "Adam Armstrong",
         11000,
         44000
        ],
        [
         "Maldives",
         "Brittany Jones",
         43000,
         43000
        ],
        [
         "Belize",
         "Darryl Alexander",
         21000,
         42000
        ],
        [
         "Benin",
         "Ashley Allen",
         21000,
         42000
        ],
        [
         "El Salvador",
         "Nathan Howard",
         42000,
         42000
        ],
        [
         "Andorra",
         "Barbara Duran",
         41000,
         41000
        ],
        [
         "Bahamas",
         "Julie Cook",
         41000,
         41000
        ],
        [
         "Fiji",
         "Angela Hall",
         41000,
         41000
        ],
        [
         "Libyan Arab Jamahiriya",
         "Christopher Hamilton",
         40000,
         40000
        ],
        [
         "French Southern Territories",
         "Mary Luna",
         40000,
         40000
        ],
        [
         "Central African Republic",
         "Jamie Bryant",
         40000,
         40000
        ],
        [
         "Svalbard & Jan Mayen Islands",
         "Heather Gonzalez",
         5000,
         40000
        ],
        [
         "Norway",
         "Christopher Alvarez",
         40000,
         40000
        ],
        [
         "Bangladesh",
         "Diana Ballard",
         40000,
         40000
        ],
        [
         "Nigeria",
         "Michael Hood",
         38000,
         38000
        ],
        [
         "Jamaica",
         "Barbara Edwards",
         19000,
         38000
        ],
        [
         "Austria",
         "Jacob Baker",
         37000,
         37000
        ],
        [
         "Bosnia and Herzegovina",
         "Bonnie Estrada",
         37000,
         37000
        ],
        [
         "Bangladesh",
         "Jason Meza",
         37000,
         37000
        ],
        [
         "Croatia",
         "Bryan Williams",
         36000,
         36000
        ],
        [
         "Falkland Islands (Malvinas)",
         "Rebecca Bailey",
         4000,
         36000
        ],
        [
         "Korea",
         "Lisa Walls",
         35000,
         35000
        ],
        [
         "Luxembourg",
         "Kyle Floyd",
         35000,
         35000
        ],
        [
         "Croatia",
         "Jonathan Gordon",
         35000,
         35000
        ],
        [
         "Bulgaria",
         "Joshua Carter",
         35000,
         35000
        ],
        [
         "Botswana",
         "Benjamin Branch",
         34000,
         34000
        ],
        [
         "Bouvet Island (Bouvetoya)",
         "Timothy Orozco",
         34000,
         34000
        ],
        [
         "Australia",
         "Michael Mckay",
         34000,
         34000
        ],
        [
         "Bouvet Island (Bouvetoya)",
         "Maria Davidson",
         34000,
         34000
        ],
        [
         "Solomon Islands",
         "Brittany Jones",
         33000,
         33000
        ],
        [
         "Iran",
         "John Trujillo",
         33000,
         33000
        ],
        [
         "Congo",
         "Benjamin Brady",
         33000,
         33000
        ],
        [
         "Bulgaria",
         "Angela Carlson",
         32000,
         32000
        ],
        [
         "Andorra",
         "Erica Murphy",
         32000,
         32000
        ],
        [
         "Taiwan",
         "Joseph Thompson",
         32000,
         32000
        ],
        [
         "Ecuador",
         "Brenda Baker",
         32000,
         32000
        ],
        [
         "Botswana",
         "Austin Rodriguez",
         4000,
         32000
        ],
        [
         "Kenya",
         "Crystal Schmidt",
         4000,
         32000
        ],
        [
         "Guernsey",
         "Gary Collins",
         32000,
         32000
        ],
        [
         "Samoa",
         "Nicole Gordon",
         32000,
         32000
        ],
        [
         "Zambia",
         "Alyssa Shelton",
         32000,
         32000
        ],
        [
         "Aruba",
         "Danielle Cook",
         31000,
         31000
        ],
        [
         "Azerbaijan",
         "Bradley Long",
         31000,
         31000
        ],
        [
         "Comoros",
         "Alexis George",
         31000,
         31000
        ],
        [
         "British Indian Ocean Territory (Chagos Archipelago)",
         "April Blake",
         31000,
         31000
        ],
        [
         "Antigua and Barbuda",
         "Ashley Evans",
         31000,
         31000
        ],
        [
         "Dominican Republic",
         "Devon Waller",
         31000,
         31000
        ],
        [
         "Guatemala",
         "Mary Jordan",
         30000,
         30000
        ],
        [
         "Benin",
         "Debbie White",
         30000,
         30000
        ],
        [
         "Afghanistan",
         "Aaron Buchanan",
         30000,
         30000
        ],
        [
         "Bosnia and Herzegovina",
         "Alexander Rodriguez",
         30000,
         30000
        ],
        [
         "Belarus",
         "Amy Adams",
         29000,
         29000
        ],
        [
         "Monaco",
         "Sarah Salas",
         29000,
         29000
        ],
        [
         "Isle of Man",
         "Melanie Hill",
         29000,
         29000
        ],
        [
         "Portugal",
         "Eric Taylor",
         29000,
         29000
        ],
        [
         "Ireland",
         "Christine Leon",
         29000,
         29000
        ],
        [
         "Angola",
         "Lisa Johnson",
         28000,
         28000
        ],
        [
         "Lebanon",
         "Nichole Chapman",
         28000,
         28000
        ],
        [
         "Afghanistan",
         "Alexandria Gross",
         28000,
         28000
        ],
        [
         "Afghanistan",
         "Alexandria Anderson",
         14000,
         28000
        ],
        [
         "Finland",
         "Stacy Lopez",
         27000,
         27000
        ],
        [
         "Aruba",
         "Anthony Baker",
         9000,
         27000
        ],
        [
         "Bahrain",
         "David Harper",
         27000,
         27000
        ],
        [
         "Costa Rica",
         "Michael Grant",
         27000,
         27000
        ],
        [
         "Bahamas",
         "Alice Nicholson",
         27000,
         27000
        ],
        [
         "Aruba",
         "Carl Hampton",
         27000,
         27000
        ],
        [
         "Somalia",
         "Amber Robinson",
         27000,
         27000
        ],
        [
         "Afghanistan",
         "Erik Kelley",
         27000,
         27000
        ],
        [
         "Canada",
         "Darryl Baker",
         26000,
         26000
        ],
        [
         "Kenya",
         "April Simmons",
         26000,
         26000
        ],
        [
         "Croatia",
         "Anthony Davis",
         25000,
         25000
        ],
        [
         "Cote d'Ivoire",
         "Michelle Prince",
         25000,
         25000
        ],
        [
         "Cyprus",
         "Jason Brooks",
         25000,
         25000
        ],
        [
         "Cambodia",
         "Paul Johnson",
         25000,
         25000
        ],
        [
         "Belgium",
         "Jennifer Kaiser",
         24000,
         24000
        ],
        [
         "Haiti",
         "April Anderson",
         24000,
         24000
        ],
        [
         "Singapore",
         "Marie Kennedy",
         3000,
         24000
        ],
        [
         "Cote d'Ivoire",
         "Michelle Scott",
         24000,
         24000
        ],
        [
         "Senegal",
         "Felicia Carr",
         24000,
         24000
        ],
        [
         "Latvia",
         "Patricia Harvey",
         23000,
         23000
        ],
        [
         "Heard Island and McDonald Islands",
         "Kathleen Hamilton",
         23000,
         23000
        ],
        [
         "Antarctica (the territory South of 60 deg S)",
         "Aaron Brown",
         23000,
         23000
        ],
        [
         "Palestinian Territory",
         "William Simon",
         23000,
         23000
        ],
        [
         "Bangladesh",
         "Bernard Davis",
         11000,
         22000
        ],
        [
         "Brazil",
         "James Brown",
         11000,
         22000
        ],
        [
         "Mauritania",
         "Larry Pineda",
         22000,
         22000
        ],
        [
         "Moldova",
         "Ashley Combs",
         22000,
         22000
        ],
        [
         "Antarctica (the territory South of 60 deg S)",
         "David Hardin",
         22000,
         22000
        ],
        [
         "Bhutan",
         "Christopher Norman",
         22000,
         22000
        ],
        [
         "Nepal",
         "Jason Collier",
         22000,
         22000
        ],
        [
         "British Virgin Islands",
         "Catherine Burke",
         22000,
         22000
        ],
        [
         "Bahrain",
         "Jay Davis",
         11000,
         22000
        ],
        [
         "American Samoa",
         "Darrell Cunningham",
         22000,
         22000
        ],
        [
         "Armenia",
         "Valerie Bryant",
         22000,
         22000
        ],
        [
         "Christmas Island",
         "Carrie Parker",
         11000,
         22000
        ],
        [
         "Antigua and Barbuda",
         "Beth Armstrong",
         21000,
         21000
        ],
        [
         "Guinea",
         "Andrea Anderson",
         21000,
         21000
        ],
        [
         "Turkey",
         "Michael Taylor",
         21000,
         21000
        ],
        [
         "Argentina",
         "Albert Allison",
         7000,
         21000
        ],
        [
         "Heard Island and McDonald Islands",
         "Holly Delgado",
         21000,
         21000
        ],
        [
         "Italy",
         "Kelly Blackwell",
         21000,
         21000
        ],
        [
         "Seychelles",
         "Tammy Davis",
         21000,
         21000
        ],
        [
         "Falkland Islands (Malvinas)",
         "Christina Bryant",
         21000,
         21000
        ],
        [
         "Saint Kitts and Nevis",
         "Justin Jensen",
         20000,
         20000
        ],
        [
         "Dominican Republic",
         "Alex Jimenez",
         20000,
         20000
        ],
        [
         "Montserrat",
         "Darin Lee",
         20000,
         20000
        ],
        [
         "Kenya",
         "David Buckley",
         20000,
         20000
        ],
        [
         "Barbados",
         "Jessica Rosario",
         20000,
         20000
        ],
        [
         "Ecuador",
         "Amber Gray",
         20000,
         20000
        ],
        [
         "New Caledonia",
         "Kevin Marquez",
         20000,
         20000
        ],
        [
         "Georgia",
         "Kyle Gregory",
         20000,
         20000
        ],
        [
         "Turks and Caicos Islands",
         "Patty Chang",
         19000,
         19000
        ],
        [
         "British Virgin Islands",
         "James Goodwin",
         19000,
         19000
        ],
        [
         "Australia",
         "Deanna Molina",
         19000,
         19000
        ],
        [
         "Greenland",
         "Leslie Rodriguez",
         19000,
         19000
        ],
        [
         "Austria",
         "Lydia Nelson",
         19000,
         19000
        ],
        [
         "Costa Rica",
         "Amanda Brown",
         19000,
         19000
        ],
        [
         "Chile",
         "Nathan Stanton",
         19000,
         19000
        ],
        [
         "New Zealand",
         "Sandra Humphrey",
         19000,
         19000
        ],
        [
         "Austria",
         "Alexander Briggs",
         19000,
         19000
        ],
        [
         "China",
         "Ryan Adams",
         19000,
         19000
        ],
        [
         "Malawi",
         "Kristen Cox",
         18000,
         18000
        ],
        [
         "Namibia",
         "Anthony Duncan",
         18000,
         18000
        ],
        [
         "Maldives",
         "Kyle Perry",
         18000,
         18000
        ],
        [
         "India",
         "Edward Cervantes",
         18000,
         18000
        ],
        [
         "American Samoa",
         "Elaine Savage",
         18000,
         18000
        ],
        [
         "Aruba",
         "Dorothy Erickson",
         18000,
         18000
        ],
        [
         "Ethiopia",
         "Luke Carter",
         17000,
         17000
        ],
        [
         "Croatia",
         "Aaron Clark",
         17000,
         17000
        ],
        [
         "Japan",
         "Angela Conner",
         17000,
         17000
        ],
        [
         "Czech Republic",
         "Brian Barnes",
         16000,
         16000
        ],
        [
         "Wallis and Futuna",
         "Barry West",
         2000,
         16000
        ],
        [
         "Libyan Arab Jamahiriya",
         "Michael Mercado",
         16000,
         16000
        ],
        [
         "French Polynesia",
         "Frank Combs",
         16000,
         16000
        ],
        [
         "Bulgaria",
         "Antonio Davis",
         16000,
         16000
        ],
        [
         "Austria",
         "Amy Harris",
         16000,
         16000
        ],
        [
         "Cayman Islands",
         "Danny Ramsey",
         15000,
         15000
        ],
        [
         "Gabon",
         "Justin Summers",
         15000,
         15000
        ],
        [
         "Vietnam",
         "Joseph Kelly",
         15000,
         15000
        ],
        [
         "Belgium",
         "Brian Jarvis",
         15000,
         15000
        ],
        [
         "Bangladesh",
         "Christopher Haynes",
         15000,
         15000
        ],
        [
         "Ethiopia",
         "Sharon Woodward",
         15000,
         15000
        ],
        [
         "Aruba",
         "Abigail Barry",
         5000,
         15000
        ],
        [
         "Czech Republic",
         "Joseph Barnett",
         7000,
         14000
        ],
        [
         "Somalia",
         "Michael Ballard",
         14000,
         14000
        ],
        [
         "Hong Kong",
         "Frank Jackson",
         14000,
         14000
        ],
        [
         "Christmas Island",
         "Adam Church",
         14000,
         14000
        ],
        [
         "Belgium",
         "Anthony Mason",
         14000,
         14000
        ],
        [
         "Afghanistan",
         "Eric Anderson",
         14000,
         14000
        ],
        [
         "Bermuda",
         "Brenda Gonzalez",
         14000,
         14000
        ],
        [
         "France",
         "Jennifer Lester",
         14000,
         14000
        ],
        [
         "Malawi",
         "Carla Arnold",
         14000,
         14000
        ],
        [
         "Burkina Faso",
         "Andrew Brown",
         7000,
         14000
        ],
        [
         "Aruba",
         "Jennifer Pitts",
         13000,
         13000
        ],
        [
         "Guadeloupe",
         "Gary Tanner",
         13000,
         13000
        ],
        [
         "Hong Kong",
         "Michael Adams",
         13000,
         13000
        ],
        [
         "Cyprus",
         "Jessica Cline",
         13000,
         13000
        ],
        [
         "Marshall Islands",
         "Nicholas Hart",
         13000,
         13000
        ],
        [
         "Bangladesh",
         "Jeffrey Gordon",
         13000,
         13000
        ],
        [
         "Belgium",
         "Amanda Cooper",
         13000,
         13000
        ],
        [
         "Bhutan",
         "Jason Ayers",
         13000,
         13000
        ],
        [
         "Heard Island and McDonald Islands",
         "Jennifer Bailey",
         13000,
         13000
        ],
        [
         "Estonia",
         "Amy Castro",
         13000,
         13000
        ],
        [
         "Nicaragua",
         "Heather Morales",
         12000,
         12000
        ],
        [
         "United States Virgin Islands",
         "Nancy Franco",
         12000,
         12000
        ],
        [
         "Comoros",
         "Andrew Gordon",
         12000,
         12000
        ],
        [
         "Botswana",
         "April Shaffer",
         12000,
         12000
        ],
        [
         "British Virgin Islands",
         "Scott Walters",
         12000,
         12000
        ],
        [
         "Aruba",
         "Daniel Morgan",
         12000,
         12000
        ],
        [
         "Belgium",
         "Emily Carter",
         12000,
         12000
        ],
        [
         "Egypt",
         "Amanda Baker",
         11000,
         11000
        ],
        [
         "British Indian Ocean Territory (Chagos Archipelago)",
         "Lonnie Boyd",
         11000,
         11000
        ],
        [
         "Faroe Islands",
         "Daniel Anderson",
         11000,
         11000
        ],
        [
         "Cocos (Keeling) Islands",
         "Christopher Hawkins",
         5000,
         10000
        ],
        [
         "Cyprus",
         "Ana Rodriguez",
         10000,
         10000
        ],
        [
         "Thailand",
         "Sarah Greene",
         10000,
         10000
        ],
        [
         "Equatorial Guinea",
         "Elizabeth English",
         10000,
         10000
        ],
        [
         "Azerbaijan",
         "Arthur Hernandez",
         10000,
         10000
        ],
        [
         "Germany",
         "Calvin Atkins",
         10000,
         10000
        ],
        [
         "Austria",
         "Carol Silva",
         10000,
         10000
        ],
        [
         "Grenada",
         "Linda Blackwell",
         9000,
         9000
        ],
        [
         "Anguilla",
         "Stanley Jones",
         9000,
         9000
        ],
        [
         "Saint Martin",
         "James Mills",
         9000,
         9000
        ],
        [
         "Egypt",
         "Kayla Burton",
         9000,
         9000
        ],
        [
         "Romania",
         "Kristy Donaldson",
         9000,
         9000
        ],
        [
         "Armenia",
         "Alexander Clark",
         9000,
         9000
        ],
        [
         "Jersey",
         "Donna Barrett",
         9000,
         9000
        ],
        [
         "Austria",
         "Amanda Bowers",
         9000,
         9000
        ],
        [
         "Armenia",
         "Daniel Matthews",
         9000,
         9000
        ],
        [
         "Ecuador",
         "Andrew Buck",
         9000,
         9000
        ],
        [
         "Luxembourg",
         "Colleen Alvarez",
         9000,
         9000
        ],
        [
         "Belize",
         "Robert Barnes",
         9000,
         9000
        ],
        [
         "Turkey",
         "Richard Edwards",
         9000,
         9000
        ],
        [
         "Georgia",
         "James Green",
         9000,
         9000
        ],
        [
         "British Virgin Islands",
         "Dominique Ford",
         9000,
         9000
        ],
        [
         "Nicaragua",
         "Alexander Cervantes",
         9000,
         9000
        ],
        [
         "Bosnia and Herzegovina",
         "Alan Anderson",
         8000,
         8000
        ],
        [
         "Mexico",
         "Jeffrey Gross",
         8000,
         8000
        ],
        [
         "Kiribati",
         "Morgan Turner",
         8000,
         8000
        ],
        [
         "Kazakhstan",
         "Patrick Mills",
         8000,
         8000
        ],
        [
         "Jamaica",
         "Christian Lang",
         8000,
         8000
        ],
        [
         "Argentina",
         "Anna Cross",
         8000,
         8000
        ],
        [
         "Guinea-Bissau",
         "Denise Graves",
         4000,
         8000
        ],
        [
         "Burkina Faso",
         "Bradley Hernandez",
         8000,
         8000
        ],
        [
         "Niue",
         "Elizabeth Johnson",
         8000,
         8000
        ],
        [
         "Armenia",
         "Ann Elliott",
         8000,
         8000
        ],
        [
         "Monaco",
         "Kristen Stevenson",
         8000,
         8000
        ],
        [
         "Antigua and Barbuda",
         "Sheila Jones",
         8000,
         8000
        ],
        [
         "Bahamas",
         "Allison Adams",
         4000,
         8000
        ],
        [
         "Lesotho",
         "Lisa Washington",
         8000,
         8000
        ],
        [
         "Bulgaria",
         "James Dunn",
         8000,
         8000
        ],
        [
         "Panama",
         "Jessica Mejia",
         1000,
         8000
        ],
        [
         "Falkland Islands (Malvinas)",
         "Jonathan Rodriguez",
         8000,
         8000
        ],
        [
         "Gabon",
         "Mary Pope",
         7000,
         7000
        ],
        [
         "Canada",
         "Jose Bailey",
         7000,
         7000
        ],
        [
         "New Zealand",
         "Jacob Adams",
         7000,
         7000
        ],
        [
         "Indonesia",
         "George Allen",
         7000,
         7000
        ],
        [
         "Chile",
         "Alison Chan",
         7000,
         7000
        ],
        [
         "Greece",
         "Jose Franklin",
         7000,
         7000
        ],
        [
         "Netherlands Antilles",
         "Brandon Jackson",
         7000,
         7000
        ],
        [
         "Venezuela",
         "Jeffrey Hudson",
         7000,
         7000
        ],
        [
         "Paraguay",
         "Angela Reynolds",
         7000,
         7000
        ],
        [
         "Macedonia",
         "Katrina Fischer",
         7000,
         7000
        ],
        [
         "Solomon Islands",
         "Cindy Morales",
         7000,
         7000
        ],
        [
         "Germany",
         "Joshua Collins",
         7000,
         7000
        ],
        [
         "Belarus",
         "Christopher Bates",
         7000,
         7000
        ],
        [
         "Turkmenistan",
         "Heather Barnes",
         7000,
         7000
        ],
        [
         "France",
         "Jeffrey Smith",
         7000,
         7000
        ],
        [
         "India",
         "Jennifer Hudson",
         7000,
         7000
        ],
        [
         "Montserrat",
         "James Jefferson",
         6000,
         6000
        ],
        [
         "Albania",
         "Angela Chavez",
         6000,
         6000
        ],
        [
         "Angola",
         "Jamie Davis",
         6000,
         6000
        ],
        [
         "Andorra",
         "Andre Bartlett",
         6000,
         6000
        ],
        [
         "French Polynesia",
         "Alexandra Burns",
         3000,
         6000
        ],
        [
         "Congo",
         "Kylie Alvarez",
         6000,
         6000
        ],
        [
         "Aruba",
         "Brandon Henderson",
         6000,
         6000
        ],
        [
         "Bouvet Island (Bouvetoya)",
         "Duane Lopez",
         6000,
         6000
        ],
        [
         "Mozambique",
         "Timothy Sullivan",
         6000,
         6000
        ],
        [
         "Cambodia",
         "Robert Murphy",
         6000,
         6000
        ],
        [
         "Maldives",
         "David Davis",
         6000,
         6000
        ],
        [
         "Lesotho",
         "Tyler Davis",
         6000,
         6000
        ],
        [
         "British Virgin Islands",
         "Jack Dodson",
         6000,
         6000
        ],
        [
         "Estonia",
         "Barbara Ford",
         6000,
         6000
        ],
        [
         "Cote d'Ivoire",
         "Joseph Baxter",
         3000,
         6000
        ],
        [
         "Norfolk Island",
         "Justin Morris",
         6000,
         6000
        ],
        [
         "Australia",
         "David Brooks",
         6000,
         6000
        ],
        [
         "Faroe Islands",
         "Mark Jones",
         6000,
         6000
        ],
        [
         "Azerbaijan",
         "Leah Gonzalez",
         6000,
         6000
        ],
        [
         "Bosnia and Herzegovina",
         "Brandon Berg",
         5000,
         5000
        ],
        [
         "Guadeloupe",
         "Bryce Bailey",
         5000,
         5000
        ],
        [
         "Germany",
         "Christopher Butler",
         5000,
         5000
        ],
        [
         "Australia",
         "Michael Decker",
         5000,
         5000
        ],
        [
         "Papua New Guinea",
         "Jennifer Kelly",
         5000,
         5000
        ],
        [
         "Iceland",
         "Natasha Gonzalez",
         5000,
         5000
        ],
        [
         "Kuwait",
         "Angela Barker",
         5000,
         5000
        ],
        [
         "Andorra",
         "Lisa Brewer",
         5000,
         5000
        ],
        [
         "Brunei Darussalam",
         "Anthony Golden",
         5000,
         5000
        ],
        [
         "Cuba",
         "Erin Thompson",
         5000,
         5000
        ],
        [
         "Dominica",
         "Anna Taylor",
         5000,
         5000
        ],
        [
         "Haiti",
         "William Combs",
         5000,
         5000
        ],
        [
         "Marshall Islands",
         "Ann Holmes",
         5000,
         5000
        ],
        [
         "Mayotte",
         "Brenda Brown",
         5000,
         5000
        ],
        [
         "Kazakhstan",
         "Amy Hughes",
         5000,
         5000
        ],
        [
         "Algeria",
         "Brian Barnes",
         5000,
         5000
        ],
        [
         "Brazil",
         "James Graves",
         5000,
         5000
        ],
        [
         "Ethiopia",
         "Mark Duran",
         5000,
         5000
        ],
        [
         "Argentina",
         "Brad Guerrero",
         5000,
         5000
        ],
        [
         "Bahamas",
         "Lori Campos",
         5000,
         5000
        ],
        [
         "Togo",
         "Jeremy Chase",
         4000,
         4000
        ],
        [
         "British Virgin Islands",
         "Aaron Berry",
         4000,
         4000
        ],
        [
         "Niger",
         "Heidi Perez",
         4000,
         4000
        ],
        [
         "Azerbaijan",
         "Barbara Clark",
         4000,
         4000
        ],
        [
         "Morocco",
         "Laura Anderson",
         4000,
         4000
        ],
        [
         "Bermuda",
         "Robert Mclaughlin",
         4000,
         4000
        ],
        [
         "Peru",
         "Jeremy Hebert",
         4000,
         4000
        ],
        [
         "Korea",
         "Alan Newman",
         4000,
         4000
        ],
        [
         "Finland",
         "Antonio Aguilar",
         4000,
         4000
        ],
        [
         "Congo",
         "Brett Oliver",
         4000,
         4000
        ],
        [
         "British Virgin Islands",
         "John Foster",
         4000,
         4000
        ],
        [
         "Estonia",
         "Catherine Mitchell",
         4000,
         4000
        ],
        [
         "Saint Kitts and Nevis",
         "Rebecca Simmons",
         4000,
         4000
        ],
        [
         "Yemen",
         "Julia Bennett",
         4000,
         4000
        ],
        [
         "Poland",
         "Michael Delacruz",
         4000,
         4000
        ],
        [
         "Montserrat",
         "Brittany Butler",
         4000,
         4000
        ],
        [
         "Portugal",
         "Emily Norton",
         4000,
         4000
        ],
        [
         "Mexico",
         "Jonathan Becker",
         4000,
         4000
        ],
        [
         "Qatar",
         "Melanie Allison",
         4000,
         4000
        ],
        [
         "Jamaica",
         "Sara May",
         4000,
         4000
        ],
        [
         "French Southern Territories",
         "Stephanie Taylor",
         4000,
         4000
        ],
        [
         "Andorra",
         "Brandon Holmes",
         4000,
         4000
        ],
        [
         "Egypt",
         "Ashley Anderson",
         406,
         3248
        ],
        [
         "Benin",
         "Janet Andrews",
         3000,
         3000
        ],
        [
         "French Guiana",
         "Catherine Bowman",
         3000,
         3000
        ],
        [
         "Chad",
         "Barbara Riley",
         3000,
         3000
        ],
        [
         "French Polynesia",
         "Adam Cook",
         3000,
         3000
        ],
        [
         "Bosnia and Herzegovina",
         "Linda Mccullough",
         3000,
         3000
        ],
        [
         "Antigua and Barbuda",
         "Alice Day",
         3000,
         3000
        ],
        [
         "Chile",
         "Lauren Hill",
         3000,
         3000
        ],
        [
         "Benin",
         "Alyssa Greene",
         3000,
         3000
        ],
        [
         "Singapore",
         "Jeffrey Jones",
         3000,
         3000
        ],
        [
         "Swaziland",
         "Jeffery Roberson",
         3000,
         3000
        ],
        [
         "Antigua and Barbuda",
         "Kevin Young",
         3000,
         3000
        ],
        [
         "Dominican Republic",
         "Kaylee Miller",
         3000,
         3000
        ],
        [
         "Vietnam",
         "Shawn Woods",
         3000,
         3000
        ],
        [
         "Ghana",
         "Patrick Smith",
         3000,
         3000
        ],
        [
         "Mongolia",
         "Steven Murphy",
         3000,
         3000
        ],
        [
         "Samoa",
         "Robert Golden",
         3000,
         3000
        ],
        [
         "Romania",
         "Scott Page",
         3000,
         3000
        ],
        [
         "Argentina",
         "Donna Campbell",
         3000,
         3000
        ],
        [
         "Bhutan",
         "Aaron Jenkins",
         3000,
         3000
        ],
        [
         "Falkland Islands (Malvinas)",
         "Rebecca Poole",
         3000,
         3000
        ],
        [
         "Finland",
         "Taylor Bean",
         3000,
         3000
        ],
        [
         "South Africa",
         "Stacy May",
         3000,
         3000
        ],
        [
         "Austria",
         "Colin Clayton",
         3000,
         3000
        ],
        [
         "Nauru",
         "Keith Martinez",
         3000,
         3000
        ],
        [
         "Barbados",
         "Beth Johnson",
         1000,
         3000
        ],
        [
         "Cyprus",
         "Margaret Banks",
         3000,
         3000
        ],
        [
         "British Virgin Islands",
         "Leah Franco",
         3000,
         3000
        ],
        [
         "Algeria",
         "Monica Hernandez",
         3000,
         3000
        ],
        [
         "Israel",
         "Samuel Hawkins",
         3000,
         3000
        ],
        [
         "Macao",
         "Michael Mcconnell",
         3000,
         3000
        ],
        [
         "Brunei Darussalam",
         "Anita Acosta",
         2000,
         2000
        ],
        [
         "Finland",
         "Amanda Maldonado",
         2000,
         2000
        ],
        [
         "Bahrain",
         "Anthony Dean",
         2000,
         2000
        ],
        [
         "Gabon",
         "Heather Russell",
         2000,
         2000
        ],
        [
         "Tunisia",
         "Arthur Riggs",
         2000,
         2000
        ],
        [
         "Micronesia",
         "Nathan Davis",
         2000,
         2000
        ],
        [
         "Congo",
         "Christopher Foster",
         2000,
         2000
        ],
        [
         "Tajikistan",
         "Maxwell James",
         2000,
         2000
        ],
        [
         "Fiji",
         "Garrett Hernandez",
         2000,
         2000
        ],
        [
         "Gibraltar",
         "Jill Taylor",
         2000,
         2000
        ],
        [
         "American Samoa",
         "Kevin Johnson",
         2000,
         2000
        ],
        [
         "Hungary",
         "Madeline Brown",
         2000,
         2000
        ],
        [
         "Philippines",
         "Brooke Vang",
         2000,
         2000
        ],
        [
         "Pakistan",
         "Isaac Andrews",
         2000,
         2000
        ],
        [
         "Azerbaijan",
         "Christina Aguilar",
         2000,
         2000
        ],
        [
         "Mongolia",
         "Brandi Martin",
         2000,
         2000
        ],
        [
         "Greece",
         "Stacey Scott",
         2000,
         2000
        ],
        [
         "Anguilla",
         "Thomas Stone",
         2000,
         2000
        ],
        [
         "Isle of Man",
         "Michelle Larsen",
         2000,
         2000
        ],
        [
         "Sao Tome and Principe",
         "Nicholas Mcdaniel",
         2000,
         2000
        ],
        [
         "Antigua and Barbuda",
         "Brandon Mueller",
         2000,
         2000
        ],
        [
         "Azerbaijan",
         "Jessica English",
         2000,
         2000
        ],
        [
         "Madagascar",
         "Manuel Ashley",
         2000,
         2000
        ],
        [
         "Egypt",
         "Carmen Taylor",
         2000,
         2000
        ],
        [
         "Papua New Guinea",
         "Lisa Gibson",
         2000,
         2000
        ],
        [
         "Guernsey",
         "Ryan Long",
         2000,
         2000
        ],
        [
         "Macao",
         "Julia Jackson",
         221,
         1768
        ],
        [
         "Sweden",
         "Meghan Gomez",
         214,
         1712
        ],
        [
         "Greece",
         "Janet Shaw",
         206,
         1648
        ],
        [
         "Antarctica (the territory South of 60 deg S)",
         "Michelle Duncan",
         203,
         1624
        ],
        [
         "Jamaica",
         "Ronald Hanson",
         178,
         1424
        ],
        [
         "Australia",
         "Christian Cruz",
         137,
         1096
        ],
        [
         "Belize",
         "Adam Bennett",
         1000,
         1000
        ],
        [
         "Cook Islands",
         "Daniel Reyes",
         1000,
         1000
        ],
        [
         "France",
         "Andrew Allen",
         1000,
         1000
        ],
        [
         "Antarctica (the territory South of 60 deg S)",
         "Andrea Allen",
         1000,
         1000
        ],
        [
         "Heard Island and McDonald Islands",
         "Wayne Murphy",
         1000,
         1000
        ],
        [
         "Burkina Faso",
         "Kelly Carter",
         1000,
         1000
        ],
        [
         "Bhutan",
         "Danielle Gonzalez",
         1000,
         1000
        ],
        [
         "Ukraine",
         "Grace Walker",
         1000,
         1000
        ],
        [
         "Yemen",
         "David Hill",
         1000,
         1000
        ],
        [
         "Puerto Rico",
         "Samuel Thompson",
         1000,
         1000
        ],
        [
         "Marshall Islands",
         "Andrew Silva",
         1000,
         1000
        ],
        [
         "Latvia",
         "Linda Tate",
         1000,
         1000
        ],
        [
         "Iran",
         "Cassandra Cooke",
         1000,
         1000
        ],
        [
         "Sri Lanka",
         "Scott Jackson",
         1000,
         1000
        ],
        [
         "Egypt",
         "Kendra Padilla",
         1000,
         1000
        ],
        [
         "Nicaragua",
         "Timothy Meyer",
         1000,
         1000
        ],
        [
         "Bouvet Island (Bouvetoya)",
         "Gabrielle Flores",
         1000,
         1000
        ],
        [
         "Bangladesh",
         "Christopher Campbell",
         1000,
         1000
        ],
        [
         "San Marino",
         "Brent Baldwin",
         1000,
         1000
        ],
        [
         "Turkmenistan",
         "Vernon Brown",
         1000,
         1000
        ],
        [
         "India",
         "Jason Thomas",
         1000,
         1000
        ],
        [
         "Kuwait",
         "Justin Ewing",
         1000,
         1000
        ],
        [
         "Andorra",
         "Frank Howard",
         1000,
         1000
        ],
        [
         "Israel",
         "Adam Nash",
         1000,
         1000
        ],
        [
         "Japan",
         "Johnny Gardner",
         1000,
         1000
        ],
        [
         "Kuwait",
         "Emily Morgan",
         1000,
         1000
        ],
        [
         "Cook Islands",
         "Brandon Buchanan",
         1000,
         1000
        ],
        [
         "Micronesia",
         "Elaine Contreras",
         1000,
         1000
        ],
        [
         "Finland",
         "Derrick Kim",
         1000,
         1000
        ],
        [
         "Cote d'Ivoire",
         "Brent Allen",
         970,
         970
        ],
        [
         "Sudan",
         "Cheryl Huerta",
         940,
         940
        ],
        [
         "Congo",
         "Jason Martin",
         908,
         908
        ],
        [
         "Saint Kitts and Nevis",
         "Brenda Holden",
         904,
         904
        ],
        [
         "Papua New Guinea",
         "Michelle Gutierrez",
         112,
         896
        ],
        [
         "Bermuda",
         "Amber Blevins",
         884,
         884
        ],
        [
         "Liechtenstein",
         "Jessica Sullivan",
         881,
         881
        ],
        [
         "Bermuda",
         "Adam Anderson",
         873,
         873
        ],
        [
         "Lao People's Democratic Republic",
         "Joyce Ochoa",
         849,
         849
        ],
        [
         "Hungary",
         "Clarence Brooks",
         848,
         848
        ],
        [
         "Qatar",
         "Bryan Mcfarland",
         838,
         838
        ],
        [
         "Brazil",
         "Tracie Thompson",
         833,
         833
        ],
        [
         "Holy See (Vatican City State)",
         "Shannon Melton",
         831,
         831
        ],
        [
         "Aruba",
         "Amanda Alvarez",
         159,
         795
        ],
        [
         "Sao Tome and Principe",
         "David Taylor",
         793,
         793
        ],
        [
         "Anguilla",
         "Kyle Mccarthy",
         784,
         784
        ],
        [
         "Bangladesh",
         "Darius Thompson",
         781,
         781
        ],
        [
         "Kyrgyz Republic",
         "Stephanie Cooper",
         778,
         778
        ],
        [
         "Oman",
         "Jose Robbins",
         777,
         777
        ],
        [
         "Kazakhstan",
         "Natalie Davis",
         771,
         771
        ],
        [
         "Antigua and Barbuda",
         "Casey Perry",
         760,
         760
        ],
        [
         "Slovenia",
         "Lauren Powell",
         746,
         746
        ],
        [
         "Nicaragua",
         "Seth Gardner",
         729,
         729
        ],
        [
         "Antigua and Barbuda",
         "Michelle Smith",
         722,
         722
        ],
        [
         "Belarus",
         "Jordan Grant",
         709,
         709
        ],
        [
         "Honduras",
         "Julie Branch",
         663,
         663
        ],
        [
         "Korea",
         "Melissa Weiss",
         662,
         662
        ],
        [
         "Bermuda",
         "Nancy Choi",
         630,
         630
        ],
        [
         "Tajikistan",
         "Adam Baker",
         593,
         593
        ],
        [
         "Macao",
         "Rebecca Conner",
         583,
         583
        ],
        [
         "Cambodia",
         "Patricia Davis",
         579,
         579
        ],
        [
         "Greece",
         "Alexandra Anderson",
         578,
         578
        ],
        [
         "Gibraltar",
         "Bethany Owens",
         554,
         554
        ],
        [
         "Guatemala",
         "Sarah Valenzuela",
         542,
         542
        ],
        [
         "Niue",
         "Melissa Griffin",
         538,
         538
        ],
        [
         "Ecuador",
         "Dawn Bradley",
         265,
         530
        ],
        [
         "Nicaragua",
         "Jonathan Martinez",
         521,
         521
        ],
        [
         "Saint Barthelemy",
         "Gerald Davis",
         517,
         517
        ],
        [
         "Bhutan",
         "Andrew Estrada",
         517,
         517
        ],
        [
         "Faroe Islands",
         "Daniel Davis",
         511,
         511
        ],
        [
         "Morocco",
         "Gina Hammond",
         504,
         504
        ],
        [
         "Palestinian Territory",
         "Alexis Taylor",
         494,
         494
        ],
        [
         "Mexico",
         "Kristina Dawson",
         492,
         492
        ],
        [
         "Botswana",
         "Grace Becker",
         458,
         458
        ],
        [
         "Dominica",
         "Cynthia Guerra",
         458,
         458
        ],
        [
         "Papua New Guinea",
         "Kaitlyn Hughes",
         444,
         444
        ],
        [
         "Faroe Islands",
         "Diane Phillips",
         443,
         443
        ],
        [
         "Cocos (Keeling) Islands",
         "Thomas Turner",
         437,
         437
        ],
        [
         "Bangladesh",
         "Amanda Nunez",
         436,
         436
        ],
        [
         "Central African Republic",
         "Amanda Brewer",
         426,
         426
        ],
        [
         "Ghana",
         "Kevin Torres",
         53,
         424
        ],
        [
         "United States of America",
         "David Manning",
         406,
         406
        ],
        [
         "Guyana",
         "James Turner",
         394,
         394
        ],
        [
         "Paraguay",
         "Katherine Dennis",
         392,
         392
        ],
        [
         "Singapore",
         "Nicole Harrison",
         387,
         387
        ],
        [
         "Belgium",
         "Holly Kent",
         387,
         387
        ],
        [
         "New Caledonia",
         "Peter Roberts",
         377,
         377
        ],
        [
         "Isle of Man",
         "Jacob Baird",
         376,
         376
        ],
        [
         "New Zealand",
         "Katherine Peterson",
         366,
         366
        ],
        [
         "Afghanistan",
         "Danielle Atkinson",
         361,
         361
        ],
        [
         "Armenia",
         "Robert Lewis",
         359,
         359
        ],
        [
         "Cape Verde",
         "Francisco Yang",
         344,
         344
        ],
        [
         "Australia",
         "David Leach",
         336,
         336
        ],
        [
         "Saudi Arabia",
         "Tammy Wise",
         332,
         332
        ],
        [
         "Saint Helena",
         "Mindy Garrison",
         328,
         328
        ],
        [
         "Georgia",
         "Patricia Meyer",
         328,
         328
        ],
        [
         "Bahamas",
         "Amber Erickson",
         326,
         326
        ],
        [
         "Saint Pierre and Miquelon",
         "James Keith",
         323,
         323
        ],
        [
         "Bhutan",
         "William Donovan",
         323,
         323
        ],
        [
         "Guinea",
         "Adam Anderson",
         320,
         320
        ],
        [
         "Honduras",
         "Steven Duncan",
         319,
         319
        ],
        [
         "Nicaragua",
         "Wendy Benjamin",
         316,
         316
        ],
        [
         "Grenada",
         "Michael Hunter",
         314,
         314
        ],
        [
         "Isle of Man",
         "Lisa Gamble",
         313,
         313
        ],
        [
         "Equatorial Guinea",
         "Mary Moon",
         311,
         311
        ],
        [
         "Aruba",
         "Carlos Dixon",
         305,
         305
        ],
        [
         "Romania",
         "Deanna Alexander",
         301,
         301
        ],
        [
         "Bahamas",
         "Aaron Johnson",
         293,
         293
        ],
        [
         "Niger",
         "Holly Bailey",
         293,
         293
        ],
        [
         "Greenland",
         "Nicole Johnson",
         270,
         270
        ],
        [
         "Poland",
         "John Anderson",
         265,
         265
        ],
        [
         "Niue",
         "Shane Huang",
         263,
         263
        ],
        [
         "Armenia",
         "Jessica Long",
         262,
         262
        ],
        [
         "Pitcairn Islands",
         "Jessica Clarke",
         255,
         255
        ],
        [
         "Trinidad and Tobago",
         "Joshua Long",
         254,
         254
        ],
        [
         "Saint Pierre and Miquelon",
         "Michael Snyder",
         242,
         242
        ],
        [
         "United States Virgin Islands",
         "Katherine Howell",
         240,
         240
        ],
        [
         "Belize",
         "Amanda Holt",
         240,
         240
        ],
        [
         "Saint Pierre and Miquelon",
         "Erica Green",
         237,
         237
        ],
        [
         "Netherlands",
         "Steven Sanders",
         228,
         228
        ],
        [
         "Central African Republic",
         "Angela Griffin",
         224,
         224
        ],
        [
         "Saudi Arabia",
         "Samantha Hall",
         223,
         223
        ],
        [
         "Somalia",
         "Shawn Gray",
         217,
         217
        ],
        [
         "Bolivia",
         "Linda Rojas",
         213,
         213
        ],
        [
         "Slovakia (Slovak Republic)",
         "Marissa Spence",
         213,
         213
        ],
        [
         "Mozambique",
         "John Patterson",
         212,
         212
        ],
        [
         "Qatar",
         "Alejandro Graham",
         202,
         202
        ],
        [
         "Cocos (Keeling) Islands",
         "Joann Anderson",
         99,
         198
        ],
        [
         "Antarctica (the territory South of 60 deg S)",
         "Scott Copeland",
         198,
         198
        ],
        [
         "Bermuda",
         "Dana Jackson",
         198,
         198
        ],
        [
         "Samoa",
         "Mark Richardson",
         196,
         196
        ],
        [
         "Ghana",
         "Nancy Case",
         191,
         191
        ],
        [
         "Norway",
         "Nicole Gray",
         189,
         189
        ],
        [
         "Nauru",
         "Chris Griffin",
         188,
         188
        ],
        [
         "Saint Martin",
         "Nancy Sanchez",
         188,
         188
        ],
        [
         "Bangladesh",
         "Bernard Arnold",
         184,
         184
        ],
        [
         "Singapore",
         "Debra Jenkins",
         179,
         179
        ],
        [
         "Denmark",
         "Nancy Jones",
         177,
         177
        ],
        [
         "Finland",
         "Alison Harding",
         168,
         168
        ],
        [
         "Monaco",
         "Corey Anderson",
         167,
         167
        ],
        [
         "Nigeria",
         "Cheryl Dean",
         164,
         164
        ],
        [
         "Saint Pierre and Miquelon",
         "Hannah Lee",
         154,
         154
        ],
        [
         "Namibia",
         "Grace Luna",
         19,
         152
        ],
        [
         "Iran",
         "Melissa Thompson",
         150,
         150
        ],
        [
         "Dominican Republic",
         "Michelle Brown",
         150,
         150
        ],
        [
         "Trinidad and Tobago",
         "Abigail Stuart",
         143,
         143
        ],
        [
         "Angola",
         "John Cruz",
         139,
         139
        ],
        [
         "Niger",
         "Anthony Mcbride",
         135,
         135
        ],
        [
         "Czech Republic",
         "Erin Lawson",
         133,
         133
        ],
        [
         "Saint Vincent and the Grenadines",
         "Tommy Murray",
         121,
         121
        ],
        [
         "Cameroon",
         "Sarah Henry",
         112,
         112
        ],
        [
         "Philippines",
         "Michael Carter",
         111,
         111
        ],
        [
         "Iran",
         "Sandra Bell",
         106,
         106
        ],
        [
         "Malta",
         "Cynthia Ortiz",
         13,
         104
        ],
        [
         "Fiji",
         "Haley Jordan",
         101,
         101
        ],
        [
         "Algeria",
         "Jennifer Grimes",
         100,
         100
        ],
        [
         "Burundi",
         "Matthew Thomas",
         94,
         94
        ],
        [
         "Guadeloupe",
         "Clayton George",
         92,
         92
        ],
        [
         "Benin",
         "Cody Barker",
         91,
         91
        ],
        [
         "Bahrain",
         "Shane Blanchard",
         91,
         91
        ],
        [
         "Botswana",
         "Brian Bailey",
         82,
         82
        ],
        [
         "Aruba",
         "Alvin Adams",
         27,
         81
        ],
        [
         "Serbia",
         "Cameron Medina",
         78,
         78
        ],
        [
         "Cape Verde",
         "Charles Clark",
         77,
         77
        ],
        [
         "Belize",
         "Brian Buckley",
         38,
         76
        ],
        [
         "France",
         "Timothy Smith",
         76,
         76
        ],
        [
         "British Virgin Islands",
         "Kelly Jones",
         73,
         73
        ],
        [
         "Albania",
         "Donald Bennett",
         65,
         65
        ],
        [
         "Palestinian Territory",
         "Peter Huffman",
         65,
         65
        ],
        [
         "Mozambique",
         "Jason Herrera",
         63,
         63
        ],
        [
         "Hungary",
         "Christopher Combs",
         63,
         63
        ],
        [
         "American Samoa",
         "Amanda Allen",
         5,
         60
        ],
        [
         "Uganda",
         "Cristina Delgado",
         57,
         57
        ],
        [
         "Turks and Caicos Islands",
         "Pamela Wilson",
         7,
         56
        ],
        [
         "Iran",
         "Jennifer Snyder",
         56,
         56
        ],
        [
         "Central African Republic",
         "April Anderson",
         28,
         56
        ],
        [
         "Egypt",
         "Heather Arellano",
         25,
         50
        ],
        [
         "Mauritania",
         "Nicole Mitchell",
         50,
         50
        ],
        [
         "Sweden",
         "Todd Lang",
         48,
         48
        ],
        [
         "Switzerland",
         "Jermaine Hensley",
         45,
         45
        ],
        [
         "Panama",
         "Kaitlyn Rodriguez",
         43,
         43
        ],
        [
         "Tuvalu",
         "Grant Villanueva",
         41,
         41
        ],
        [
         "Indonesia",
         "Andrew Winters",
         39,
         39
        ],
        [
         "Guernsey",
         "Theresa Dixon",
         39,
         39
        ],
        [
         "Nigeria",
         "Michael Clark",
         36,
         36
        ],
        [
         "Lithuania",
         "James Warren",
         34,
         34
        ],
        [
         "United States Virgin Islands",
         "Meghan Larson",
         33,
         33
        ],
        [
         "Solomon Islands",
         "Steven Dixon",
         33,
         33
        ],
        [
         "Equatorial Guinea",
         "Ashley Castro",
         31,
         31
        ],
        [
         "Bangladesh",
         "Robert Black",
         31,
         31
        ],
        [
         "Iran",
         "Jack Morales",
         28,
         28
        ],
        [
         "Venezuela",
         "Lawrence Lane",
         28,
         28
        ],
        [
         "Colombia",
         "Amanda Herrera",
         27,
         27
        ],
        [
         "Japan",
         "Joyce Kennedy",
         27,
         27
        ],
        [
         "Tanzania",
         "Sarah Buchanan",
         26,
         26
        ],
        [
         "Djibouti",
         "Adrian Marshall",
         25,
         25
        ],
        [
         "Andorra",
         "Jordan Jenkins",
         3,
         24
        ],
        [
         "Norfolk Island",
         "Stephen Chan",
         23,
         23
        ],
        [
         "Liechtenstein",
         "Christopher Anderson",
         23,
         23
        ],
        [
         "Uganda",
         "Erik Martinez",
         22,
         22
        ],
        [
         "Bahamas",
         "Amber Bennett",
         22,
         22
        ],
        [
         "Peru",
         "Amanda Cox",
         21,
         21
        ],
        [
         "India",
         "Phillip Middleton",
         21,
         21
        ],
        [
         "Panama",
         "Joseph Dominguez",
         21,
         21
        ],
        [
         "Bangladesh",
         "Barry Hunt",
         20,
         20
        ],
        [
         "Finland",
         "Ariana Gross",
         20,
         20
        ],
        [
         "Cocos (Keeling) Islands",
         "Charles York",
         19,
         19
        ],
        [
         "Seychelles",
         "Virginia Vega",
         18,
         18
        ],
        [
         "Saint Barthelemy",
         "Matthew Simon",
         18,
         18
        ],
        [
         "Czech Republic",
         "Jessica Arellano",
         18,
         18
        ],
        [
         "Cote d'Ivoire",
         "Kathleen Lawson",
         15,
         15
        ],
        [
         "Cuba",
         "Jacqueline King",
         13,
         13
        ],
        [
         "Saint Vincent and the Grenadines",
         "Karina Morton",
         13,
         13
        ],
        [
         "Albania",
         "Shannon Dean",
         12,
         12
        ],
        [
         "Argentina",
         "Sandra Allen",
         12,
         12
        ],
        [
         "Israel",
         "Carl Anderson",
         11,
         11
        ],
        [
         "Sudan",
         "Heather Robbins",
         9,
         9
        ],
        [
         "Kiribati",
         "Scott Campbell",
         8,
         8
        ],
        [
         "Guyana",
         "Joshua Harrison",
         8,
         8
        ],
        [
         "Anguilla",
         "Brittany Cruz",
         7,
         7
        ],
        [
         "Colombia",
         "Crystal Santiago",
         7,
         7
        ],
        [
         "Iraq",
         "Charles Martinez",
         7,
         7
        ],
        [
         "Grenada",
         "Jacob Cochran",
         7,
         7
        ],
        [
         "Cyprus",
         "Isabel Rogers",
         6,
         6
        ],
        [
         "Sudan",
         "Jill Gilmore",
         6,
         6
        ],
        [
         "Solomon Islands",
         "Valerie Rodriguez",
         6,
         6
        ],
        [
         "Romania",
         "Dawn Mcdowell",
         5,
         5
        ],
        [
         "Macao",
         "Dustin Turner",
         5,
         5
        ],
        [
         "Uganda",
         "Brenda Cherry",
         5,
         5
        ],
        [
         "Uganda",
         "Bradley Coleman",
         4,
         4
        ],
        [
         "Jersey",
         "James Brown",
         4,
         4
        ],
        [
         "Malta",
         "Amanda Guzman",
         4,
         4
        ],
        [
         "Bahamas",
         "Danielle Hernandez",
         4,
         4
        ],
        [
         "Fiji",
         "Christopher Daniel",
         2,
         2
        ],
        [
         "Ireland",
         "Aaron Lam",
         2,
         2
        ],
        [
         "Congo",
         "Steven Weiss",
         1,
         1
        ],
        [
         "Montserrat",
         "Margaret Torres",
         1,
         1
        ],
        [
         "Andorra",
         "Christian Howell",
         1,
         1
        ],
        [
         "Djibouti",
         "Amanda Stevens",
         1,
         1
        ],
        [
         "Guinea-Bissau",
         "Joe Pham",
         0,
         0
        ],
        [
         "Lithuania",
         "Lance Li",
         0,
         0
        ],
        [
         "Panama",
         "Benjamin Keith",
         0,
         0
        ],
        [
         "United States of America",
         "Annette Barber",
         0,
         0
        ],
        [
         "Puerto Rico",
         "Nancy Patel",
         0,
         0
        ],
        [
         "Colombia",
         "Rachel Davis",
         0,
         0
        ],
        [
         "Tonga",
         "Gregory Ramsey",
         0,
         0
        ],
        [
         "Algeria",
         "Molly Curtis",
         0,
         0
        ],
        [
         "Georgia",
         "Carl Thompson",
         0,
         0
        ],
        [
         "New Caledonia",
         "Brian Lloyd",
         0,
         0
        ],
        [
         "Albania",
         "Abigail Ali",
         null,
         null
        ]
       ],
       "datasetInfos": [],
       "dbfsResultPath": null,
       "isJsonSchema": true,
       "metadata": {},
       "overflow": false,
       "plotOptions": {
        "customPlotOptions": {},
        "displayType": "table",
        "pivotAggregation": null,
        "pivotColumns": null,
        "xColumns": null,
        "yColumns": null
       },
       "removedWidgets": [],
       "schema": [
        {
         "metadata": "{}",
         "name": "country",
         "type": "\"string\""
        },
        {
         "metadata": "{}",
         "name": "user_name",
         "type": "\"string\""
        },
        {
         "metadata": "{}",
         "name": "follower_count",
         "type": "\"integer\""
        },
        {
         "metadata": "{}",
         "name": "total_follower_count",
         "type": "\"long\""
        }
       ],
       "type": "table"
      }
     },
     "output_type": "display_data"
    }
   ],
   "source": [
    "#find the user with the most follwers in each country\n",
    "\n",
    "most_popular_followers_df = cleaned_geo_df.alias(\"geo\") \\\n",
    "    .join(cleaned_pin_df.alias(\"pin\"), cleaned_geo_df[\"ind\"] == cleaned_pin_df[\"ind\"], how=\"inner\") \\\n",
    "    .join(cleaned_user_df, cleaned_pin_df[\"ind\"] == cleaned_user_df[\"ind\"], how=\"inner\")\\\n",
    "    .groupBy(\"country\", \"user_name\",\"follower_count\")\\\n",
    "    .agg(sum(\"follower_count\").alias(\"total_follower_count\"))\\\n",
    "    .orderBy(\"total_follower_count\", ascending=False)\n",
    "\n",
    "display(most_popular_followers_df)"
   ]
  },
  {
   "cell_type": "code",
   "execution_count": null,
   "metadata": {
    "application/vnd.databricks.v1+cell": {
     "cellMetadata": {
      "byteLimit": 2048000,
      "rowLimit": 10000
     },
     "inputWidgets": {},
     "nuid": "ae582b34-cd60-4b30-91cc-0aa736f674d0",
     "showTitle": false,
     "title": ""
    }
   },
   "outputs": [
    {
     "data": {
      "text/html": [
       "<style scoped>\n",
       "  .table-result-container {\n",
       "    max-height: 300px;\n",
       "    overflow: auto;\n",
       "  }\n",
       "  table, th, td {\n",
       "    border: 1px solid black;\n",
       "    border-collapse: collapse;\n",
       "  }\n",
       "  th, td {\n",
       "    padding: 5px;\n",
       "  }\n",
       "  th {\n",
       "    text-align: left;\n",
       "  }\n",
       "</style><div class='table-result-container'><table class='table-result'><thead style='background-color: white'><tr><th>country</th><th>max_follower_count</th></tr></thead><tbody><tr><td>Angola</td><td>8000000</td></tr><tr><td>American Samoa</td><td>8000000</td></tr><tr><td>Azerbaijan</td><td>6000000</td></tr><tr><td>Burkina Faso</td><td>6000000</td></tr><tr><td>Bouvet Island (Bouvetoya)</td><td>5000000</td></tr><tr><td>Albania</td><td>5000000</td></tr><tr><td>Algeria</td><td>5000000</td></tr><tr><td>United States Virgin Islands</td><td>4000000</td></tr><tr><td>Comoros</td><td>4000000</td></tr><tr><td>Guam</td><td>4000000</td></tr><tr><td>Bangladesh</td><td>4000000</td></tr><tr><td>Christmas Island</td><td>3000000</td></tr><tr><td>Botswana</td><td>3000000</td></tr><tr><td>Afghanistan</td><td>3000000</td></tr><tr><td>Uganda</td><td>3000000</td></tr><tr><td>Cambodia</td><td>2000000</td></tr><tr><td>Kuwait</td><td>2000000</td></tr><tr><td>Argentina</td><td>2000000</td></tr><tr><td>Greenland</td><td>2000000</td></tr><tr><td>Australia</td><td>2000000</td></tr><tr><td>Costa Rica</td><td>2000000</td></tr><tr><td>Antigua and Barbuda</td><td>1000000</td></tr><tr><td>Andorra</td><td>1000000</td></tr><tr><td>Antarctica (the territory South of 60 deg S)</td><td>1000000</td></tr><tr><td>Russian Federation</td><td>1000000</td></tr><tr><td>Martinique</td><td>1000000</td></tr><tr><td>Cayman Islands</td><td>1000000</td></tr><tr><td>Hong Kong</td><td>991000</td></tr><tr><td>Guatemala</td><td>965000</td></tr><tr><td>Bahamas</td><td>948000</td></tr><tr><td>Bulgaria</td><td>912000</td></tr><tr><td>Lesotho</td><td>908000</td></tr><tr><td>Mongolia</td><td>893000</td></tr><tr><td>Armenia</td><td>892000</td></tr><tr><td>Iraq</td><td>875000</td></tr><tr><td>Aruba</td><td>874000</td></tr><tr><td>Central African Republic</td><td>868000</td></tr><tr><td>Austria</td><td>813000</td></tr><tr><td>Cocos (Keeling) Islands</td><td>709000</td></tr><tr><td>Pitcairn Islands</td><td>671000</td></tr><tr><td>Belarus</td><td>648000</td></tr><tr><td>Korea</td><td>627000</td></tr><tr><td>Burundi</td><td>620000</td></tr><tr><td>Cote d'Ivoire</td><td>565000</td></tr><tr><td>Palestinian Territory</td><td>561000</td></tr><tr><td>Liberia</td><td>550000</td></tr><tr><td>Iran</td><td>520000</td></tr><tr><td>Heard Island and McDonald Islands</td><td>487000</td></tr><tr><td>Belgium</td><td>433000</td></tr><tr><td>Maldives</td><td>416000</td></tr><tr><td>Barbados</td><td>410000</td></tr><tr><td>Congo</td><td>410000</td></tr><tr><td>Norway</td><td>409000</td></tr><tr><td>Czech Republic</td><td>398000</td></tr><tr><td>Greece</td><td>397000</td></tr><tr><td>Bosnia and Herzegovina</td><td>388000</td></tr><tr><td>Tokelau</td><td>384000</td></tr><tr><td>Egypt</td><td>346000</td></tr><tr><td>Bahrain</td><td>332000</td></tr><tr><td>Bolivia</td><td>328000</td></tr><tr><td>Cuba</td><td>307000</td></tr><tr><td>Brunei Darussalam</td><td>277000</td></tr><tr><td>Djibouti</td><td>275000</td></tr><tr><td>Niue</td><td>271000</td></tr><tr><td>Belize</td><td>267000</td></tr><tr><td>Canada</td><td>258000</td></tr><tr><td>Indonesia</td><td>252000</td></tr><tr><td>British Indian Ocean Territory (Chagos Archipelago)</td><td>248000</td></tr><tr><td>Netherlands</td><td>247000</td></tr><tr><td>British Virgin Islands</td><td>245000</td></tr><tr><td>French Guiana</td><td>241000</td></tr><tr><td>Colombia</td><td>239000</td></tr><tr><td>Ireland</td><td>239000</td></tr><tr><td>Monaco</td><td>227000</td></tr><tr><td>Chad</td><td>226000</td></tr><tr><td>El Salvador</td><td>221000</td></tr><tr><td>Malta</td><td>219000</td></tr><tr><td>Georgia</td><td>203000</td></tr><tr><td>Nepal</td><td>197000</td></tr><tr><td>Turkmenistan</td><td>193000</td></tr><tr><td>Latvia</td><td>188000</td></tr><tr><td>Grenada</td><td>185000</td></tr><tr><td>Cape Verde</td><td>178000</td></tr><tr><td>Saint Kitts and Nevis</td><td>171000</td></tr><tr><td>Namibia</td><td>168000</td></tr><tr><td>India</td><td>167000</td></tr><tr><td>Lebanon</td><td>163000</td></tr><tr><td>Guinea-Bissau</td><td>160000</td></tr><tr><td>Libyan Arab Jamahiriya</td><td>157000</td></tr><tr><td>Saint Helena</td><td>154000</td></tr><tr><td>Svalbard & Jan Mayen Islands</td><td>152000</td></tr><tr><td>Croatia</td><td>134000</td></tr><tr><td>Guinea</td><td>134000</td></tr><tr><td>Bhutan</td><td>130000</td></tr><tr><td>China</td><td>127000</td></tr><tr><td>Guadeloupe</td><td>123000</td></tr><tr><td>Cameroon</td><td>123000</td></tr><tr><td>Mali</td><td>122000</td></tr><tr><td>French Southern Territories</td><td>119000</td></tr><tr><td>Somalia</td><td>118000</td></tr><tr><td>Puerto Rico</td><td>116000</td></tr><tr><td>France</td><td>115000</td></tr><tr><td>Benin</td><td>113000</td></tr><tr><td>Madagascar</td><td>112000</td></tr><tr><td>Eritrea</td><td>105000</td></tr><tr><td>Dominican Republic</td><td>104000</td></tr><tr><td>Haiti</td><td>100000</td></tr><tr><td>Venezuela</td><td>100000</td></tr><tr><td>Kenya</td><td>95000</td></tr><tr><td>Anguilla</td><td>92000</td></tr><tr><td>Gibraltar</td><td>89000</td></tr><tr><td>Gabon</td><td>88000</td></tr><tr><td>Myanmar</td><td>88000</td></tr><tr><td>Japan</td><td>87000</td></tr><tr><td>Kyrgyz Republic</td><td>87000</td></tr><tr><td>Ecuador</td><td>84000</td></tr><tr><td>Mozambique</td><td>83000</td></tr><tr><td>Solomon Islands</td><td>81000</td></tr><tr><td>Finland</td><td>79000</td></tr><tr><td>Hungary</td><td>77000</td></tr><tr><td>South Georgia and the South Sandwich Islands</td><td>75000</td></tr><tr><td>Kazakhstan</td><td>75000</td></tr><tr><td>Dominica</td><td>67000</td></tr><tr><td>Tunisia</td><td>66000</td></tr><tr><td>Mayotte</td><td>65000</td></tr><tr><td>Sudan</td><td>63000</td></tr><tr><td>Netherlands Antilles</td><td>61000</td></tr><tr><td>Norfolk Island</td><td>60000</td></tr><tr><td>Falkland Islands (Malvinas)</td><td>59000</td></tr><tr><td>Sweden</td><td>58000</td></tr><tr><td>French Polynesia</td><td>52000</td></tr><tr><td>Isle of Man</td><td>52000</td></tr><tr><td>Germany</td><td>48000</td></tr><tr><td>United States of America</td><td>47000</td></tr><tr><td>Mauritius</td><td>46000</td></tr><tr><td>Bermuda</td><td>46000</td></tr><tr><td>Nauru</td><td>45000</td></tr><tr><td>Qatar</td><td>45000</td></tr><tr><td>Moldova</td><td>44000</td></tr><tr><td>Fiji</td><td>41000</td></tr><tr><td>Nigeria</td><td>38000</td></tr><tr><td>Denmark</td><td>36000</td></tr><tr><td>Luxembourg</td><td>35000</td></tr><tr><td>Guernsey</td><td>32000</td></tr><tr><td>Zambia</td><td>32000</td></tr><tr><td>Taiwan</td><td>32000</td></tr><tr><td>Samoa</td><td>32000</td></tr><tr><td>Portugal</td><td>29000</td></tr><tr><td>Cyprus</td><td>25000</td></tr><tr><td>Senegal</td><td>24000</td></tr><tr><td>Mauritania</td><td>22000</td></tr><tr><td>Turkey</td><td>21000</td></tr><tr><td>Seychelles</td><td>21000</td></tr><tr><td>Italy</td><td>21000</td></tr><tr><td>Montserrat</td><td>20000</td></tr><tr><td>New Caledonia</td><td>20000</td></tr><tr><td>Chile</td><td>19000</td></tr><tr><td>New Zealand</td><td>19000</td></tr><tr><td>Jamaica</td><td>19000</td></tr><tr><td>Turks and Caicos Islands</td><td>19000</td></tr><tr><td>Malawi</td><td>18000</td></tr><tr><td>Ethiopia</td><td>17000</td></tr><tr><td>Vietnam</td><td>15000</td></tr><tr><td>Estonia</td><td>13000</td></tr><tr><td>Morocco</td><td>13000</td></tr><tr><td>Marshall Islands</td><td>13000</td></tr><tr><td>Nicaragua</td><td>12000</td></tr><tr><td>Faroe Islands</td><td>11000</td></tr><tr><td>Brazil</td><td>11000</td></tr><tr><td>Slovakia (Slovak Republic)</td><td>11000</td></tr><tr><td>Lithuania</td><td>10000</td></tr><tr><td>Thailand</td><td>10000</td></tr><tr><td>Liechtenstein</td><td>10000</td></tr><tr><td>Equatorial Guinea</td><td>10000</td></tr><tr><td>Saint Martin</td><td>9000</td></tr><tr><td>Jersey</td><td>9000</td></tr><tr><td>Romania</td><td>9000</td></tr><tr><td>Mexico</td><td>8000</td></tr><tr><td>Kiribati</td><td>8000</td></tr><tr><td>Paraguay</td><td>7000</td></tr><tr><td>Macedonia</td><td>7000</td></tr><tr><td>Peru</td><td>6000</td></tr><tr><td>Rwanda</td><td>6000</td></tr><tr><td>Papua New Guinea</td><td>5000</td></tr><tr><td>Iceland</td><td>5000</td></tr><tr><td>Niger</td><td>4000</td></tr><tr><td>Poland</td><td>4000</td></tr><tr><td>Yemen</td><td>4000</td></tr><tr><td>Togo</td><td>4000</td></tr><tr><td>Singapore</td><td>3000</td></tr><tr><td>Israel</td><td>3000</td></tr><tr><td>Macao</td><td>3000</td></tr><tr><td>Swaziland</td><td>3000</td></tr><tr><td>Ghana</td><td>3000</td></tr><tr><td>South Africa</td><td>3000</td></tr><tr><td>Tajikistan</td><td>2000</td></tr><tr><td>Micronesia</td><td>2000</td></tr><tr><td>Philippines</td><td>2000</td></tr><tr><td>Wallis and Futuna</td><td>2000</td></tr><tr><td>Pakistan</td><td>2000</td></tr><tr><td>Sao Tome and Principe</td><td>2000</td></tr><tr><td>Cook Islands</td><td>1000</td></tr><tr><td>Ukraine</td><td>1000</td></tr><tr><td>San Marino</td><td>1000</td></tr><tr><td>Panama</td><td>1000</td></tr><tr><td>Sri Lanka</td><td>1000</td></tr><tr><td>Lao People's Democratic Republic</td><td>849</td></tr><tr><td>Holy See (Vatican City State)</td><td>831</td></tr><tr><td>Oman</td><td>777</td></tr><tr><td>Slovenia</td><td>746</td></tr><tr><td>Honduras</td><td>663</td></tr><tr><td>Saint Barthelemy</td><td>517</td></tr><tr><td>Guyana</td><td>394</td></tr><tr><td>Saudi Arabia</td><td>332</td></tr><tr><td>Saint Pierre and Miquelon</td><td>323</td></tr><tr><td>Trinidad and Tobago</td><td>254</td></tr><tr><td>Saint Vincent and the Grenadines</td><td>121</td></tr><tr><td>Serbia</td><td>78</td></tr><tr><td>Switzerland</td><td>45</td></tr><tr><td>Tuvalu</td><td>41</td></tr><tr><td>Tanzania</td><td>26</td></tr><tr><td>Tonga</td><td>0</td></tr></tbody></table></div>"
      ]
     },
     "metadata": {
      "application/vnd.databricks.v1+output": {
       "addedWidgets": {},
       "aggData": [],
       "aggError": "",
       "aggOverflow": false,
       "aggSchema": [],
       "aggSeriesLimitReached": false,
       "aggType": "",
       "arguments": {},
       "columnCustomDisplayInfos": {},
       "data": [
        [
         "Angola",
         8000000
        ],
        [
         "American Samoa",
         8000000
        ],
        [
         "Azerbaijan",
         6000000
        ],
        [
         "Burkina Faso",
         6000000
        ],
        [
         "Bouvet Island (Bouvetoya)",
         5000000
        ],
        [
         "Albania",
         5000000
        ],
        [
         "Algeria",
         5000000
        ],
        [
         "United States Virgin Islands",
         4000000
        ],
        [
         "Comoros",
         4000000
        ],
        [
         "Guam",
         4000000
        ],
        [
         "Bangladesh",
         4000000
        ],
        [
         "Christmas Island",
         3000000
        ],
        [
         "Botswana",
         3000000
        ],
        [
         "Afghanistan",
         3000000
        ],
        [
         "Uganda",
         3000000
        ],
        [
         "Cambodia",
         2000000
        ],
        [
         "Kuwait",
         2000000
        ],
        [
         "Argentina",
         2000000
        ],
        [
         "Greenland",
         2000000
        ],
        [
         "Australia",
         2000000
        ],
        [
         "Costa Rica",
         2000000
        ],
        [
         "Antigua and Barbuda",
         1000000
        ],
        [
         "Andorra",
         1000000
        ],
        [
         "Antarctica (the territory South of 60 deg S)",
         1000000
        ],
        [
         "Russian Federation",
         1000000
        ],
        [
         "Martinique",
         1000000
        ],
        [
         "Cayman Islands",
         1000000
        ],
        [
         "Hong Kong",
         991000
        ],
        [
         "Guatemala",
         965000
        ],
        [
         "Bahamas",
         948000
        ],
        [
         "Bulgaria",
         912000
        ],
        [
         "Lesotho",
         908000
        ],
        [
         "Mongolia",
         893000
        ],
        [
         "Armenia",
         892000
        ],
        [
         "Iraq",
         875000
        ],
        [
         "Aruba",
         874000
        ],
        [
         "Central African Republic",
         868000
        ],
        [
         "Austria",
         813000
        ],
        [
         "Cocos (Keeling) Islands",
         709000
        ],
        [
         "Pitcairn Islands",
         671000
        ],
        [
         "Belarus",
         648000
        ],
        [
         "Korea",
         627000
        ],
        [
         "Burundi",
         620000
        ],
        [
         "Cote d'Ivoire",
         565000
        ],
        [
         "Palestinian Territory",
         561000
        ],
        [
         "Liberia",
         550000
        ],
        [
         "Iran",
         520000
        ],
        [
         "Heard Island and McDonald Islands",
         487000
        ],
        [
         "Belgium",
         433000
        ],
        [
         "Maldives",
         416000
        ],
        [
         "Barbados",
         410000
        ],
        [
         "Congo",
         410000
        ],
        [
         "Norway",
         409000
        ],
        [
         "Czech Republic",
         398000
        ],
        [
         "Greece",
         397000
        ],
        [
         "Bosnia and Herzegovina",
         388000
        ],
        [
         "Tokelau",
         384000
        ],
        [
         "Egypt",
         346000
        ],
        [
         "Bahrain",
         332000
        ],
        [
         "Bolivia",
         328000
        ],
        [
         "Cuba",
         307000
        ],
        [
         "Brunei Darussalam",
         277000
        ],
        [
         "Djibouti",
         275000
        ],
        [
         "Niue",
         271000
        ],
        [
         "Belize",
         267000
        ],
        [
         "Canada",
         258000
        ],
        [
         "Indonesia",
         252000
        ],
        [
         "British Indian Ocean Territory (Chagos Archipelago)",
         248000
        ],
        [
         "Netherlands",
         247000
        ],
        [
         "British Virgin Islands",
         245000
        ],
        [
         "French Guiana",
         241000
        ],
        [
         "Colombia",
         239000
        ],
        [
         "Ireland",
         239000
        ],
        [
         "Monaco",
         227000
        ],
        [
         "Chad",
         226000
        ],
        [
         "El Salvador",
         221000
        ],
        [
         "Malta",
         219000
        ],
        [
         "Georgia",
         203000
        ],
        [
         "Nepal",
         197000
        ],
        [
         "Turkmenistan",
         193000
        ],
        [
         "Latvia",
         188000
        ],
        [
         "Grenada",
         185000
        ],
        [
         "Cape Verde",
         178000
        ],
        [
         "Saint Kitts and Nevis",
         171000
        ],
        [
         "Namibia",
         168000
        ],
        [
         "India",
         167000
        ],
        [
         "Lebanon",
         163000
        ],
        [
         "Guinea-Bissau",
         160000
        ],
        [
         "Libyan Arab Jamahiriya",
         157000
        ],
        [
         "Saint Helena",
         154000
        ],
        [
         "Svalbard & Jan Mayen Islands",
         152000
        ],
        [
         "Croatia",
         134000
        ],
        [
         "Guinea",
         134000
        ],
        [
         "Bhutan",
         130000
        ],
        [
         "China",
         127000
        ],
        [
         "Guadeloupe",
         123000
        ],
        [
         "Cameroon",
         123000
        ],
        [
         "Mali",
         122000
        ],
        [
         "French Southern Territories",
         119000
        ],
        [
         "Somalia",
         118000
        ],
        [
         "Puerto Rico",
         116000
        ],
        [
         "France",
         115000
        ],
        [
         "Benin",
         113000
        ],
        [
         "Madagascar",
         112000
        ],
        [
         "Eritrea",
         105000
        ],
        [
         "Dominican Republic",
         104000
        ],
        [
         "Haiti",
         100000
        ],
        [
         "Venezuela",
         100000
        ],
        [
         "Kenya",
         95000
        ],
        [
         "Anguilla",
         92000
        ],
        [
         "Gibraltar",
         89000
        ],
        [
         "Gabon",
         88000
        ],
        [
         "Myanmar",
         88000
        ],
        [
         "Japan",
         87000
        ],
        [
         "Kyrgyz Republic",
         87000
        ],
        [
         "Ecuador",
         84000
        ],
        [
         "Mozambique",
         83000
        ],
        [
         "Solomon Islands",
         81000
        ],
        [
         "Finland",
         79000
        ],
        [
         "Hungary",
         77000
        ],
        [
         "South Georgia and the South Sandwich Islands",
         75000
        ],
        [
         "Kazakhstan",
         75000
        ],
        [
         "Dominica",
         67000
        ],
        [
         "Tunisia",
         66000
        ],
        [
         "Mayotte",
         65000
        ],
        [
         "Sudan",
         63000
        ],
        [
         "Netherlands Antilles",
         61000
        ],
        [
         "Norfolk Island",
         60000
        ],
        [
         "Falkland Islands (Malvinas)",
         59000
        ],
        [
         "Sweden",
         58000
        ],
        [
         "French Polynesia",
         52000
        ],
        [
         "Isle of Man",
         52000
        ],
        [
         "Germany",
         48000
        ],
        [
         "United States of America",
         47000
        ],
        [
         "Mauritius",
         46000
        ],
        [
         "Bermuda",
         46000
        ],
        [
         "Nauru",
         45000
        ],
        [
         "Qatar",
         45000
        ],
        [
         "Moldova",
         44000
        ],
        [
         "Fiji",
         41000
        ],
        [
         "Nigeria",
         38000
        ],
        [
         "Denmark",
         36000
        ],
        [
         "Luxembourg",
         35000
        ],
        [
         "Guernsey",
         32000
        ],
        [
         "Zambia",
         32000
        ],
        [
         "Taiwan",
         32000
        ],
        [
         "Samoa",
         32000
        ],
        [
         "Portugal",
         29000
        ],
        [
         "Cyprus",
         25000
        ],
        [
         "Senegal",
         24000
        ],
        [
         "Mauritania",
         22000
        ],
        [
         "Turkey",
         21000
        ],
        [
         "Seychelles",
         21000
        ],
        [
         "Italy",
         21000
        ],
        [
         "Montserrat",
         20000
        ],
        [
         "New Caledonia",
         20000
        ],
        [
         "Chile",
         19000
        ],
        [
         "New Zealand",
         19000
        ],
        [
         "Jamaica",
         19000
        ],
        [
         "Turks and Caicos Islands",
         19000
        ],
        [
         "Malawi",
         18000
        ],
        [
         "Ethiopia",
         17000
        ],
        [
         "Vietnam",
         15000
        ],
        [
         "Estonia",
         13000
        ],
        [
         "Morocco",
         13000
        ],
        [
         "Marshall Islands",
         13000
        ],
        [
         "Nicaragua",
         12000
        ],
        [
         "Faroe Islands",
         11000
        ],
        [
         "Brazil",
         11000
        ],
        [
         "Slovakia (Slovak Republic)",
         11000
        ],
        [
         "Lithuania",
         10000
        ],
        [
         "Thailand",
         10000
        ],
        [
         "Liechtenstein",
         10000
        ],
        [
         "Equatorial Guinea",
         10000
        ],
        [
         "Saint Martin",
         9000
        ],
        [
         "Jersey",
         9000
        ],
        [
         "Romania",
         9000
        ],
        [
         "Mexico",
         8000
        ],
        [
         "Kiribati",
         8000
        ],
        [
         "Paraguay",
         7000
        ],
        [
         "Macedonia",
         7000
        ],
        [
         "Peru",
         6000
        ],
        [
         "Rwanda",
         6000
        ],
        [
         "Papua New Guinea",
         5000
        ],
        [
         "Iceland",
         5000
        ],
        [
         "Niger",
         4000
        ],
        [
         "Poland",
         4000
        ],
        [
         "Yemen",
         4000
        ],
        [
         "Togo",
         4000
        ],
        [
         "Singapore",
         3000
        ],
        [
         "Israel",
         3000
        ],
        [
         "Macao",
         3000
        ],
        [
         "Swaziland",
         3000
        ],
        [
         "Ghana",
         3000
        ],
        [
         "South Africa",
         3000
        ],
        [
         "Tajikistan",
         2000
        ],
        [
         "Micronesia",
         2000
        ],
        [
         "Philippines",
         2000
        ],
        [
         "Wallis and Futuna",
         2000
        ],
        [
         "Pakistan",
         2000
        ],
        [
         "Sao Tome and Principe",
         2000
        ],
        [
         "Cook Islands",
         1000
        ],
        [
         "Ukraine",
         1000
        ],
        [
         "San Marino",
         1000
        ],
        [
         "Panama",
         1000
        ],
        [
         "Sri Lanka",
         1000
        ],
        [
         "Lao People's Democratic Republic",
         849
        ],
        [
         "Holy See (Vatican City State)",
         831
        ],
        [
         "Oman",
         777
        ],
        [
         "Slovenia",
         746
        ],
        [
         "Honduras",
         663
        ],
        [
         "Saint Barthelemy",
         517
        ],
        [
         "Guyana",
         394
        ],
        [
         "Saudi Arabia",
         332
        ],
        [
         "Saint Pierre and Miquelon",
         323
        ],
        [
         "Trinidad and Tobago",
         254
        ],
        [
         "Saint Vincent and the Grenadines",
         121
        ],
        [
         "Serbia",
         78
        ],
        [
         "Switzerland",
         45
        ],
        [
         "Tuvalu",
         41
        ],
        [
         "Tanzania",
         26
        ],
        [
         "Tonga",
         0
        ]
       ],
       "datasetInfos": [],
       "dbfsResultPath": null,
       "isJsonSchema": true,
       "metadata": {},
       "overflow": false,
       "plotOptions": {
        "customPlotOptions": {},
        "displayType": "table",
        "pivotAggregation": null,
        "pivotColumns": null,
        "xColumns": null,
        "yColumns": null
       },
       "removedWidgets": [],
       "schema": [
        {
         "metadata": "{}",
         "name": "country",
         "type": "\"string\""
        },
        {
         "metadata": "{}",
         "name": "max_follower_count",
         "type": "\"integer\""
        }
       ],
       "type": "table"
      }
     },
     "output_type": "display_data"
    }
   ],
   "source": [
    "#find the user with the most follwers in each country\n",
    "\n",
    "max_follower_count_df = cleaned_geo_df.alias(\"geo\") \\\n",
    "    .join(cleaned_pin_df.alias(\"pin\"), [\"ind\"], \"inner\") \\\n",
    "    .join(cleaned_user_df.alias(\"user\"), [\"ind\"], \"inner\") \\\n",
    "    .groupBy(\"geo.country\") \\\n",
    "    .agg(max(\"follower_count\").alias(\"max_follower_count\")) \\\n",
    "    .orderBy(\"max_follower_count\", ascending=False)\n",
    "\n",
    "display(max_follower_count_df)\n"
   ]
  },
  {
   "cell_type": "code",
   "execution_count": null,
   "metadata": {
    "application/vnd.databricks.v1+cell": {
     "cellMetadata": {
      "byteLimit": 2048000,
      "rowLimit": 10000
     },
     "inputWidgets": {},
     "nuid": "0da334f0-a780-4b8e-a501-6c5c81107fdf",
     "showTitle": false,
     "title": ""
    }
   },
   "outputs": [
    {
     "data": {
      "text/html": [
       "<style scoped>\n",
       "  .table-result-container {\n",
       "    max-height: 300px;\n",
       "    overflow: auto;\n",
       "  }\n",
       "  table, th, td {\n",
       "    border: 1px solid black;\n",
       "    border-collapse: collapse;\n",
       "  }\n",
       "  th, td {\n",
       "    padding: 5px;\n",
       "  }\n",
       "  th {\n",
       "    text-align: left;\n",
       "  }\n",
       "</style><div class='table-result-container'><table class='table-result'><thead style='background-color: white'><tr><th>age_group</th><th>category</th><th>category_count</th></tr></thead><tbody><tr><td>18-24</td><td>mens-fashion</td><td>152</td></tr><tr><td>18-24</td><td>art</td><td>86</td></tr><tr><td>18-24</td><td>tattoos</td><td>78</td></tr><tr><td>18-24</td><td>christmas</td><td>75</td></tr><tr><td>18-24</td><td>diy-and-crafts</td><td>68</td></tr><tr><td>18-24</td><td>quotes</td><td>65</td></tr><tr><td>18-24</td><td>education</td><td>64</td></tr><tr><td>18-24</td><td>finance</td><td>49</td></tr><tr><td>25-34</td><td>finance</td><td>46</td></tr><tr><td>25-34</td><td>travel</td><td>44</td></tr><tr><td>25-34</td><td>christmas</td><td>44</td></tr><tr><td>25-34</td><td>education</td><td>41</td></tr><tr><td>25-34</td><td>vehicles</td><td>41</td></tr><tr><td>18-24</td><td>home-decor</td><td>38</td></tr><tr><td>18-24</td><td>travel</td><td>37</td></tr><tr><td>25-34</td><td>event-planning</td><td>34</td></tr><tr><td>25-34</td><td>mens-fashion</td><td>33</td></tr><tr><td>18-24</td><td>beauty</td><td>33</td></tr><tr><td>18-24</td><td>event-planning</td><td>32</td></tr><tr><td>25-34</td><td>home-decor</td><td>31</td></tr><tr><td>45+</td><td>quotes</td><td>30</td></tr><tr><td>25-34</td><td>diy-and-crafts</td><td>30</td></tr><tr><td>25-34</td><td>art</td><td>28</td></tr><tr><td>18-24</td><td>vehicles</td><td>28</td></tr><tr><td>35-44</td><td>travel</td><td>27</td></tr><tr><td>45+</td><td>art</td><td>25</td></tr><tr><td>35-44</td><td>finance</td><td>24</td></tr><tr><td>45+</td><td>beauty</td><td>23</td></tr><tr><td>45+</td><td>christmas</td><td>23</td></tr><tr><td>25-34</td><td>beauty</td><td>23</td></tr><tr><td>35-44</td><td>event-planning</td><td>23</td></tr><tr><td>45+</td><td>vehicles</td><td>21</td></tr><tr><td>25-34</td><td>quotes</td><td>21</td></tr><tr><td>35-44</td><td>christmas</td><td>21</td></tr><tr><td>35-44</td><td>diy-and-crafts</td><td>20</td></tr><tr><td>35-44</td><td>home-decor</td><td>20</td></tr><tr><td>35-44</td><td>beauty</td><td>19</td></tr><tr><td>35-44</td><td>mens-fashion</td><td>18</td></tr><tr><td>35-44</td><td>art</td><td>18</td></tr><tr><td>25-34</td><td>tattoos</td><td>17</td></tr><tr><td>45+</td><td>mens-fashion</td><td>17</td></tr><tr><td>35-44</td><td>quotes</td><td>16</td></tr><tr><td>35-44</td><td>vehicles</td><td>15</td></tr><tr><td>35-44</td><td>education</td><td>14</td></tr><tr><td>45+</td><td>event-planning</td><td>14</td></tr><tr><td>45+</td><td>finance</td><td>14</td></tr><tr><td>45+</td><td>travel</td><td>13</td></tr><tr><td>45+</td><td>home-decor</td><td>13</td></tr><tr><td>45+</td><td>diy-and-crafts</td><td>12</td></tr><tr><td>45+</td><td>tattoos</td><td>10</td></tr><tr><td>45+</td><td>education</td><td>8</td></tr><tr><td>35-44</td><td>tattoos</td><td>7</td></tr></tbody></table></div>"
      ]
     },
     "metadata": {
      "application/vnd.databricks.v1+output": {
       "addedWidgets": {},
       "aggData": [],
       "aggError": "",
       "aggOverflow": false,
       "aggSchema": [],
       "aggSeriesLimitReached": false,
       "aggType": "",
       "arguments": {},
       "columnCustomDisplayInfos": {},
       "data": [
        [
         "18-24",
         "mens-fashion",
         152
        ],
        [
         "18-24",
         "art",
         86
        ],
        [
         "18-24",
         "tattoos",
         78
        ],
        [
         "18-24",
         "christmas",
         75
        ],
        [
         "18-24",
         "diy-and-crafts",
         68
        ],
        [
         "18-24",
         "quotes",
         65
        ],
        [
         "18-24",
         "education",
         64
        ],
        [
         "18-24",
         "finance",
         49
        ],
        [
         "25-34",
         "finance",
         46
        ],
        [
         "25-34",
         "travel",
         44
        ],
        [
         "25-34",
         "christmas",
         44
        ],
        [
         "25-34",
         "education",
         41
        ],
        [
         "25-34",
         "vehicles",
         41
        ],
        [
         "18-24",
         "home-decor",
         38
        ],
        [
         "18-24",
         "travel",
         37
        ],
        [
         "25-34",
         "event-planning",
         34
        ],
        [
         "25-34",
         "mens-fashion",
         33
        ],
        [
         "18-24",
         "beauty",
         33
        ],
        [
         "18-24",
         "event-planning",
         32
        ],
        [
         "25-34",
         "home-decor",
         31
        ],
        [
         "45+",
         "quotes",
         30
        ],
        [
         "25-34",
         "diy-and-crafts",
         30
        ],
        [
         "25-34",
         "art",
         28
        ],
        [
         "18-24",
         "vehicles",
         28
        ],
        [
         "35-44",
         "travel",
         27
        ],
        [
         "45+",
         "art",
         25
        ],
        [
         "35-44",
         "finance",
         24
        ],
        [
         "45+",
         "beauty",
         23
        ],
        [
         "45+",
         "christmas",
         23
        ],
        [
         "25-34",
         "beauty",
         23
        ],
        [
         "35-44",
         "event-planning",
         23
        ],
        [
         "45+",
         "vehicles",
         21
        ],
        [
         "25-34",
         "quotes",
         21
        ],
        [
         "35-44",
         "christmas",
         21
        ],
        [
         "35-44",
         "diy-and-crafts",
         20
        ],
        [
         "35-44",
         "home-decor",
         20
        ],
        [
         "35-44",
         "beauty",
         19
        ],
        [
         "35-44",
         "mens-fashion",
         18
        ],
        [
         "35-44",
         "art",
         18
        ],
        [
         "25-34",
         "tattoos",
         17
        ],
        [
         "45+",
         "mens-fashion",
         17
        ],
        [
         "35-44",
         "quotes",
         16
        ],
        [
         "35-44",
         "vehicles",
         15
        ],
        [
         "35-44",
         "education",
         14
        ],
        [
         "45+",
         "event-planning",
         14
        ],
        [
         "45+",
         "finance",
         14
        ],
        [
         "45+",
         "travel",
         13
        ],
        [
         "45+",
         "home-decor",
         13
        ],
        [
         "45+",
         "diy-and-crafts",
         12
        ],
        [
         "45+",
         "tattoos",
         10
        ],
        [
         "45+",
         "education",
         8
        ],
        [
         "35-44",
         "tattoos",
         7
        ]
       ],
       "datasetInfos": [],
       "dbfsResultPath": null,
       "isJsonSchema": true,
       "metadata": {},
       "overflow": false,
       "plotOptions": {
        "customPlotOptions": {},
        "displayType": "table",
        "pivotAggregation": null,
        "pivotColumns": null,
        "xColumns": null,
        "yColumns": null
       },
       "removedWidgets": [],
       "schema": [
        {
         "metadata": "{}",
         "name": "age_group",
         "type": "\"string\""
        },
        {
         "metadata": "{}",
         "name": "category",
         "type": "\"string\""
        },
        {
         "metadata": "{}",
         "name": "category_count",
         "type": "\"long\""
        }
       ],
       "type": "table"
      }
     },
     "output_type": "display_data"
    }
   ],
   "source": [
    "from pyspark.sql.functions import udf, StringType, count\n",
    "from pyspark.sql.window import Window\n",
    "from pyspark.sql.functions import rank\n",
    "\n",
    "# Find the most popular catgory for different age groups\n",
    "most_pop_cat_df = cleaned_pin_df.alias(\"pin\") \\\n",
    "    .join(cleaned_user_df.alias(\"user\"), [\"ind\"], \"inner\")\n",
    "\n",
    "def map_age_to_group(age):\n",
    "    if age < 18:\n",
    "        return 'Under 18'\n",
    "    elif age < 25:\n",
    "        return '18-24'\n",
    "    elif age < 35:\n",
    "        return '25-34'\n",
    "    elif age < 45:\n",
    "        return '35-44'\n",
    "    else:\n",
    "        return '45+'\n",
    "\n",
    "# Define a UDF to apply the map_age_to_group function to the age column\n",
    "map_age_to_group_udf = udf(map_age_to_group, StringType())\n",
    "\n",
    "# Add a new column called age_group to the DataFrame\n",
    "most_pop_cat_df = most_pop_cat_df.withColumn('age_group', map_age_to_group_udf(most_pop_cat_df['age']))\n",
    "\n",
    "# Aggregate the data to find the count of categories for each age group\n",
    "most_pop_cat_df = most_pop_cat_df.groupBy('age_group', 'category')\\\n",
    "    .agg(count(\"category\")\\\n",
    "    .alias(\"category_count\"))\\\n",
    "    .orderBy(\"category_count\", ascending=False)\n",
    "\n",
    "\n",
    "#window = Window.partitionBy(\"age_group\").orderBy(\"category_count\")\n",
    "#most_pop_cat_df = most_pop_cat_df.withColumn(\"category_count\", rank().over(window))\n",
    "\n",
    "#most_pop_cat_df = most_pop_cat_df.groupBy(\"age_group\",\"category\") \\\n",
    "  #  .agg(F.max(\"category_count\").alias(\"max_category_count\")) \\\n",
    "   # .orderBy(\"max_category_count\", ascending=False)\n",
    "\n",
    "# Print the new DataFrame\n",
    "display(most_pop_cat_df)"
   ]
  },
  {
   "cell_type": "code",
   "execution_count": null,
   "metadata": {
    "application/vnd.databricks.v1+cell": {
     "cellMetadata": {
      "byteLimit": 2048000,
      "rowLimit": 10000
     },
     "inputWidgets": {},
     "nuid": "5c79d179-cee7-456f-a69d-c17ca62eaac4",
     "showTitle": false,
     "title": ""
    }
   },
   "outputs": [
    {
     "data": {
      "text/html": [
       "<style scoped>\n",
       "  .table-result-container {\n",
       "    max-height: 300px;\n",
       "    overflow: auto;\n",
       "  }\n",
       "  table, th, td {\n",
       "    border: 1px solid black;\n",
       "    border-collapse: collapse;\n",
       "  }\n",
       "  th, td {\n",
       "    padding: 5px;\n",
       "  }\n",
       "  th {\n",
       "    text-align: left;\n",
       "  }\n",
       "</style><div class='table-result-container'><table class='table-result'><thead style='background-color: white'><tr><th>age_group</th><th>median_follower_count</th></tr></thead><tbody><tr><td>45+</td><td>3000</td></tr><tr><td>35-44</td><td>6000</td></tr><tr><td>25-34</td><td>24000</td></tr><tr><td>18-24</td><td>104000</td></tr></tbody></table></div>"
      ]
     },
     "metadata": {
      "application/vnd.databricks.v1+output": {
       "addedWidgets": {},
       "aggData": [],
       "aggError": "",
       "aggOverflow": false,
       "aggSchema": [],
       "aggSeriesLimitReached": false,
       "aggType": "",
       "arguments": {},
       "columnCustomDisplayInfos": {},
       "data": [
        [
         "45+",
         3000
        ],
        [
         "35-44",
         6000
        ],
        [
         "25-34",
         24000
        ],
        [
         "18-24",
         104000
        ]
       ],
       "datasetInfos": [],
       "dbfsResultPath": null,
       "isJsonSchema": true,
       "metadata": {},
       "overflow": false,
       "plotOptions": {
        "customPlotOptions": {},
        "displayType": "table",
        "pivotAggregation": null,
        "pivotColumns": null,
        "xColumns": null,
        "yColumns": null
       },
       "removedWidgets": [],
       "schema": [
        {
         "metadata": "{}",
         "name": "age_group",
         "type": "\"string\""
        },
        {
         "metadata": "{}",
         "name": "median_follower_count",
         "type": "\"integer\""
        }
       ],
       "type": "table"
      }
     },
     "output_type": "display_data"
    }
   ],
   "source": [
    "#Find the median followers per age group\n",
    "\n",
    "# Find the most popular catgory for different age groups\n",
    "most_med_followers_per_agegroup = cleaned_pin_df.alias(\"pin\") \\\n",
    "    .join(cleaned_user_df.alias(\"user\"), [\"ind\"], \"inner\")\n",
    "\n",
    "def map_age_to_group(age):\n",
    "    if age < 18:\n",
    "        return 'Under 18'\n",
    "    elif age < 25:\n",
    "        return '18-24'\n",
    "    elif age < 35:\n",
    "        return '25-34'\n",
    "    elif age < 45:\n",
    "        return '35-44'\n",
    "    else:\n",
    "        return '45+'\n",
    "\n",
    "# Define a UDF to apply the map_age_to_group function to the age column\n",
    "map_age_to_group_udf = udf(map_age_to_group, StringType())\n",
    "\n",
    "# Add a new column called age_group to the DataFrame\n",
    "most_med_followers_per_agegroup = most_med_followers_per_agegroup.withColumn('age_group', map_age_to_group_udf(most_med_followers_per_agegroup['age']))\n",
    "\n",
    "most_med_followers_per_agegroup = most_med_followers_per_agegroup.groupBy(\"age_group\") \\\n",
    "    .agg(F.expr(\"percentile_approx(follower_count, 0.5)\").alias(\"median_follower_count\"))\n",
    "    \n",
    "display(most_med_followers_per_agegroup)"
   ]
  },
  {
   "cell_type": "code",
   "execution_count": null,
   "metadata": {
    "application/vnd.databricks.v1+cell": {
     "cellMetadata": {
      "byteLimit": 2048000,
      "rowLimit": 10000
     },
     "inputWidgets": {},
     "nuid": "94ef6019-9a00-4075-8fc8-914ab92c26d7",
     "showTitle": false,
     "title": ""
    }
   },
   "outputs": [
    {
     "data": {
      "text/html": [
       "<style scoped>\n",
       "  .table-result-container {\n",
       "    max-height: 300px;\n",
       "    overflow: auto;\n",
       "  }\n",
       "  table, th, td {\n",
       "    border: 1px solid black;\n",
       "    border-collapse: collapse;\n",
       "  }\n",
       "  th, td {\n",
       "    padding: 5px;\n",
       "  }\n",
       "  th {\n",
       "    text-align: left;\n",
       "  }\n",
       "</style><div class='table-result-container'><table class='table-result'><thead style='background-color: white'><tr><th>year</th><th>total_count</th></tr></thead><tbody><tr><td>2016</td><td>722</td></tr><tr><td>2015</td><td>704</td></tr><tr><td>2017</td><td>252</td></tr></tbody></table></div>"
      ]
     },
     "metadata": {
      "application/vnd.databricks.v1+output": {
       "addedWidgets": {},
       "aggData": [],
       "aggError": "",
       "aggOverflow": false,
       "aggSchema": [],
       "aggSeriesLimitReached": false,
       "aggType": "",
       "arguments": {},
       "columnCustomDisplayInfos": {},
       "data": [
        [
         2016,
         722
        ],
        [
         2015,
         704
        ],
        [
         2017,
         252
        ]
       ],
       "datasetInfos": [],
       "dbfsResultPath": null,
       "isJsonSchema": true,
       "metadata": {},
       "overflow": false,
       "plotOptions": {
        "customPlotOptions": {},
        "displayType": "table",
        "pivotAggregation": null,
        "pivotColumns": null,
        "xColumns": null,
        "yColumns": null
       },
       "removedWidgets": [],
       "schema": [
        {
         "metadata": "{}",
         "name": "year",
         "type": "\"integer\""
        },
        {
         "metadata": "{}",
         "name": "total_count",
         "type": "\"long\""
        }
       ],
       "type": "table"
      }
     },
     "output_type": "display_data"
    }
   ],
   "source": [
    "#Find how many users have joined between 2015 and 2020.\n",
    "\n",
    "from pyspark.sql.functions import year, col, count\n",
    "\n",
    "users_joined = cleaned_geo_df.alias(\"geo\") \\\n",
    "    .join(cleaned_user_df.alias(\"user\"), [\"ind\"], \"inner\") \\\n",
    "    .withColumn(\"year\", year(col(\"user.date_joined\"))) \\\n",
    "    .filter(year(col(\"user.date_joined\")).between(2015, 2021)) \\\n",
    "    .groupBy(\"year\") \\\n",
    "    .agg(count(\"user_name\").alias(\"total_count\")) \\\n",
    "    .orderBy(\"total_count\", ascending=False)\n",
    "\n",
    "display(users_joined)"
   ]
  },
  {
   "cell_type": "code",
   "execution_count": null,
   "metadata": {
    "application/vnd.databricks.v1+cell": {
     "cellMetadata": {
      "byteLimit": 2048000,
      "rowLimit": 10000
     },
     "inputWidgets": {},
     "nuid": "4256772c-4fc1-469a-b941-9a7b7cfed8f6",
     "showTitle": false,
     "title": ""
    }
   },
   "outputs": [
    {
     "data": {
      "text/html": [
       "<style scoped>\n",
       "  .ansiout {\n",
       "    display: block;\n",
       "    unicode-bidi: embed;\n",
       "    white-space: pre-wrap;\n",
       "    word-wrap: break-word;\n",
       "    word-break: break-all;\n",
       "    font-family: \"Menlo\", \"Monaco\", \"Consolas\", \"Ubuntu Mono\", \"Source Code Pro\", monospace;\n",
       "    font-size: 13px;\n",
       "    color: #555;\n",
       "    margin-left: 4px;\n",
       "    line-height: 19px;\n",
       "  }\n",
       "</style>\n",
       "<div class=\"ansiout\"></div>"
      ]
     },
     "metadata": {
      "application/vnd.databricks.v1+output": {
       "addedWidgets": {},
       "arguments": {},
       "data": "<div class=\"ansiout\"></div>",
       "datasetInfos": [],
       "metadata": {},
       "removedWidgets": [],
       "type": "html"
      }
     },
     "output_type": "display_data"
    },
    {
     "data": {
      "text/html": [
       "<style scoped>\n",
       "  .ansiout {\n",
       "    display: block;\n",
       "    unicode-bidi: embed;\n",
       "    white-space: pre-wrap;\n",
       "    word-wrap: break-word;\n",
       "    word-break: break-all;\n",
       "    font-family: \"Menlo\", \"Monaco\", \"Consolas\", \"Ubuntu Mono\", \"Source Code Pro\", monospace;\n",
       "    font-size: 13px;\n",
       "    color: #555;\n",
       "    margin-left: 4px;\n",
       "    line-height: 19px;\n",
       "  }\n",
       "</style>\n",
       "<div class=\"ansiout\"><span class=\"ansi-red-fg\">---------------------------------------------------------------------------</span>\n",
       "<span class=\"ansi-red-fg\">TypeError</span>                                 Traceback (most recent call last)\n",
       "<span class=\"ansi-green-fg\">&lt;command-1143679294347510&gt;</span> in <span class=\"ansi-cyan-fg\">&lt;module&gt;</span>\n",
       "<span class=\"ansi-green-intense-fg ansi-bold\">     11</span>     <span class=\"ansi-blue-fg\">.</span>orderBy<span class=\"ansi-blue-fg\">(</span><span class=\"ansi-blue-fg\">&#34;user_name_count&#34;</span><span class=\"ansi-blue-fg\">,</span> ascending<span class=\"ansi-blue-fg\">=</span><span class=\"ansi-green-fg\">False</span><span class=\"ansi-blue-fg\">)</span>\n",
       "<span class=\"ansi-green-intense-fg ansi-bold\">     12</span> \n",
       "<span class=\"ansi-green-fg\">---&gt; 13</span><span class=\"ansi-red-fg\"> </span>users_joined_df<span class=\"ansi-blue-fg\">=</span>users_joined_df<span class=\"ansi-blue-fg\">(</span><span class=\"ansi-blue-fg\">&#34;user_name_count&#34;</span><span class=\"ansi-blue-fg\">,</span> col<span class=\"ansi-blue-fg\">(</span><span class=\"ansi-blue-fg\">&#34;user_name_count&#34;</span><span class=\"ansi-blue-fg\">)</span><span class=\"ansi-blue-fg\">.</span>cast<span class=\"ansi-blue-fg\">(</span>IntegerType<span class=\"ansi-blue-fg\">(</span><span class=\"ansi-blue-fg\">)</span><span class=\"ansi-blue-fg\">)</span><span class=\"ansi-blue-fg\">)</span>\n",
       "<span class=\"ansi-green-intense-fg ansi-bold\">     14</span> users_joined_df <span class=\"ansi-blue-fg\">=</span> users_joined<span class=\"ansi-blue-fg\">.</span>groupBy<span class=\"ansi-blue-fg\">(</span><span class=\"ansi-blue-fg\">&#34;year&#34;</span><span class=\"ansi-blue-fg\">)</span><span class=\"ansi-red-fg\"> </span><span class=\"ansi-red-fg\">\\</span>\n",
       "<span class=\"ansi-green-intense-fg ansi-bold\">     15</span> <span class=\"ansi-blue-fg\">.</span>agg<span class=\"ansi-blue-fg\">(</span><span class=\"ansi-blue-fg\">&#34;user_name_count&#34;</span><span class=\"ansi-blue-fg\">.</span>median<span class=\"ansi-blue-fg\">(</span><span class=\"ansi-blue-fg\">)</span><span class=\"ansi-blue-fg\">)</span>\n",
       "\n",
       "<span class=\"ansi-red-fg\">TypeError</span>: &#39;DataFrame&#39; object is not callable</div>"
      ]
     },
     "metadata": {
      "application/vnd.databricks.v1+output": {
       "arguments": {},
       "data": "<div class=\"ansiout\"><span class=\"ansi-red-fg\">---------------------------------------------------------------------------</span>\n<span class=\"ansi-red-fg\">TypeError</span>                                 Traceback (most recent call last)\n<span class=\"ansi-green-fg\">&lt;command-1143679294347510&gt;</span> in <span class=\"ansi-cyan-fg\">&lt;module&gt;</span>\n<span class=\"ansi-green-intense-fg ansi-bold\">     11</span>     <span class=\"ansi-blue-fg\">.</span>orderBy<span class=\"ansi-blue-fg\">(</span><span class=\"ansi-blue-fg\">&#34;user_name_count&#34;</span><span class=\"ansi-blue-fg\">,</span> ascending<span class=\"ansi-blue-fg\">=</span><span class=\"ansi-green-fg\">False</span><span class=\"ansi-blue-fg\">)</span>\n<span class=\"ansi-green-intense-fg ansi-bold\">     12</span> \n<span class=\"ansi-green-fg\">---&gt; 13</span><span class=\"ansi-red-fg\"> </span>users_joined_df<span class=\"ansi-blue-fg\">=</span>users_joined_df<span class=\"ansi-blue-fg\">(</span><span class=\"ansi-blue-fg\">&#34;user_name_count&#34;</span><span class=\"ansi-blue-fg\">,</span> col<span class=\"ansi-blue-fg\">(</span><span class=\"ansi-blue-fg\">&#34;user_name_count&#34;</span><span class=\"ansi-blue-fg\">)</span><span class=\"ansi-blue-fg\">.</span>cast<span class=\"ansi-blue-fg\">(</span>IntegerType<span class=\"ansi-blue-fg\">(</span><span class=\"ansi-blue-fg\">)</span><span class=\"ansi-blue-fg\">)</span><span class=\"ansi-blue-fg\">)</span>\n<span class=\"ansi-green-intense-fg ansi-bold\">     14</span> users_joined_df <span class=\"ansi-blue-fg\">=</span> users_joined<span class=\"ansi-blue-fg\">.</span>groupBy<span class=\"ansi-blue-fg\">(</span><span class=\"ansi-blue-fg\">&#34;year&#34;</span><span class=\"ansi-blue-fg\">)</span><span class=\"ansi-red-fg\"> </span><span class=\"ansi-red-fg\">\\</span>\n<span class=\"ansi-green-intense-fg ansi-bold\">     15</span> <span class=\"ansi-blue-fg\">.</span>agg<span class=\"ansi-blue-fg\">(</span><span class=\"ansi-blue-fg\">&#34;user_name_count&#34;</span><span class=\"ansi-blue-fg\">.</span>median<span class=\"ansi-blue-fg\">(</span><span class=\"ansi-blue-fg\">)</span><span class=\"ansi-blue-fg\">)</span>\n\n<span class=\"ansi-red-fg\">TypeError</span>: &#39;DataFrame&#39; object is not callable</div>",
       "errorSummary": "<span class=\"ansi-red-fg\">TypeError</span>: &#39;DataFrame&#39; object is not callable",
       "errorTraceType": "html",
       "metadata": {},
       "type": "ipynbError"
      }
     },
     "output_type": "display_data"
    }
   ],
   "source": [
    "import pandas as pd\n",
    "\n",
    "#Find the median follower count of users have joined between 2015 and 2020.#go over\n",
    "from pyspark.sql.functions import percentile_approx\n",
    "users_joined = cleaned_geo_df.alias(\"geo\") \\\n",
    "    .join(cleaned_user_df.alias(\"user\"), [\"ind\"], \"inner\") \\\n",
    "    .withColumn(\"year\", year(col(\"user.date_joined\"))) \\\n",
    "    .filter(year(col(\"user.date_joined\")).between(2015, 2021)) \\\n",
    "    .groupBy(\"year\") \\\n",
    "    .agg(count(\"*\").alias(\"user_name_count\"))\\\n",
    "    .orderBy(\"user_name_count\", ascending=False)\n",
    "\n",
    "users_joined_df=users_joined_df(\"user_name_count\", col(\"user_name_count\").cast(IntegerType()))\n",
    "users_joined_df = users_joined.groupBy(\"year\") \\\n",
    ".agg(\"user_name_count\".median())\n",
    "\n",
    "# Calculate the median follower count for the entire period\n",
    "users_joined_df = users_joined_df.selectExpr(\"percentile_approx(follower_count, 0.5) as median_follower_count\")\n",
    "\n",
    "\n",
    "\n",
    "display(users_joined)"
   ]
  },
  {
   "cell_type": "code",
   "execution_count": null,
   "metadata": {
    "application/vnd.databricks.v1+cell": {
     "cellMetadata": {
      "byteLimit": 2048000,
      "rowLimit": 10000
     },
     "inputWidgets": {},
     "nuid": "47d72345-8cbb-41d0-a3c6-f5c5eb5e8d10",
     "showTitle": false,
     "title": ""
    }
   },
   "outputs": [
    {
     "data": {
      "text/html": [
       "<style scoped>\n",
       "  .ansiout {\n",
       "    display: block;\n",
       "    unicode-bidi: embed;\n",
       "    white-space: pre-wrap;\n",
       "    word-wrap: break-word;\n",
       "    word-break: break-all;\n",
       "    font-family: \"Menlo\", \"Monaco\", \"Consolas\", \"Ubuntu Mono\", \"Source Code Pro\", monospace;\n",
       "    font-size: 13px;\n",
       "    color: #555;\n",
       "    margin-left: 4px;\n",
       "    line-height: 19px;\n",
       "  }\n",
       "</style>\n",
       "<div class=\"ansiout\">+---------+---------------------+\n",
       "post_year|median_follower_count|\n",
       "+---------+---------------------+\n",
       "     2018|                  316|\n",
       "     2022|                  283|\n",
       "     2019|                  285|\n",
       "     2020|                  390|\n",
       "     2021|                  341|\n",
       "     2017|                   63|\n",
       "+---------+---------------------+\n",
       "\n",
       "</div>"
      ]
     },
     "metadata": {
      "application/vnd.databricks.v1+output": {
       "addedWidgets": {},
       "arguments": {},
       "data": "<div class=\"ansiout\">+---------+---------------------+\n|post_year|median_follower_count|\n+---------+---------------------+\n|     2018|                  316|\n|     2022|                  283|\n|     2019|                  285|\n|     2020|                  390|\n|     2021|                  341|\n|     2017|                   63|\n+---------+---------------------+\n\n</div>",
       "datasetInfos": [],
       "metadata": {},
       "removedWidgets": [],
       "type": "html"
      }
     },
     "output_type": "display_data"
    }
   ],
   "source": [
    "#Find the median follower count of users have joined between 2015 and 2020.\n",
    "\n",
    "from pyspark.sql.functions import year, count, percentile_approx\n",
    "\n",
    "# Filter data to include only users who joined between 2015 and 2020\n",
    "filtered_users_df = cleaned_geo_df.alias(\"geo\") \\\n",
    "    .join(cleaned_user_df.alias(\"user\"), [\"ind\"], \"inner\") \\\n",
    "    .filter(year(\"user.date_joined\").between(2015, 2020))\n",
    "\n",
    "# Extract year from the timestamp column\n",
    "filtered_users_df = filtered_users_df.withColumn(\"post_year\", year(\"geo.timestamp\"))\n",
    "\n",
    "filtered_users_df = filtered_users_df.groupBy( \"post_year\") \\\n",
    "    .agg(count(\"*\").alias(\"follower_count\"))\n",
    "\n",
    "filtered_users_df = filtered_users_df.groupBy(\"post_year\") \\\n",
    "    .agg(expr(\"percentile_approx(follower_count, 0.5)\").alias(\"median_follower_count\"))\n",
    "\n",
    "# Show the result\n",
    "filtered_users_df.show()\n",
    "\n"
   ]
  },
  {
   "cell_type": "code",
   "execution_count": null,
   "metadata": {
    "application/vnd.databricks.v1+cell": {
     "cellMetadata": {
      "byteLimit": 2048000,
      "rowLimit": 10000
     },
     "inputWidgets": {},
     "nuid": "f1bbcc09-3c4e-464c-93b3-30f032bc0a28",
     "showTitle": false,
     "title": ""
    }
   },
   "outputs": [
    {
     "data": {
      "text/html": [
       "<style scoped>\n",
       "  .ansiout {\n",
       "    display: block;\n",
       "    unicode-bidi: embed;\n",
       "    white-space: pre-wrap;\n",
       "    word-wrap: break-word;\n",
       "    word-break: break-all;\n",
       "    font-family: \"Menlo\", \"Monaco\", \"Consolas\", \"Ubuntu Mono\", \"Source Code Pro\", monospace;\n",
       "    font-size: 13px;\n",
       "    color: #555;\n",
       "    margin-left: 4px;\n",
       "    line-height: 19px;\n",
       "  }\n",
       "</style>\n",
       "<div class=\"ansiout\">+---------+---------+---------------------+\n",
       "age_group|post_year|median_follower_count|\n",
       "+---------+---------+---------------------+\n",
       "    35-44|     2021|                   54|\n",
       "    25-34|     2019|                   87|\n",
       "      45+|     2020|                   46|\n",
       "    18-24|     2021|                  156|\n",
       "      45+|     2019|                   41|\n",
       "    25-34|     2020|                   91|\n",
       "    35-44|     2022|                   37|\n",
       "    25-34|     2022|                   73|\n",
       "    25-34|     2021|                   89|\n",
       "    35-44|     2019|                   53|\n",
       "    18-24|     2019|                  104|\n",
       "    18-24|     2022|                  138|\n",
       "    18-24|     2020|                  208|\n",
       "      45+|     2017|                    9|\n",
       "    18-24|     2018|                  144|\n",
       "    18-24|     2017|                   30|\n",
       "    35-44|     2020|                   45|\n",
       "      45+|     2021|                   42|\n",
       "    25-34|     2018|                   77|\n",
       "    35-44|     2018|                   45|\n",
       "+---------+---------+---------------------+\n",
       "only showing top 20 rows\n",
       "\n",
       "</div>"
      ]
     },
     "metadata": {
      "application/vnd.databricks.v1+output": {
       "addedWidgets": {},
       "arguments": {},
       "data": "<div class=\"ansiout\">+---------+---------+---------------------+\n|age_group|post_year|median_follower_count|\n+---------+---------+---------------------+\n|    35-44|     2021|                   54|\n|    25-34|     2019|                   87|\n|      45+|     2020|                   46|\n|    18-24|     2021|                  156|\n|      45+|     2019|                   41|\n|    25-34|     2020|                   91|\n|    35-44|     2022|                   37|\n|    25-34|     2022|                   73|\n|    25-34|     2021|                   89|\n|    35-44|     2019|                   53|\n|    18-24|     2019|                  104|\n|    18-24|     2022|                  138|\n|    18-24|     2020|                  208|\n|      45+|     2017|                    9|\n|    18-24|     2018|                  144|\n|    18-24|     2017|                   30|\n|    35-44|     2020|                   45|\n|      45+|     2021|                   42|\n|    25-34|     2018|                   77|\n|    35-44|     2018|                   45|\n+---------+---------+---------------------+\nonly showing top 20 rows\n\n</div>",
       "datasetInfos": [],
       "metadata": {},
       "removedWidgets": [],
       "type": "html"
      }
     },
     "output_type": "display_data"
    }
   ],
   "source": [
    "#Find the median follower count of users that have joined between 2015 and 2020, based on which age group they are part of.\n",
    "from pyspark.sql.functions import year, count, expr, percentile_approx, col, when\n",
    "\n",
    "# Filter data to include only users who joined between 2015 and 2020\n",
    "filtered_users_df = cleaned_geo_df.alias(\"geo\") \\\n",
    "    .join(cleaned_user_df.alias(\"user\"), [\"ind\"], \"inner\") \\\n",
    "    .filter(year(\"user.date_joined\").between(2015, 2020))\n",
    "\n",
    "# Map the age to corresponding age groups\n",
    "def map_age_to_group(age):\n",
    "    if age < 18:\n",
    "        return 'Under 18'\n",
    "    elif age < 25:\n",
    "        return '18-24'\n",
    "    elif age < 35:\n",
    "        return '25-34'\n",
    "    elif age < 45:\n",
    "        return '35-44'\n",
    "    else:\n",
    "        return '45+'\n",
    "\n",
    "map_age_to_group_udf = udf(map_age_to_group, StringType())\n",
    "filtered_users_df = filtered_users_df.withColumn('age_group', map_age_to_group_udf(filtered_users_df['age']))\n",
    "\n",
    "# Extract year from the timestamp column\n",
    "filtered_users_df = filtered_users_df.withColumn('post_year', year(\"geo.timestamp\"))\n",
    "\n",
    "# Group by age group and year, calculate follower count for each group\n",
    "follower_counts_df = filtered_users_df.groupBy(\"age_group\", \"post_year\") \\\n",
    "    .agg(count(\"*\").alias(\"follower_count\"))\n",
    "\n",
    "# Calculate the median follower count for each age group and year combination\n",
    "median_follower_count_df = follower_counts_df.groupBy(\"age_group\", \"post_year\") \\\n",
    "    .agg(expr(\"percentile_approx(follower_count, 0.5)\").alias(\"median_follower_count\"))\n",
    "\n",
    "# Show the result\n",
    "median_follower_count_df.show()\n"
   ]
  }
 ],
 "metadata": {
  "application/vnd.databricks.v1+notebook": {
   "dashboards": [],
   "language": "python",
   "notebookMetadata": {
    "mostRecentlyExecutedCommandWithImplicitDF": {
     "commandId": 3709791264464074,
     "dataframes": [
      "_sqldf"
     ]
    },
    "pythonIndentUnit": 4
   },
   "notebookName": "Pinterest Pipeline Data",
   "widgets": {}
  },
  "language_info": {
   "name": "python"
  }
 },
 "nbformat": 4,
 "nbformat_minor": 0
}
